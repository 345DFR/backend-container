{
 "metadata": {
  "name": "",
  "signature": "sha256:4e98ce571a9ed475871202e259beec9b216063f96787e47532e3ec9f25ccd364"
 },
 "nbformat": 3,
 "nbformat_minor": 0,
 "worksheets": [
  {
   "cells": [
    {
     "cell_type": "markdown",
     "metadata": {},
     "source": [
      "# JavaScript UDFs\n",
      "\n",
      "Bringing together python, SQL and JavaScript..."
     ]
    },
    {
     "cell_type": "code",
     "collapsed": false,
     "input": [
      "import gcp\n",
      "import gcp.interactive\n",
      "import gcp.bigquery as bq"
     ],
     "language": "python",
     "metadata": {},
     "outputs": [],
     "prompt_number": 1
    },
    {
     "cell_type": "markdown",
     "metadata": {},
     "source": [
      "## GPS Logs\n",
      "From uber ... lat/lon coordinates in each row."
     ]
    },
    {
     "cell_type": "code",
     "collapsed": false,
     "input": [
      "%%bq_sql\n",
      "SELECT lat, lon from [uberlogs.logs] LIMIT 3"
     ],
     "language": "python",
     "metadata": {},
     "outputs": [
      {
       "html": [
        "<div>Number of rows: 3</div><div>Query job ID  : job_Vuh_LDakMtYYeEK03_S437q9UcE</div><table><tr><th>lat</th><th>lon</th></tr><tr><td>37.759695</td><td>-122.392177</td></tr><tr><td>37.760557</td><td>-122.392241</td></tr><tr><td>37.761396</td><td>-122.392304</td></tr></table>"
       ],
       "metadata": {},
       "output_type": "pyout",
       "prompt_number": 2,
       "text": [
        "[{u'lat': 37.759695, u'lon': -122.392177},\n",
        " {u'lat': 37.760557, u'lon': -122.392241},\n",
        " {u'lat': 37.761396, u'lon': -122.392304}]"
       ]
      }
     ],
     "prompt_number": 2
    },
    {
     "cell_type": "markdown",
     "metadata": {},
     "source": [
      "## UDF written in regular JavaScript"
     ]
    },
    {
     "cell_type": "code",
     "collapsed": false,
     "input": [
      "%%bq_udf geohash\n",
      "/**\n",
      " * @param {{lat: float, lon: float}} r\n",
      " * @param function({{lat: float, lon: float, geohash: string}}) emitFn\n",
      " */\n",
      "function(r, emitFn) {\n",
      "  var geohash = Math.floor((r.lat*1000+0.5)/1000) + ':' +\n",
      "                Math.floor((r.lon*1000+0.5)/1000);\n",
      "  emitFn({lat: r.lat, lon: r.lon, geohash: geohash})\n",
      "}"
     ],
     "language": "python",
     "metadata": {},
     "outputs": [],
     "prompt_number": 3
    },
    {
     "cell_type": "markdown",
     "metadata": {},
     "source": [
      "### Test the UDF locally"
     ]
    },
    {
     "cell_type": "code",
     "collapsed": false,
     "input": [
      "geohash([{'lat':37.759695, 'lon':-122.392177}])"
     ],
     "language": "python",
     "metadata": {},
     "outputs": [
      {
       "html": [
        "\n",
        "    <div id=\"udf1408057133\"></div>\n",
        "    <script>\n",
        "    (function() {\n",
        "      var html = [];\n",
        "      var names = [];\n",
        "      var first = true;\n",
        "\n",
        "      function emitter(result) {\n",
        "        if (first) {\n",
        "          first = false;\n",
        "          html.push('<tr>')\n",
        "          for (var n in result) {\n",
        "            names.push(n);\n",
        "            html.push('<th>' + n + '</th>')\n",
        "          }\n",
        "          html.push('</tr>');\n",
        "        }\n",
        "\n",
        "        html.push('<tr>');\n",
        "        for (var i = 0; i < names.length; i++) {\n",
        "          var name = names[i];\n",
        "          var value = result[name] || '';\n",
        "          value = value.toString().replace(/&/g,'&amp;').replace(/</g, '&lt;').replace(/>/g, '&gt;');\n",
        "          html.push('<td>' + value + '</td>')\n",
        "        }\n",
        "        html.push('</tr>');\n",
        "      }\n",
        "\n",
        "      udf = /**\n",
        " * @param {{lat: float, lon: float}} r\n",
        " * @param function({{lat: float, lon: float, geohash: string}}) emitFn\n",
        " */\n",
        "function(r, emitFn) {\n",
        "  var geohash = Math.floor((r.lat*1000+0.5)/1000) + ':' +\n",
        "                Math.floor((r.lon*1000+0.5)/1000);\n",
        "  emitFn({lat: r.lat, lon: r.lon, geohash: geohash})\n",
        "};\n",
        "\n",
        "      setTimeout(function() {\n",
        "        html.push('<table>');\n",
        "\n",
        "        var data = [{\"lat\": 37.759695, \"lon\": -122.392177}];\n",
        "        data.forEach(function(row) { udf(row, emitter); });\n",
        "\n",
        "        html.push('</table>')\n",
        "\n",
        "        resultsElement = document.getElementById('udf1408057133');\n",
        "        resultsElement.innerHTML = html.join('');\n",
        "      }, 0);\n",
        "    })();\n",
        "    </script>\n",
        "    "
       ],
       "metadata": {},
       "output_type": "pyout",
       "prompt_number": 4,
       "text": [
        "<gcp.bigquery._udf.FunctionEvaluation at 0x1082a20d0>"
       ]
      }
     ],
     "prompt_number": 4
    },
    {
     "cell_type": "markdown",
     "metadata": {},
     "source": [
      "### Apply the UDF in an actual query sent to BigQuery"
     ]
    },
    {
     "cell_type": "code",
     "collapsed": false,
     "input": [
      "%%bq_sql logs\n",
      "SELECT lat, lon from [uberlogs.logs] LIMIT 5"
     ],
     "language": "python",
     "metadata": {},
     "outputs": [],
     "prompt_number": 5
    },
    {
     "cell_type": "code",
     "collapsed": false,
     "input": [
      "hashed_logs = geohash(logs)"
     ],
     "language": "python",
     "metadata": {},
     "outputs": [],
     "prompt_number": 6
    },
    {
     "cell_type": "code",
     "collapsed": false,
     "input": [
      "print hashed_logs.sql"
     ],
     "language": "python",
     "metadata": {},
     "outputs": [
      {
       "output_type": "stream",
       "stream": "stdout",
       "text": [
        "js((SELECT lat, lon from [uberlogs.logs] LIMIT 5),\n",
        "lat,lon,\n",
        "'[{\"name\": \"lat\", \"type\": \"float\"}, {\"name\": \"lon\", \"type\": \"float\"}, {\"name\": \"geohash\", \"type\": \"string\"}]',\n",
        "\"/**\n",
        " * @param {{lat: float, lon: float}} r\n",
        " * @param function({{lat: float, lon: float, geohash: string}}) emitFn\n",
        " */\n",
        "function(r, emitFn) {\n",
        "  var geohash = Math.floor((r.lat*1000+0.5)/1000) + ':' +\n",
        "                Math.floor((r.lon*1000+0.5)/1000);\n",
        "  emitFn({lat: r.lat, lon: r.lon, geohash: geohash})\n",
        "}\")\n"
       ]
      }
     ],
     "prompt_number": 7
    },
    {
     "cell_type": "code",
     "collapsed": false,
     "input": [
      "%%bq_sql\n",
      "SELECT lat, lon, geohash FROM $hashed_logs"
     ],
     "language": "python",
     "metadata": {},
     "outputs": [
      {
       "html": [
        "<div>Number of rows: 5</div><div>Query job ID  : job_o5IIVHkYUZgZ58DdvdaghsDuU_Q</div><table><tr><th>lat</th><th>geohash</th><th>lon</th></tr><tr><td>37.759695</td><td>37:-123</td><td>-122.392177</td></tr><tr><td>37.760557</td><td>37:-123</td><td>-122.392241</td></tr><tr><td>37.761396</td><td>37:-123</td><td>-122.392304</td></tr><tr><td>37.762165</td><td>37:-123</td><td>-122.392305</td></tr><tr><td>37.762916</td><td>37:-123</td><td>-122.392351</td></tr></table>"
       ],
       "metadata": {},
       "output_type": "pyout",
       "prompt_number": 8,
       "text": [
        "[{u'geohash': u'37:-123', u'lat': 37.759695, u'lon': -122.392177},\n",
        " {u'geohash': u'37:-123', u'lat': 37.760557, u'lon': -122.392241},\n",
        " {u'geohash': u'37:-123', u'lat': 37.761396, u'lon': -122.392304},\n",
        " {u'geohash': u'37:-123', u'lat': 37.762165, u'lon': -122.392305},\n",
        " {u'geohash': u'37:-123', u'lat': 37.762916, u'lon': -122.392351}]"
       ]
      }
     ],
     "prompt_number": 8
    },
    {
     "cell_type": "code",
     "collapsed": false,
     "input": [],
     "language": "python",
     "metadata": {},
     "outputs": []
    }
   ],
   "metadata": {}
  }
 ]
}