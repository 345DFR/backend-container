{
 "metadata": {
  "name": "",
  "signature": "sha256:0446fe027138172e25606edee8d90f66a6034459cc2cc6e36b14eabd4f233186"
 },
 "nbformat": 3,
 "nbformat_minor": 0,
 "worksheets": [
  {
   "cells": [
    {
     "cell_type": "markdown",
     "metadata": {},
     "source": [
      "# GPS Stream to Heatmap\n",
      "\n",
      "This notebook works against a set of anonimized taxi location logs provided by Uber to determine hotspots in the city of SFO. These logs have been uploaded into BigQuery, and are accessed using SQL in the notebook.\n",
      "\n",
      "You can read more about the dataset at http://www.infochimps.com/datasets/uber-anonymized-gps-logs.\n",
      "\n",
      "This demonstrates using the new BigQuery JavaScript UDF feature to compute geohashes (code from https://github.com/sunng87/node-geohash), as well as use of JavaScript to invoke the Google Maps API in presenting results within the notebook."
     ]
    },
    {
     "cell_type": "code",
     "collapsed": false,
     "input": [
      "import gcp.bigquery as bq\n",
      "import gcp.interactive\n",
      "import json\n",
      "from IPython.core.display import HTML"
     ],
     "language": "python",
     "metadata": {},
     "outputs": [],
     "prompt_number": 1
    },
    {
     "cell_type": "markdown",
     "metadata": {},
     "source": [
      "## Data Exploration\n",
      "\n",
      "Lets start by looking at the schema of the logs, and issuing a SQL query to get a sampling of the logs."
     ]
    },
    {
     "cell_type": "code",
     "collapsed": false,
     "input": [
      "gps_logs = bq.table('uberlogs.logs')"
     ],
     "language": "python",
     "metadata": {},
     "outputs": [],
     "prompt_number": 2
    },
    {
     "cell_type": "code",
     "collapsed": false,
     "input": [
      "gps_logs.schema()"
     ],
     "language": "python",
     "metadata": {},
     "outputs": [
      {
       "html": [
        "<table><tr><th>name</th><th>data_type</th><th>mode</th><th>description</th></tr><tr><td>trip</td><td>INTEGER</td><td>NULLABLE</td><td></td></tr><tr><td>timestamp</td><td>TIMESTAMP</td><td>NULLABLE</td><td></td></tr><tr><td>lat</td><td>FLOAT</td><td>NULLABLE</td><td></td></tr><tr><td>lon</td><td>FLOAT</td><td>NULLABLE</td><td></td></tr></table>"
       ],
       "metadata": {},
       "output_type": "pyout",
       "prompt_number": 3,
       "text": [
        "[<gcp.bigquery._table._Field at 0x108253f90>,\n",
        " <gcp.bigquery._table._Field at 0x108253f50>,\n",
        " <gcp.bigquery._table._Field at 0x108253dd0>,\n",
        " <gcp.bigquery._table._Field at 0x108253c90>]"
       ]
      }
     ],
     "prompt_number": 3
    },
    {
     "cell_type": "code",
     "collapsed": false,
     "input": [
      "gps_logs.sample(count=2)"
     ],
     "language": "python",
     "metadata": {},
     "outputs": [
      {
       "html": [
        "<div>Number of rows: 2</div><div>Query job ID  : job_ONKfGZLCHSQN7ReGx1MhUp6cHy8</div><table><tr><th>lat</th><th>timestamp</th><th>lon</th><th>trip</th></tr><tr><td>37.759695</td><td>2007-01-07 02:52:34</td><td>-122.392177</td><td>22095</td></tr><tr><td>37.760557</td><td>2007-01-07 02:52:38</td><td>-122.392241</td><td>22095</td></tr></table>"
       ],
       "metadata": {},
       "output_type": "pyout",
       "prompt_number": 4,
       "text": [
        "[{u'lat': 37.759695,\n",
        "  u'lon': -122.392177,\n",
        "  u'timestamp': datetime.datetime(2007, 1, 7, 2, 52, 34),\n",
        "  u'trip': 22095},\n",
        " {u'lat': 37.760557,\n",
        "  u'lon': -122.392241,\n",
        "  u'timestamp': datetime.datetime(2007, 1, 7, 2, 52, 38),\n",
        "  u'trip': 22095}]"
       ]
      }
     ],
     "prompt_number": 4
    },
    {
     "cell_type": "markdown",
     "metadata": {},
     "source": [
      "## Spatial Aggregation\n",
      "As you'll notice, the GPS logs have discrete latitude/longitude coordinates. As such they don't group well... we need to come up with a key to group the individual entries. Location coordinates need to be geo-hashed.\n",
      "\n",
      "JavaScript UDFs make it possible to use geo-hashing in SQL statements."
     ]
    },
    {
     "cell_type": "code",
     "collapsed": false,
     "input": [
      "%%bq_udf geohasher\n",
      "/**\n",
      " * Adds a geohash output column given rows with lat/lon pairs.\n",
      " * @param {{lat: float, lon: float, trip: integer}} row the input row.\n",
      " * @param function({{lat: float, lon: float, trip: integer, geohash: string}}) emitFn the function to emit results.\n",
      " */\n",
      "function(row, emitFn) {\n",
      "  var BASE32_CODES = '0123456789bcdefghjkmnpqrstuvwxyz';\n",
      "  var BASE32_CODES_DICT = {};\n",
      "  for (var i = 0; i < BASE32_CODES.length; i++) {\n",
      "    BASE32_CODES_DICT[BASE32_CODES.charAt(i)] = i;\n",
      "  }\n",
      "\n",
      "  function encode(latitude, longitude, numberOfChars) {\n",
      "    var chars = [],\n",
      "        bits = 0,\n",
      "        bitsTotal = 0,\n",
      "        hash_value = 0,\n",
      "        maxLat = 90,\n",
      "        minLat = -90,\n",
      "        maxLon = 180,\n",
      "        minLon = -180,\n",
      "        mid;\n",
      "\n",
      "    while (chars.length < numberOfChars) {\n",
      "      if (bitsTotal % 2 === 0) {\n",
      "        mid = (maxLon + minLon) / 2;\n",
      "        if (longitude > mid) {\n",
      "          hash_value = (hash_value << 1) + 1;\n",
      "          minLon = mid;\n",
      "        }\n",
      "        else {\n",
      "          hash_value = (hash_value << 1) + 0;\n",
      "          maxLon = mid;\n",
      "        }\n",
      "      }\n",
      "      else {\n",
      "        mid = (maxLat + minLat) / 2;\n",
      "        if (latitude > mid) {\n",
      "          hash_value = (hash_value << 1) + 1;\n",
      "          minLat = mid;\n",
      "        }\n",
      "        else {\n",
      "          hash_value = (hash_value << 1) + 0;\n",
      "          maxLat = mid;\n",
      "        }\n",
      "      }\n",
      "\n",
      "      bits++;\n",
      "      bitsTotal++;\n",
      "      if (bits === 5) {\n",
      "        var code = BASE32_CODES[hash_value];\n",
      "        chars.push(code);\n",
      "        bits = 0;\n",
      "        hash_value = 0;\n",
      "      }\n",
      "    }\n",
      "    return chars.join('');\n",
      "  };\n",
      "\n",
      "  emitFn({ lat: row.lat, lon: row.lon, trip: row.trip, geohash: encode(row.lat, row.lon, 6) });\n",
      "}"
     ],
     "language": "python",
     "metadata": {},
     "outputs": [],
     "prompt_number": 5
    },
    {
     "cell_type": "code",
     "collapsed": false,
     "input": [
      "%%bq_sql sampled_logs\n",
      "SELECT lat, lon, trip FROM $gps_logs WHERE ABS(HASH(trip)) % 1000 == 1 LIMIT 1000"
     ],
     "language": "python",
     "metadata": {},
     "outputs": [],
     "prompt_number": 6
    },
    {
     "cell_type": "code",
     "collapsed": false,
     "input": [
      "hashed_logs = geohasher(sampled_logs)"
     ],
     "language": "python",
     "metadata": {},
     "outputs": [],
     "prompt_number": 7
    },
    {
     "cell_type": "code",
     "collapsed": false,
     "input": [
      "%%bq_sql\n",
      "SELECT lat, lon, trip, geohash FROM $hashed_logs LIMIT 5"
     ],
     "language": "python",
     "metadata": {},
     "outputs": [
      {
       "html": [
        "<div>Number of rows: 5</div><div>Query job ID  : job_5Nt_ohbAnD5Vog7cOmRxkNwEL6Q</div><table><tr><th>lat</th><th>geohash</th><th>lon</th><th>trip</th></tr><tr><td>37.733823</td><td>9q8ywv</td><td>-122.396767</td><td>22435</td></tr><tr><td>37.579914</td><td>9q9jb3</td><td>-122.324852</td><td>24640</td></tr><tr><td>37.579728</td><td>9q9jb3</td><td>-122.32509</td><td>24640</td></tr><tr><td>37.579536</td><td>9q9jb3</td><td>-122.325382</td><td>24640</td></tr><tr><td>37.579325</td><td>9q9jb3</td><td>-122.325675</td><td>24640</td></tr></table>"
       ],
       "metadata": {},
       "output_type": "pyout",
       "prompt_number": 8,
       "text": [
        "[{u'geohash': u'9q8ywv',\n",
        "  u'lat': 37.733823,\n",
        "  u'lon': -122.396767,\n",
        "  u'trip': 22435},\n",
        " {u'geohash': u'9q9jb3',\n",
        "  u'lat': 37.579914,\n",
        "  u'lon': -122.324852,\n",
        "  u'trip': 24640},\n",
        " {u'geohash': u'9q9jb3',\n",
        "  u'lat': 37.579728,\n",
        "  u'lon': -122.32509,\n",
        "  u'trip': 24640},\n",
        " {u'geohash': u'9q9jb3',\n",
        "  u'lat': 37.579536,\n",
        "  u'lon': -122.325382,\n",
        "  u'trip': 24640},\n",
        " {u'geohash': u'9q9jb3',\n",
        "  u'lat': 37.579325,\n",
        "  u'lon': -122.325675,\n",
        "  u'trip': 24640}]"
       ]
      }
     ],
     "prompt_number": 8
    },
    {
     "cell_type": "markdown",
     "metadata": {},
     "source": [
      "## Aggregating\n",
      "\n",
      "Now that we have the geo-hash, we can use the standard grouping and aggregating functionality in SQL."
     ]
    },
    {
     "cell_type": "code",
     "collapsed": false,
     "input": [
      "%%bq_sql counts\n",
      "SELECT AVG(lat) AS lat, AVG(lon) AS lon, COUNT(trip) AS trips\n",
      "FROM $hashed_logs\n",
      "GROUP BY geohash"
     ],
     "language": "python",
     "metadata": {},
     "outputs": [],
     "prompt_number": 9
    },
    {
     "cell_type": "code",
     "collapsed": false,
     "input": [
      "counts.results().to_dataframe()[:5]"
     ],
     "language": "python",
     "metadata": {},
     "outputs": [
      {
       "html": [
        "<div style=\"max-height:1000px;max-width:1500px;overflow:auto;\">\n",
        "<table border=\"1\" class=\"dataframe\">\n",
        "  <thead>\n",
        "    <tr style=\"text-align: right;\">\n",
        "      <th></th>\n",
        "      <th>lat</th>\n",
        "      <th>lon</th>\n",
        "      <th>trips</th>\n",
        "    </tr>\n",
        "  </thead>\n",
        "  <tbody>\n",
        "    <tr>\n",
        "      <th>0</th>\n",
        "      <td> 37.785530</td>\n",
        "      <td>-122.389499</td>\n",
        "      <td> 27</td>\n",
        "    </tr>\n",
        "    <tr>\n",
        "      <th>1</th>\n",
        "      <td> 37.787354</td>\n",
        "      <td>-122.387656</td>\n",
        "      <td>  1</td>\n",
        "    </tr>\n",
        "    <tr>\n",
        "      <th>2</th>\n",
        "      <td> 37.790239</td>\n",
        "      <td>-122.392225</td>\n",
        "      <td> 31</td>\n",
        "    </tr>\n",
        "    <tr>\n",
        "      <th>3</th>\n",
        "      <td> 37.794921</td>\n",
        "      <td>-122.395022</td>\n",
        "      <td> 27</td>\n",
        "    </tr>\n",
        "    <tr>\n",
        "      <th>4</th>\n",
        "      <td> 37.799557</td>\n",
        "      <td>-122.397780</td>\n",
        "      <td>  4</td>\n",
        "    </tr>\n",
        "  </tbody>\n",
        "</table>\n",
        "</div>"
       ],
       "metadata": {},
       "output_type": "pyout",
       "prompt_number": 10,
       "text": [
        "         lat         lon  trips\n",
        "0  37.785530 -122.389499     27\n",
        "1  37.787354 -122.387656      1\n",
        "2  37.790239 -122.392225     31\n",
        "3  37.794921 -122.395022     27\n",
        "4  37.799557 -122.397780      4"
       ]
      }
     ],
     "prompt_number": 10
    },
    {
     "cell_type": "markdown",
     "metadata": {},
     "source": [
      "## Rendering\n",
      "\n",
      "Using JavaScript and Google Maps APIs to render a heatmap..."
     ]
    },
    {
     "cell_type": "code",
     "collapsed": false,
     "input": [
      "%%javascript\n",
      "window.createMap = function(e, data) {\n",
      "  window.loadMap = function() {\n",
      "    var mapOptions = {\n",
      "      center: new google.maps.LatLng(37.7805081,-122.4254151),\n",
      "      zoom: 13,\n",
      "      draggable: false,\n",
      "      scrollwheel: false\n",
      "    };\n",
      "\n",
      "    var map = new google.maps.Map(e, mapOptions);\n",
      "\n",
      "    var heatmapLocations = [];\n",
      "    for (var i = 0; i < data.length; i++) {\n",
      "      var spot = data[i];\n",
      "      var loc = {\n",
      "        location: new google.maps.LatLng(spot.lat, spot.lon),\n",
      "        weight: spot.trips\n",
      "      };\n",
      "      heatmapLocations.push(loc);\n",
      "    }\n",
      "    new google.maps.visualization.HeatmapLayer({\n",
      "      data: heatmapLocations,\n",
      "      dissipating: true,\n",
      "      radius: 16,\n",
      "      map: map\n",
      "    });\n",
      "  }\n",
      "\n",
      "  var url = 'http://maps.googleapis.com/maps/api/js?libraries=geometry,visualization&callback=loadMap';\n",
      "  var script = document.createElement('script');\n",
      "  script.type = 'text/javascript';\n",
      "  script.src = url;\n",
      "  document.getElementsByTagName('HEAD')[0].appendChild(script);\n",
      "}\n"
     ],
     "language": "python",
     "metadata": {},
     "outputs": [
      {
       "javascript": [
        "window.createMap = function(e, data) {\n",
        "  window.loadMap = function() {\n",
        "    var mapOptions = {\n",
        "      center: new google.maps.LatLng(37.7805081,-122.4254151),\n",
        "      zoom: 13,\n",
        "      draggable: false,\n",
        "      scrollwheel: false\n",
        "    };\n",
        "\n",
        "    var map = new google.maps.Map(e, mapOptions);\n",
        "\n",
        "    var heatmapLocations = [];\n",
        "    for (var i = 0; i < data.length; i++) {\n",
        "      var spot = data[i];\n",
        "      var loc = {\n",
        "        location: new google.maps.LatLng(spot.lat, spot.lon),\n",
        "        weight: spot.trips\n",
        "      };\n",
        "      heatmapLocations.push(loc);\n",
        "    }\n",
        "    new google.maps.visualization.HeatmapLayer({\n",
        "      data: heatmapLocations,\n",
        "      dissipating: true,\n",
        "      radius: 16,\n",
        "      map: map\n",
        "    });\n",
        "  }\n",
        "\n",
        "  var url = 'http://maps.googleapis.com/maps/api/js?libraries=geometry,visualization&callback=loadMap';\n",
        "  var script = document.createElement('script');\n",
        "  script.type = 'text/javascript';\n",
        "  script.src = url;\n",
        "  document.getElementsByTagName('HEAD')[0].appendChild(script);\n",
        "}"
       ],
       "metadata": {},
       "output_type": "display_data",
       "text": [
        "<IPython.core.display.Javascript at 0x108294210>"
       ]
      }
     ],
     "prompt_number": 11
    },
    {
     "cell_type": "code",
     "collapsed": false,
     "input": [
      "class HeatMap(object):\n",
      "    _HTML_TEMPLATE = \"\"\"\n",
      "    <div id=\"%s\" style=\"width: 100%%; height: 500px\"></div>\n",
      "    <script>\n",
      "    createMap(document.getElementById('%s'), %s);\n",
      "    </script>\n",
      "    \"\"\"\n",
      "\n",
      "    def render(self, id, data):\n",
      "        html = HeatMap._HTML_TEMPLATE % (id, id, json.dumps(data))\n",
      "        return HTML(html)"
     ],
     "language": "python",
     "metadata": {},
     "outputs": [],
     "prompt_number": 12
    },
    {
     "cell_type": "code",
     "collapsed": false,
     "input": [
      "map = HeatMap()\n",
      "map.render('activity_map', counts.results())"
     ],
     "language": "python",
     "metadata": {},
     "outputs": [
      {
       "html": [
        "\n",
        "    <div id=\"activity_map\" style=\"width: 100%; height: 500px\"></div>\n",
        "    <script>\n",
        "    createMap(document.getElementById('activity_map'), [{\"lat\": 37.78553014814815, \"lon\": -122.38949948148148, \"trips\": 27}, {\"lat\": 37.787354, \"lon\": -122.387656, \"trips\": 1}, {\"lat\": 37.79023880645162, \"lon\": -122.39222538709679, \"trips\": 31}, {\"lat\": 37.794920814814816, \"lon\": -122.39502151851853, \"trips\": 27}, {\"lat\": 37.7995565, \"lon\": -122.39778025, \"trips\": 4}, {\"lat\": 37.801522125, \"lon\": -122.400254375, \"trips\": 8}, {\"lat\": 37.805617500000004, \"lon\": -122.40398583333335, \"trips\": 6}, {\"lat\": 37.7819255, \"lon\": -122.4530815, \"trips\": 2}, {\"lat\": 37.78619977142857, \"lon\": -122.45046211428576, \"trips\": 35}, {\"lat\": 37.78455466666667, \"lon\": -122.45368283333333, \"trips\": 6}, {\"lat\": 37.78762866666667, \"lon\": -122.44392016666667, \"trips\": 6}, {\"lat\": 37.79040775757576, \"lon\": -122.44104442424243, \"trips\": 33}, {\"lat\": 37.795631799999995, \"lon\": -122.44199564, \"trips\": 25}, {\"lat\": 37.7985795, \"lon\": -122.4425675, \"trips\": 2}, {\"lat\": 37.796732562500004, \"lon\": -122.40355481250002, \"trips\": 16}, {\"lat\": 37.7958026, \"lon\": -122.41415029999999, \"trips\": 10}, {\"lat\": 37.79516250000001, \"lon\": -122.42504570000004, \"trips\": 30}, {\"lat\": 37.78477023076923, \"lon\": -122.40089264102565, \"trips\": 39}, {\"lat\": 37.790684361702134, \"lon\": -122.404987893617, \"trips\": 47}, {\"lat\": 37.742893333333335, \"lon\": -122.40529500000001, \"trips\": 6}, {\"lat\": 37.746105205882344, \"lon\": -122.40391547058826, \"trips\": 34}, {\"lat\": 37.75112132142857, \"lon\": -122.40293382142859, \"trips\": 28}, {\"lat\": 37.75748316666667, \"lon\": -122.40424200000001, \"trips\": 6}, {\"lat\": 37.762583666666664, \"lon\": -122.40555133333334, \"trips\": 6}, {\"lat\": 37.76920421052631, \"lon\": -122.40715521052631, \"trips\": 19}, {\"lat\": 37.774002857142854, \"lon\": -122.40502365714286, \"trips\": 35}, {\"lat\": 37.773739611111104, \"lon\": -122.41620530555552, \"trips\": 36}, {\"lat\": 37.77984886000001, \"lon\": -122.41621228, \"trips\": 50}, {\"lat\": 37.78233886666666, \"lon\": -122.41884346666666, \"trips\": 15}, {\"lat\": 37.78954281632653, \"lon\": -122.41434236734695, \"trips\": 49}, {\"lat\": 37.78930342857142, \"lon\": -122.42331219047621, \"trips\": 21}, {\"lat\": 37.78548414285715, \"lon\": -122.42167485714285, \"trips\": 7}, {\"lat\": 37.60023331034482, \"lon\": -122.38343865517243, \"trips\": 29}, {\"lat\": 37.60236094444444, \"lon\": -122.38056466666669, \"trips\": 18}, {\"lat\": 37.767775838709674, \"lon\": -122.4231968064516, \"trips\": 31}, {\"lat\": 37.76359342424243, \"lon\": -122.42657187878787, \"trips\": 33}, {\"lat\": 37.778893999999994, \"lon\": -122.43500028571428, \"trips\": 28}, {\"lat\": 37.774204578947376, \"lon\": -122.43773678947372, \"trips\": 19}, {\"lat\": 37.75323733333334, \"lon\": -122.39137266666665, \"trips\": 3}, {\"lat\": 37.7572638, \"lon\": -122.3921722, \"trips\": 5}, {\"lat\": 37.7627228, \"lon\": -122.3926252, \"trips\": 5}, {\"lat\": 37.76784633333333, \"lon\": -122.395687, \"trips\": 6}, {\"lat\": 37.771903333333334, \"lon\": -122.39792, \"trips\": 3}, {\"lat\": 37.777864578947366, \"lon\": -122.40388526315789, \"trips\": 19}, {\"lat\": 37.76939517142856, \"lon\": -122.41679865714286, \"trips\": 35}, {\"lat\": 37.75771128571429, \"lon\": -122.421271, \"trips\": 7}, {\"lat\": 37.78109011111111, \"lon\": -122.39163055555557, \"trips\": 9}, {\"lat\": 37.790307363636366, \"lon\": -122.459395, \"trips\": 22}, {\"lat\": 37.79677039999999, \"lon\": -122.4586644, \"trips\": 30}, {\"lat\": 37.798625, \"lon\": -122.453772, \"trips\": 1}, {\"lat\": 37.798912800000004, \"lon\": -122.45252679999999, \"trips\": 5}, {\"lat\": 37.79791505, \"lon\": -122.44927045000001, \"trips\": 20}, {\"lat\": 37.733823, \"lon\": -122.396767, \"trips\": 1}, {\"lat\": 37.579625750000005, \"lon\": -122.32524975, \"trips\": 4}]);\n",
        "    </script>\n",
        "    "
       ],
       "metadata": {},
       "output_type": "pyout",
       "prompt_number": 13,
       "text": [
        "<IPython.core.display.HTML at 0x108294190>"
       ]
      }
     ],
     "prompt_number": 13
    },
    {
     "cell_type": "markdown",
     "metadata": {},
     "source": [
      "## UDFs as a Python Function\n",
      "\n",
      "The UDF we created earlier is represented as a regular python function, so it can be used multiple times, against a different starting query.\n",
      "\n",
      "Repeat using just logs from the weekend."
     ]
    },
    {
     "cell_type": "code",
     "collapsed": false,
     "input": [
      "%%bq_sql weekend_logs\n",
      "SELECT lat, lon, trip\n",
      "FROM $gps_logs\n",
      "WHERE DAYOFWEEK(timestamp) == 1 OR DAYOFWEEK(timestamp) == 7\n",
      "LIMIT 1000"
     ],
     "language": "python",
     "metadata": {},
     "outputs": [],
     "prompt_number": 14
    },
    {
     "cell_type": "code",
     "collapsed": false,
     "input": [
      "hashed_weekend_logs = geohasher(weekend_logs)"
     ],
     "language": "python",
     "metadata": {},
     "outputs": [],
     "prompt_number": 15
    },
    {
     "cell_type": "code",
     "collapsed": false,
     "input": [
      "%%bq_sql weekend_counts\n",
      "SELECT AVG(lat) AS lat, AVG(lon) AS lon, COUNT(trip) AS trips\n",
      "FROM $hashed_weekend_logs\n",
      "GROUP BY geohash"
     ],
     "language": "python",
     "metadata": {},
     "outputs": [],
     "prompt_number": 16
    },
    {
     "cell_type": "code",
     "collapsed": false,
     "input": [
      "weekend_map = HeatMap()\n",
      "weekend_map.render('weekend_activity_map', weekend_counts.results())"
     ],
     "language": "python",
     "metadata": {},
     "outputs": [
      {
       "html": [
        "\n",
        "    <div id=\"weekend_activity_map\" style=\"width: 100%; height: 500px\"></div>\n",
        "    <script>\n",
        "    createMap(document.getElementById('weekend_activity_map'), [{\"lat\": 37.759695, \"lon\": -122.392177, \"trips\": 1}, {\"lat\": 37.76372194444444, \"lon\": -122.39077705555555, \"trips\": 18}, {\"lat\": 37.76747384615385, \"lon\": -122.3890756923077, \"trips\": 13}, {\"lat\": 37.77412069230768, \"lon\": -122.43614036923074, \"trips\": 65}, {\"lat\": 37.76734308333333, \"lon\": -122.43749608333333, \"trips\": 24}, {\"lat\": 37.76360361111111, \"lon\": -122.43750888888891, \"trips\": 18}, {\"lat\": 37.78943041025641, \"lon\": -122.42636066666667, \"trips\": 39}, {\"lat\": 37.78937284210526, \"lon\": -122.43432839473682, \"trips\": 38}, {\"lat\": 37.78561714285715, \"lon\": -122.43508754761905, \"trips\": 42}, {\"lat\": 37.78479723913044, \"lon\": -122.44829839130435, \"trips\": 46}, {\"lat\": 37.78397725000001, \"lon\": -122.45630375, \"trips\": 16}, {\"lat\": 37.77932370588235, \"lon\": -122.44724400000001, \"trips\": 17}, {\"lat\": 37.77298176923078, \"lon\": -122.4475711923077, \"trips\": 52}, {\"lat\": 37.768395533333326, \"lon\": -122.44499699999999, \"trips\": 30}, {\"lat\": 37.7653734, \"lon\": -122.4433058, \"trips\": 5}, {\"lat\": 37.77450267741936, \"lon\": -122.40691445161289, \"trips\": 31}, {\"lat\": 37.778273375000005, \"lon\": -122.40814256250002, \"trips\": 16}, {\"lat\": 37.77900051785714, \"lon\": -122.41558626785711, \"trips\": 56}, {\"lat\": 37.778764428571435, \"lon\": -122.42346769642859, \"trips\": 56}, {\"lat\": 37.78492346, \"lon\": -122.424773, \"trips\": 50}, {\"lat\": 37.78694637499999, \"lon\": -122.39916087499999, \"trips\": 8}, {\"lat\": 37.785103235294116, \"lon\": -122.39631564705884, \"trips\": 17}, {\"lat\": 37.776633000000004, \"lon\": -122.432943, \"trips\": 2}, {\"lat\": 37.7713238, \"lon\": -122.45441980000001, \"trips\": 5}, {\"lat\": 37.768152799999996, \"lon\": -122.45736365, \"trips\": 20}, {\"lat\": 37.758214833333334, \"lon\": -122.41810616666665, \"trips\": 6}, {\"lat\": 37.76373715384615, \"lon\": -122.4184033846154, \"trips\": 13}, {\"lat\": 37.76850450000001, \"lon\": -122.41554150000002, \"trips\": 44}, {\"lat\": 37.77432186885246, \"lon\": -122.41447965573771, \"trips\": 61}, {\"lat\": 37.77497146428572, \"lon\": -122.42474782142855, \"trips\": 56}, {\"lat\": 37.79069836363636, \"lon\": -122.41664063636364, \"trips\": 11}, {\"lat\": 37.78428323529412, \"lon\": -122.4154645882353, \"trips\": 17}, {\"lat\": 37.7986435, \"lon\": -122.4273945, \"trips\": 2}, {\"lat\": 37.795914190476196, \"lon\": -122.42686214285716, \"trips\": 21}, {\"lat\": 37.7759077, \"lon\": -122.39595789999998, \"trips\": 10}, {\"lat\": 37.77691966666666, \"lon\": -122.39508133333331, \"trips\": 9}, {\"lat\": 37.7689124375, \"lon\": -122.42230949999998, \"trips\": 16}, {\"lat\": 37.796020899999995, \"lon\": -122.43528830000001, \"trips\": 30}, {\"lat\": 37.7986055, \"lon\": -122.435798, \"trips\": 2}, {\"lat\": 37.76968529411765, \"lon\": -122.40602623529412, \"trips\": 17}]);\n",
        "    </script>\n",
        "    "
       ],
       "metadata": {},
       "output_type": "pyout",
       "prompt_number": 17,
       "text": [
        "<IPython.core.display.HTML at 0x108294ad0>"
       ]
      }
     ],
     "prompt_number": 17
    },
    {
     "cell_type": "code",
     "collapsed": false,
     "input": [],
     "language": "python",
     "metadata": {},
     "outputs": []
    }
   ],
   "metadata": {}
  }
 ]
}