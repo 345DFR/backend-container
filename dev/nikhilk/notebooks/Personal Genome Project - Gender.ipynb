{
 "metadata": {
  "name": "",
  "signature": "sha256:081e67e0d4aa177b1ab140ce1a8efe4559aaf5a9cfe739b8db1eace67f5c9579"
 },
 "nbformat": 3,
 "nbformat_minor": 0,
 "worksheets": [
  {
   "cells": [
    {
     "cell_type": "markdown",
     "metadata": {},
     "source": [
      "# Personal Genome Project - Gender Breakdown\n",
      "\n",
      "This notebook is based on the sample at https://github.com/googlegenomics/bigquery-examples/tree/master/pgp."
     ]
    },
    {
     "cell_type": "code",
     "collapsed": true,
     "input": [
      "import gcp.bigquery as bq\n",
      "import gcp.interactive\n",
      "import json\n",
      "import matplotlib.pyplot as plot\n",
      "import matplotlib.colors as colors"
     ],
     "language": "python",
     "metadata": {},
     "outputs": [],
     "prompt_number": 1
    },
    {
     "cell_type": "markdown",
     "metadata": {},
     "source": [
      "## Exploring Tables - Schemas and Sampling"
     ]
    },
    {
     "cell_type": "code",
     "collapsed": true,
     "input": [
      "variants = bq.table('google.com:biggene:pgp.variants')\n",
      "phenotypes = bq.table('google.com:biggene:pgp.phenotypes')"
     ],
     "language": "python",
     "metadata": {},
     "outputs": [],
     "prompt_number": 2
    },
    {
     "cell_type": "code",
     "collapsed": true,
     "input": [
      "phenotypes.schema()"
     ],
     "language": "python",
     "metadata": {},
     "outputs": [
      {
       "html": [
        "<table><tr><th>name</th><th>data_type</th><th>mode</th><th>description</th></tr><tr><td>Participant</td><td>STRING</td><td>NULLABLE</td><td></td></tr><tr><td>Year_of_birth</td><td>STRING</td><td>NULLABLE</td><td></td></tr><tr><td>Which_statement_best_describes_you</td><td>STRING</td><td>NULLABLE</td><td></td></tr><tr><td>Severe_disease_or_rare_genetic_trait</td><td>STRING</td><td>NULLABLE</td><td></td></tr><tr><td>Disease_trait_Onset</td><td>STRING</td><td>NULLABLE</td><td></td></tr><tr><td>Disease_trait_Rarity</td><td>STRING</td><td>NULLABLE</td><td></td></tr><tr><td>Disease_trait_Severity</td><td>STRING</td><td>NULLABLE</td><td></td></tr><tr><td>Disease_trait_Relative_enrollment</td><td>STRING</td><td>NULLABLE</td><td></td></tr><tr><td>Disease_trait_Diagnosis</td><td>STRING</td><td>NULLABLE</td><td></td></tr><tr><td>Disease_trait_Genetic_confirmation</td><td>STRING</td><td>NULLABLE</td><td></td></tr><tr><td>Disease_trait_Documentation</td><td>STRING</td><td>NULLABLE</td><td></td></tr><tr><td>Sex_Gender</td><td>STRING</td><td>NULLABLE</td><td></td></tr><tr><td>Race_ethnicity</td><td>STRING</td><td>NULLABLE</td><td></td></tr><tr><td>Maternal_grandmother_Country_of_origin</td><td>STRING</td><td>NULLABLE</td><td></td></tr><tr><td>Paternal_grandmother_Country_of_origin</td><td>STRING</td><td>NULLABLE</td><td></td></tr><tr><td>Paternal_grandfather_Country_of_origin</td><td>STRING</td><td>NULLABLE</td><td></td></tr><tr><td>Maternal_grandfather_Country_of_origin</td><td>STRING</td><td>NULLABLE</td><td></td></tr><tr><td>Enrollment_of_relatives</td><td>STRING</td><td>NULLABLE</td><td></td></tr><tr><td>Enrollment_of_older_individuals</td><td>STRING</td><td>NULLABLE</td><td></td></tr><tr><td>Enrollment_of_parents</td><td>STRING</td><td>NULLABLE</td><td></td></tr><tr><td>Enrolled_relatives_Monozygotic_Identical_twins</td><td>STRING</td><td>NULLABLE</td><td></td></tr><tr><td>Enrolled_relatives_Parents</td><td>STRING</td><td>NULLABLE</td><td></td></tr><tr><td>Enrolled_relatives_Siblings_Fraternal_twins</td><td>STRING</td><td>NULLABLE</td><td></td></tr><tr><td>Enrolled_relatives_Children</td><td>STRING</td><td>NULLABLE</td><td></td></tr><tr><td>Enrolled_relatives_Grandparents</td><td>STRING</td><td>NULLABLE</td><td></td></tr><tr><td>Enrolled_relatives_Grandchildren</td><td>BOOLEAN</td><td>NULLABLE</td><td></td></tr><tr><td>Enrolled_relatives_Aunts_Uncles</td><td>STRING</td><td>NULLABLE</td><td></td></tr><tr><td>Enrolled_relatives_Nephews_Nieces</td><td>STRING</td><td>NULLABLE</td><td></td></tr><tr><td>Enrolled_relatives_Half_siblings</td><td>BOOLEAN</td><td>NULLABLE</td><td></td></tr><tr><td>Enrolled_relatives_Cousins_or_more_distant</td><td>STRING</td><td>NULLABLE</td><td></td></tr><tr><td>Enrolled_relatives_Not_genetically_related_e_g_husband_wife</td><td>STRING</td><td>NULLABLE</td><td></td></tr><tr><td>Are_all_your_enrolled_relatives_linked_to_your_PGP_profile</td><td>STRING</td><td>NULLABLE</td><td></td></tr><tr><td>Have_you_uploaded_genetic_data_to_your_PGP_participant_profile</td><td>STRING</td><td>NULLABLE</td><td></td></tr><tr><td>Have_you_used_the_PGP_web_interface_to_record_a_designated_proxy</td><td>STRING</td><td>NULLABLE</td><td></td></tr><tr><td>Have_you_uploaded_health_record_data_using_our_Google_Health_or_Microsoft_Healthvault_interfaces</td><td>STRING</td><td>NULLABLE</td><td></td></tr><tr><td>Uploaded_health_records_Update_status</td><td>STRING</td><td>NULLABLE</td><td></td></tr><tr><td>Uploaded_health_records_Extensiveness</td><td>INTEGER</td><td>NULLABLE</td><td></td></tr><tr><td>Blood_sample</td><td>STRING</td><td>NULLABLE</td><td></td></tr><tr><td>Saliva_sample</td><td>STRING</td><td>NULLABLE</td><td></td></tr><tr><td>Microbiome_samples</td><td>STRING</td><td>NULLABLE</td><td></td></tr><tr><td>Tissue_samples_from_surgery</td><td>STRING</td><td>NULLABLE</td><td></td></tr><tr><td>Tissue_samples_from_autopsy</td><td>STRING</td><td>NULLABLE</td><td></td></tr><tr><td>Month_of_birth</td><td>STRING</td><td>NULLABLE</td><td></td></tr><tr><td>Anatomical_sex_at_birth</td><td>STRING</td><td>NULLABLE</td><td></td></tr><tr><td>Maternal_grandmother_Race_ethnicity</td><td>STRING</td><td>NULLABLE</td><td></td></tr><tr><td>Maternal_grandfather_Race_ethnicity</td><td>STRING</td><td>NULLABLE</td><td></td></tr><tr><td>Paternal_grandmother_Race_ethnicity</td><td>STRING</td><td>NULLABLE</td><td></td></tr><tr><td>Paternal_grandfather_Race_ethnicity</td><td>STRING</td><td>NULLABLE</td><td></td></tr><tr><td>has_NA</td><td>BOOLEAN</td><td>NULLABLE</td><td></td></tr><tr><td>has_Sciatica</td><td>BOOLEAN</td><td>NULLABLE</td><td></td></tr><tr><td>has_Allergic_contact_dermatitis</td><td>BOOLEAN</td><td>NULLABLE</td><td></td></tr><tr><td>has_Urinary_tract_infection_UTI</td><td>BOOLEAN</td><td>NULLABLE</td><td></td></tr><tr><td>has_Endometriosis</td><td>BOOLEAN</td><td>NULLABLE</td><td></td></tr><tr><td>has_Ovarian_cysts</td><td>BOOLEAN</td><td>NULLABLE</td><td></td></tr><tr><td>has_Impacted_tooth</td><td>BOOLEAN</td><td>NULLABLE</td><td></td></tr><tr><td>has_Dental_cavities</td><td>BOOLEAN</td><td>NULLABLE</td><td></td></tr><tr><td>has_Gallstones</td><td>BOOLEAN</td><td>NULLABLE</td><td></td></tr><tr><td>has_Chronic_tonsillitis</td><td>BOOLEAN</td><td>NULLABLE</td><td></td></tr><tr><td>has_Allergic_rhinitis</td><td>BOOLEAN</td><td>NULLABLE</td><td></td></tr><tr><td>has_Asthma</td><td>BOOLEAN</td><td>NULLABLE</td><td></td></tr><tr><td>has_Hyperopia_Farsightedness</td><td>BOOLEAN</td><td>NULLABLE</td><td></td></tr><tr><td>has_Iron_deficiency_anemia</td><td>BOOLEAN</td><td>NULLABLE</td><td></td></tr><tr><td>has_Migraine_with_aura</td><td>BOOLEAN</td><td>NULLABLE</td><td></td></tr><tr><td>has_Lactose_intolerance</td><td>BOOLEAN</td><td>NULLABLE</td><td></td></tr><tr><td>has_Cervical_cancer</td><td>BOOLEAN</td><td>NULLABLE</td><td></td></tr><tr><td>has_Osteoarthritis</td><td>BOOLEAN</td><td>NULLABLE</td><td></td></tr><tr><td>has_Achilles_tendonitis</td><td>BOOLEAN</td><td>NULLABLE</td><td></td></tr><tr><td>has_Dandruff</td><td>BOOLEAN</td><td>NULLABLE</td><td></td></tr><tr><td>has_Keloids</td><td>BOOLEAN</td><td>NULLABLE</td><td></td></tr><tr><td>has_Skin_tags</td><td>BOOLEAN</td><td>NULLABLE</td><td></td></tr><tr><td>has_Gingivitis</td><td>BOOLEAN</td><td>NULLABLE</td><td></td></tr><tr><td>has_Temporomandibular_joint_TMJ_disorder</td><td>BOOLEAN</td><td>NULLABLE</td><td></td></tr><tr><td>has_Canker_sores_oral_ulcers</td><td>BOOLEAN</td><td>NULLABLE</td><td></td></tr><tr><td>has_Gastroesophageal_reflux_disease_GERD</td><td>BOOLEAN</td><td>NULLABLE</td><td></td></tr><tr><td>has_Hiatal_hernia</td><td>BOOLEAN</td><td>NULLABLE</td><td></td></tr><tr><td>has_Nonalcoholic_fatty_liver_disease_NAFLD</td><td>BOOLEAN</td><td>NULLABLE</td><td></td></tr><tr><td>has_Hypertension</td><td>BOOLEAN</td><td>NULLABLE</td><td></td></tr><tr><td>has_Hemorrhoids</td><td>BOOLEAN</td><td>NULLABLE</td><td></td></tr><tr><td>has_Meniere_s_disease</td><td>BOOLEAN</td><td>NULLABLE</td><td></td></tr><tr><td>has_Tinnitus</td><td>BOOLEAN</td><td>NULLABLE</td><td></td></tr><tr><td>has_High_triglycerides_hypertriglyceridemia</td><td>BOOLEAN</td><td>NULLABLE</td><td></td></tr><tr><td>has_Thyroid_nodule_s</td><td>BOOLEAN</td><td>NULLABLE</td><td></td></tr><tr><td>has_Hashimoto_s_thyroiditis</td><td>BOOLEAN</td><td>NULLABLE</td><td></td></tr><tr><td>has_Colon_polyps</td><td>BOOLEAN</td><td>NULLABLE</td><td></td></tr><tr><td>has_Scoliosis</td><td>BOOLEAN</td><td>NULLABLE</td><td></td></tr><tr><td>has_Lichen_planus</td><td>BOOLEAN</td><td>NULLABLE</td><td></td></tr><tr><td>has_Cafe_au_lait_spots</td><td>BOOLEAN</td><td>NULLABLE</td><td></td></tr><tr><td>has_Myopia_Nearsightedness</td><td>BOOLEAN</td><td>NULLABLE</td><td></td></tr><tr><td>has_Floaters</td><td>BOOLEAN</td><td>NULLABLE</td><td></td></tr><tr><td>has_Hypothyroidism</td><td>BOOLEAN</td><td>NULLABLE</td><td></td></tr><tr><td>has_High_cholesterol_hypercholesterolemia</td><td>BOOLEAN</td><td>NULLABLE</td><td></td></tr><tr><td>has_Presbyopia</td><td>BOOLEAN</td><td>NULLABLE</td><td></td></tr><tr><td>has_Trigger_finger</td><td>BOOLEAN</td><td>NULLABLE</td><td></td></tr><tr><td>has_Dupuytren_s_contracture</td><td>BOOLEAN</td><td>NULLABLE</td><td></td></tr><tr><td>has_Plantar_fasciitis</td><td>BOOLEAN</td><td>NULLABLE</td><td></td></tr><tr><td>has_Fibromyalgia</td><td>BOOLEAN</td><td>NULLABLE</td><td></td></tr><tr><td>has_Eczema</td><td>BOOLEAN</td><td>NULLABLE</td><td></td></tr><tr><td>has_Fibrocystic_breast_disease</td><td>BOOLEAN</td><td>NULLABLE</td><td></td></tr><tr><td>has_Premature_ventricular_contractions</td><td>BOOLEAN</td><td>NULLABLE</td><td></td></tr><tr><td>has_Cardiac_arrhythmia</td><td>BOOLEAN</td><td>NULLABLE</td><td></td></tr><tr><td>has_Restless_legs_syndrome</td><td>BOOLEAN</td><td>NULLABLE</td><td></td></tr><tr><td>has_Cluster_headaches</td><td>BOOLEAN</td><td>NULLABLE</td><td></td></tr><tr><td>has_Carpal_tunnel_syndrome</td><td>BOOLEAN</td><td>NULLABLE</td><td></td></tr><tr><td>has_Other_peripheral_neuropathy</td><td>BOOLEAN</td><td>NULLABLE</td><td></td></tr><tr><td>has_Uterine_fibroids</td><td>BOOLEAN</td><td>NULLABLE</td><td></td></tr><tr><td>has_Flatfeet</td><td>BOOLEAN</td><td>NULLABLE</td><td></td></tr><tr><td>has_Inguinal_hernia</td><td>BOOLEAN</td><td>NULLABLE</td><td></td></tr><tr><td>has_Age_related_hearing_loss</td><td>BOOLEAN</td><td>NULLABLE</td><td></td></tr><tr><td>has_Non_melanoma_skin_cancer</td><td>BOOLEAN</td><td>NULLABLE</td><td></td></tr><tr><td>has_Hair_loss_includes_female_and_male_pattern_baldness</td><td>BOOLEAN</td><td>NULLABLE</td><td></td></tr><tr><td>has_Acne</td><td>BOOLEAN</td><td>NULLABLE</td><td></td></tr><tr><td>has_Rosacea</td><td>BOOLEAN</td><td>NULLABLE</td><td></td></tr><tr><td>has_Geographic_tongue</td><td>BOOLEAN</td><td>NULLABLE</td><td></td></tr><tr><td>has_Irritable_bowel_syndrome_IBS</td><td>BOOLEAN</td><td>NULLABLE</td><td></td></tr><tr><td>has_Spinal_stenosis</td><td>BOOLEAN</td><td>NULLABLE</td><td></td></tr><tr><td>has_Kidney_stones</td><td>BOOLEAN</td><td>NULLABLE</td><td></td></tr><tr><td>has_Male_infertility</td><td>BOOLEAN</td><td>NULLABLE</td><td></td></tr><tr><td>has_Diverticulosis</td><td>BOOLEAN</td><td>NULLABLE</td><td></td></tr><tr><td>has_Deviated_septum</td><td>BOOLEAN</td><td>NULLABLE</td><td></td></tr><tr><td>has_Diabetes_mellitus</td><td>BOOLEAN</td><td>NULLABLE</td><td></td></tr><tr><td>has_type_2</td><td>BOOLEAN</td><td>NULLABLE</td><td></td></tr><tr><td>has_Astigmatism</td><td>BOOLEAN</td><td>NULLABLE</td><td></td></tr><tr><td>has_Peptic_ulcer_stomach_or_duodenum</td><td>BOOLEAN</td><td>NULLABLE</td><td></td></tr><tr><td>has_Appendicitis</td><td>BOOLEAN</td><td>NULLABLE</td><td></td></tr><tr><td>has_Age_related_cataract</td><td>BOOLEAN</td><td>NULLABLE</td><td></td></tr><tr><td>has_Bone_spurs</td><td>BOOLEAN</td><td>NULLABLE</td><td></td></tr><tr><td>has_Rheumatoid_arthritis</td><td>BOOLEAN</td><td>NULLABLE</td><td></td></tr><tr><td>has_Hemochromatosis</td><td>BOOLEAN</td><td>NULLABLE</td><td></td></tr><tr><td>has_Graves_disease</td><td>BOOLEAN</td><td>NULLABLE</td><td></td></tr><tr><td>has_Congenital_heart_defect</td><td>BOOLEAN</td><td>NULLABLE</td><td></td></tr><tr><td>has_Chronic_bronchitis</td><td>BOOLEAN</td><td>NULLABLE</td><td></td></tr><tr><td>has_Mitral_valve_prolapse</td><td>BOOLEAN</td><td>NULLABLE</td><td></td></tr><tr><td>has_Epilepsy</td><td>BOOLEAN</td><td>NULLABLE</td><td></td></tr><tr><td>has_Hemophilia</td><td>BOOLEAN</td><td>NULLABLE</td><td></td></tr><tr><td>has_Melanoma</td><td>BOOLEAN</td><td>NULLABLE</td><td></td></tr><tr><td>has_Chronic_liver_disease_and_cirrhosis</td><td>BOOLEAN</td><td>NULLABLE</td><td></td></tr><tr><td>has_Age_related_macular_degeneration</td><td>BOOLEAN</td><td>NULLABLE</td><td></td></tr><tr><td>has_Sensorineural_hearing_loss_or_congenital_deafness</td><td>BOOLEAN</td><td>NULLABLE</td><td></td></tr><tr><td>has_Hyperhidrosis_excessive_sweating</td><td>BOOLEAN</td><td>NULLABLE</td><td></td></tr><tr><td>has_Fissured_tongue</td><td>BOOLEAN</td><td>NULLABLE</td><td></td></tr><tr><td>has_Nasal_polyps</td><td>BOOLEAN</td><td>NULLABLE</td><td></td></tr><tr><td>has_Chronic_sinusitis</td><td>BOOLEAN</td><td>NULLABLE</td><td></td></tr><tr><td>has_Bunions</td><td>BOOLEAN</td><td>NULLABLE</td><td></td></tr><tr><td>has_Osteoporosis</td><td>BOOLEAN</td><td>NULLABLE</td><td></td></tr><tr><td>has_Strabismus</td><td>BOOLEAN</td><td>NULLABLE</td><td></td></tr><tr><td>has_Amyotrophic_lateral_sclerosis_ALS</td><td>BOOLEAN</td><td>NULLABLE</td><td></td></tr><tr><td>has_Frozen_shoulder</td><td>BOOLEAN</td><td>NULLABLE</td><td></td></tr><tr><td>has_Single_transverse_palmar_crease_simian_crease</td><td>BOOLEAN</td><td>NULLABLE</td><td></td></tr><tr><td>has_Dermatographia</td><td>BOOLEAN</td><td>NULLABLE</td><td></td></tr><tr><td>has_Rotator_cuff_tear</td><td>BOOLEAN</td><td>NULLABLE</td><td></td></tr><tr><td>has_Lipoma</td><td>BOOLEAN</td><td>NULLABLE</td><td></td></tr><tr><td>has_Polycystic_ovary_syndrome_PCOS</td><td>BOOLEAN</td><td>NULLABLE</td><td></td></tr><tr><td>has_Hereditary_motor_and_sensory_neuropathy_includes_Charcot_Marie_Tooth_disease_and_HNPP</td><td>BOOLEAN</td><td>NULLABLE</td><td></td></tr><tr><td>has_Varicose_veins</td><td>BOOLEAN</td><td>NULLABLE</td><td></td></tr><tr><td>has_Retinal_detachment</td><td>BOOLEAN</td><td>NULLABLE</td><td></td></tr><tr><td>has_Prostate_cancer</td><td>BOOLEAN</td><td>NULLABLE</td><td></td></tr><tr><td>has_Spermatocele</td><td>BOOLEAN</td><td>NULLABLE</td><td></td></tr><tr><td>has_Varicocele</td><td>BOOLEAN</td><td>NULLABLE</td><td></td></tr><tr><td>has_Essential_tremor</td><td>BOOLEAN</td><td>NULLABLE</td><td></td></tr><tr><td>has_Hereditary_thrombophilia_includes_Factor_V_Leiden_and_Prothrombin_G20210A</td><td>BOOLEAN</td><td>NULLABLE</td><td></td></tr><tr><td>has_Breast_cancer</td><td>BOOLEAN</td><td>NULLABLE</td><td></td></tr><tr><td>has_Celiac_disease</td><td>BOOLEAN</td><td>NULLABLE</td><td></td></tr><tr><td>has_Multiple_sclerosis_MS</td><td>BOOLEAN</td><td>NULLABLE</td><td></td></tr><tr><td>has_Migraine_without_aura</td><td>BOOLEAN</td><td>NULLABLE</td><td></td></tr><tr><td>has_Ehlers_Danlos_syndrome</td><td>BOOLEAN</td><td>NULLABLE</td><td></td></tr><tr><td>has_Bartholin_s_cyst</td><td>BOOLEAN</td><td>NULLABLE</td><td></td></tr><tr><td>has_Tennis_elbow</td><td>BOOLEAN</td><td>NULLABLE</td><td></td></tr><tr><td>has_Angina</td><td>BOOLEAN</td><td>NULLABLE</td><td></td></tr><tr><td>has_Atrial_fibrillation</td><td>BOOLEAN</td><td>NULLABLE</td><td></td></tr><tr><td>has_Idiopathic_thrombocytopenic_purpura_ITP</td><td>BOOLEAN</td><td>NULLABLE</td><td></td></tr><tr><td>has_Heart_block</td><td>BOOLEAN</td><td>NULLABLE</td><td></td></tr><tr><td>has_Pilonidal_cyst</td><td>BOOLEAN</td><td>NULLABLE</td><td></td></tr><tr><td>has_Psoriasis</td><td>BOOLEAN</td><td>NULLABLE</td><td></td></tr><tr><td>has_Bundle_branch_block</td><td>BOOLEAN</td><td>NULLABLE</td><td></td></tr><tr><td>has_Chondromalacia_patella_CMP</td><td>BOOLEAN</td><td>NULLABLE</td><td></td></tr><tr><td>has_Rectal_prolapse</td><td>BOOLEAN</td><td>NULLABLE</td><td></td></tr><tr><td>has_Raynaud_s_phenomenon</td><td>BOOLEAN</td><td>NULLABLE</td><td></td></tr><tr><td>has_Dry_eye_syndrome</td><td>BOOLEAN</td><td>NULLABLE</td><td></td></tr><tr><td>has_Other_thrombophilia_includes_antiphospholipid_syndrome</td><td>BOOLEAN</td><td>NULLABLE</td><td></td></tr><tr><td>has_Tongue_tie_ankyloglossia</td><td>BOOLEAN</td><td>NULLABLE</td><td></td></tr><tr><td>has_Marfan_syndrome</td><td>BOOLEAN</td><td>NULLABLE</td><td></td></tr><tr><td>has_Color_blindness</td><td>BOOLEAN</td><td>NULLABLE</td><td></td></tr><tr><td>has_Breast_fibroadenoma</td><td>BOOLEAN</td><td>NULLABLE</td><td></td></tr><tr><td>has_Crohn_s_disease</td><td>BOOLEAN</td><td>NULLABLE</td><td></td></tr><tr><td>has_Thyroid_cancer</td><td>BOOLEAN</td><td>NULLABLE</td><td></td></tr><tr><td>has_Non_Hodgkin_lymphoma</td><td>BOOLEAN</td><td>NULLABLE</td><td></td></tr><tr><td>has_Female_infertility</td><td>BOOLEAN</td><td>NULLABLE</td><td></td></tr><tr><td>has_Sjogren_s_syndrome_Sicca_syndrome</td><td>BOOLEAN</td><td>NULLABLE</td><td></td></tr><tr><td>has_Benign_prostatic_hypertrophy_BPH</td><td>BOOLEAN</td><td>NULLABLE</td><td></td></tr><tr><td>has_Osgood_Schlatter_disease</td><td>BOOLEAN</td><td>NULLABLE</td><td></td></tr><tr><td>has_Postural_kyphosis</td><td>BOOLEAN</td><td>NULLABLE</td><td></td></tr><tr><td>has_Parkinson_s_disease</td><td>BOOLEAN</td><td>NULLABLE</td><td></td></tr><tr><td>has_Narcolepsy</td><td>BOOLEAN</td><td>NULLABLE</td><td></td></tr><tr><td>has_Pernicious_anemia_a_k_a_Addison_Biermer_anemia</td><td>BOOLEAN</td><td>NULLABLE</td><td></td></tr><tr><td>has_Trigeminal_neuralgia</td><td>BOOLEAN</td><td>NULLABLE</td><td></td></tr><tr><td>has_Non_Celiac_Gluten_Sensitivity</td><td>BOOLEAN</td><td>NULLABLE</td><td></td></tr><tr><td>has_Gout</td><td>BOOLEAN</td><td>NULLABLE</td><td></td></tr><tr><td>has_Deep_vein_thrombosis_DVT</td><td>BOOLEAN</td><td>NULLABLE</td><td></td></tr><tr><td>has_Hereditary_hemorrhagic_telangiectasia_also_known_as_Osler_Weber_Rendu_syndrome</td><td>BOOLEAN</td><td>NULLABLE</td><td></td></tr><tr><td>has_Ulcerative_colitis</td><td>BOOLEAN</td><td>NULLABLE</td><td></td></tr><tr><td>has_Polydactyly</td><td>BOOLEAN</td><td>NULLABLE</td><td></td></tr><tr><td>has_Uterine_prolapse</td><td>BOOLEAN</td><td>NULLABLE</td><td></td></tr><tr><td>has_Gilbert_syndrome</td><td>BOOLEAN</td><td>NULLABLE</td><td></td></tr><tr><td>has_Spina_bifida</td><td>BOOLEAN</td><td>NULLABLE</td><td></td></tr><tr><td>has_Long_QT_Syndrome</td><td>BOOLEAN</td><td>NULLABLE</td><td></td></tr><tr><td>has_type_1</td><td>BOOLEAN</td><td>NULLABLE</td><td></td></tr><tr><td>has_Myocardial_infarction_heart_attack</td><td>BOOLEAN</td><td>NULLABLE</td><td></td></tr><tr><td>has_Congestive_heart_failure</td><td>BOOLEAN</td><td>NULLABLE</td><td></td></tr><tr><td>has_Glaucoma</td><td>BOOLEAN</td><td>NULLABLE</td><td></td></tr><tr><td>has_Chronic_tension_headaches_15_days_per_month</td><td>BOOLEAN</td><td>NULLABLE</td><td></td></tr><tr><td>has_at_least_6_months</td><td>BOOLEAN</td><td>NULLABLE</td><td></td></tr><tr><td>has_Barrett_s_esophagus</td><td>BOOLEAN</td><td>NULLABLE</td><td></td></tr><tr><td>has_Peyronie_s_disease</td><td>BOOLEAN</td><td>NULLABLE</td><td></td></tr><tr><td>has_Diabetic_retinopathy</td><td>BOOLEAN</td><td>NULLABLE</td><td></td></tr><tr><td>has_Lung_cancer</td><td>BOOLEAN</td><td>NULLABLE</td><td></td></tr><tr><td>has_Acute_liver_failure</td><td>BOOLEAN</td><td>NULLABLE</td><td></td></tr><tr><td>has_Sick_sinus_syndrome_includes_tachy_brady_syndrome</td><td>BOOLEAN</td><td>NULLABLE</td><td></td></tr><tr><td>has_Traumatic_cataract</td><td>BOOLEAN</td><td>NULLABLE</td><td></td></tr><tr><td>has_Hypospadias</td><td>BOOLEAN</td><td>NULLABLE</td><td></td></tr><tr><td>has_Stomach_cancer</td><td>BOOLEAN</td><td>NULLABLE</td><td></td></tr><tr><td>has_Colon_cancer</td><td>BOOLEAN</td><td>NULLABLE</td><td></td></tr><tr><td>has_Rectal_cancer</td><td>BOOLEAN</td><td>NULLABLE</td><td></td></tr><tr><td>has_Pancreatic_cancer</td><td>BOOLEAN</td><td>NULLABLE</td><td></td></tr><tr><td>has_Endometrial_cancer</td><td>BOOLEAN</td><td>NULLABLE</td><td></td></tr><tr><td>has_Ovarian_cancer</td><td>BOOLEAN</td><td>NULLABLE</td><td></td></tr><tr><td>has_Bladder_cancer</td><td>BOOLEAN</td><td>NULLABLE</td><td></td></tr><tr><td>has_Kidney_cancer</td><td>BOOLEAN</td><td>NULLABLE</td><td></td></tr><tr><td>has_Leukemia</td><td>BOOLEAN</td><td>NULLABLE</td><td></td></tr><tr><td>has_Polycythemia_vera</td><td>BOOLEAN</td><td>NULLABLE</td><td></td></tr><tr><td>has_Essential_thrombocythemia</td><td>BOOLEAN</td><td>NULLABLE</td><td></td></tr><tr><td>has_Neurofibromatosis</td><td>BOOLEAN</td><td>NULLABLE</td><td></td></tr><tr><td>has_Brain_cancer</td><td>BOOLEAN</td><td>NULLABLE</td><td></td></tr><tr><td>has_Wolff_Parkinson_White_WPW_Syndrome</td><td>BOOLEAN</td><td>NULLABLE</td><td></td></tr><tr><td>has_Cleft_palate</td><td>BOOLEAN</td><td>NULLABLE</td><td></td></tr><tr><td>has_Recurrent_sleep_paralysis</td><td>BOOLEAN</td><td>NULLABLE</td><td></td></tr><tr><td>has_Folate_deficiency_anemia</td><td>BOOLEAN</td><td>NULLABLE</td><td></td></tr><tr><td>has_Syndactyly_webbing_of_digits</td><td>BOOLEAN</td><td>NULLABLE</td><td></td></tr><tr><td>has_Alopecia_areata</td><td>BOOLEAN</td><td>NULLABLE</td><td></td></tr><tr><td>has_Scheuermann_s_kyphosis</td><td>BOOLEAN</td><td>NULLABLE</td><td></td></tr><tr><td>has_Bell_s_palsy</td><td>BOOLEAN</td><td>NULLABLE</td><td></td></tr><tr><td>has_Growth_hormone_deficiency</td><td>BOOLEAN</td><td>NULLABLE</td><td></td></tr><tr><td>has_Pulmonary_embolism</td><td>BOOLEAN</td><td>NULLABLE</td><td></td></tr><tr><td>has_Other_cardiomyopathy_including_ARVD</td><td>BOOLEAN</td><td>NULLABLE</td><td></td></tr><tr><td>has_Von_Willebrand_disease</td><td>BOOLEAN</td><td>NULLABLE</td><td></td></tr><tr><td>has_Polycystic_kidney_disease</td><td>BOOLEAN</td><td>NULLABLE</td><td></td></tr><tr><td>has_Stroke</td><td>BOOLEAN</td><td>NULLABLE</td><td></td></tr><tr><td>has_Acute_kidney_failure</td><td>BOOLEAN</td><td>NULLABLE</td><td></td></tr><tr><td>has_Otosclerosis</td><td>BOOLEAN</td><td>NULLABLE</td><td></td></tr><tr><td>has_Lupus</td><td>BOOLEAN</td><td>NULLABLE</td><td></td></tr><tr><td>has_Arnold_Chiari_malformation</td><td>BOOLEAN</td><td>NULLABLE</td><td></td></tr><tr><td>has_Congenital_nystagmus</td><td>BOOLEAN</td><td>NULLABLE</td><td></td></tr><tr><td>has_Emphysema</td><td>BOOLEAN</td><td>NULLABLE</td><td></td></tr><tr><td>has_Chronic_Obstructive_Pulmonary_Disease_COPD</td><td>BOOLEAN</td><td>NULLABLE</td><td></td></tr><tr><td>has_Congenital_clubfoot_equinovarus</td><td>BOOLEAN</td><td>NULLABLE</td><td></td></tr><tr><td>has_Alpha_1_antitrypsin_deficiency</td><td>BOOLEAN</td><td>NULLABLE</td><td></td></tr><tr><td>has_Sickle_cell_trait_carrier</td><td>BOOLEAN</td><td>NULLABLE</td><td></td></tr><tr><td>has_Infantile</td><td>BOOLEAN</td><td>NULLABLE</td><td></td></tr><tr><td>has_juvenile</td><td>BOOLEAN</td><td>NULLABLE</td><td></td></tr><tr><td>has_and_presenile_cataract</td><td>BOOLEAN</td><td>NULLABLE</td><td></td></tr><tr><td>has_Huntington_s_disease</td><td>BOOLEAN</td><td>NULLABLE</td><td></td></tr><tr><td>has_Porphyria</td><td>BOOLEAN</td><td>NULLABLE</td><td></td></tr><tr><td>has_Hidradenitis_suppurativa</td><td>BOOLEAN</td><td>NULLABLE</td><td></td></tr><tr><td>has_Aortic_aneurysm</td><td>BOOLEAN</td><td>NULLABLE</td><td></td></tr><tr><td>has_Dilated_cardiomyopathy</td><td>BOOLEAN</td><td>NULLABLE</td><td></td></tr><tr><td>has_Urethral_diverticulum</td><td>BOOLEAN</td><td>NULLABLE</td><td></td></tr><tr><td>has_Diverticulitis_Urinary_Tract</td><td>BOOLEAN</td><td>NULLABLE</td><td></td></tr><tr><td>has_Hypertrophic_cardiomyopathy</td><td>BOOLEAN</td><td>NULLABLE</td><td></td></tr><tr><td>has_Keratoconus</td><td>BOOLEAN</td><td>NULLABLE</td><td></td></tr><tr><td>has_Central_serous_retinopathy</td><td>BOOLEAN</td><td>NULLABLE</td><td></td></tr><tr><td>has_Developmental_dysplasia_of_the_hip</td><td>BOOLEAN</td><td>NULLABLE</td><td></td></tr><tr><td>has_Retinitis_pigmentosa</td><td>BOOLEAN</td><td>NULLABLE</td><td></td></tr><tr><td>has_Cleft_uvula</td><td>BOOLEAN</td><td>NULLABLE</td><td></td></tr><tr><td>has_Muscular_dystrophy</td><td>BOOLEAN</td><td>NULLABLE</td><td></td></tr><tr><td>has_Congenital_ichthyosis</td><td>BOOLEAN</td><td>NULLABLE</td><td></td></tr><tr><td>has_Autoimmune_hemolytic_anemia</td><td>BOOLEAN</td><td>NULLABLE</td><td></td></tr><tr><td>has_Infantile_pyloric_stenosis</td><td>BOOLEAN</td><td>NULLABLE</td><td></td></tr><tr><td>has_Hypertensive_retinopathy</td><td>BOOLEAN</td><td>NULLABLE</td><td></td></tr><tr><td>has_G6PD_deficiency</td><td>BOOLEAN</td><td>NULLABLE</td><td></td></tr><tr><td>has_Other_aneurysm</td><td>BOOLEAN</td><td>NULLABLE</td><td></td></tr><tr><td>has_Congenital_hydronephrosis</td><td>BOOLEAN</td><td>NULLABLE</td><td></td></tr></table>"
       ],
       "metadata": {},
       "output_type": "pyout",
       "prompt_number": 3,
       "text": [
        "[<gcp.bigquery._table._Field at 0x10948bf90>,\n",
        " <gcp.bigquery._table._Field at 0x10948bf50>,\n",
        " <gcp.bigquery._table._Field at 0x10948bf10>,\n",
        " <gcp.bigquery._table._Field at 0x10948bed0>,\n",
        " <gcp.bigquery._table._Field at 0x10948be90>,\n",
        " <gcp.bigquery._table._Field at 0x10948be50>,\n",
        " <gcp.bigquery._table._Field at 0x10948be10>,\n",
        " <gcp.bigquery._table._Field at 0x10948bc90>,\n",
        " <gcp.bigquery._table._Field at 0x1094aa750>,\n",
        " <gcp.bigquery._table._Field at 0x1094aa790>,\n",
        " <gcp.bigquery._table._Field at 0x1094aa7d0>,\n",
        " <gcp.bigquery._table._Field at 0x1094aa810>,\n",
        " <gcp.bigquery._table._Field at 0x1094aa850>,\n",
        " <gcp.bigquery._table._Field at 0x1094aa890>,\n",
        " <gcp.bigquery._table._Field at 0x1094aa8d0>,\n",
        " <gcp.bigquery._table._Field at 0x1094aa910>,\n",
        " <gcp.bigquery._table._Field at 0x1094aa950>,\n",
        " <gcp.bigquery._table._Field at 0x1094aa990>,\n",
        " <gcp.bigquery._table._Field at 0x1094aa9d0>,\n",
        " <gcp.bigquery._table._Field at 0x1094aaa10>,\n",
        " <gcp.bigquery._table._Field at 0x1094aaa50>,\n",
        " <gcp.bigquery._table._Field at 0x1094aaa90>,\n",
        " <gcp.bigquery._table._Field at 0x1094aaad0>,\n",
        " <gcp.bigquery._table._Field at 0x1094aab10>,\n",
        " <gcp.bigquery._table._Field at 0x1094aab50>,\n",
        " <gcp.bigquery._table._Field at 0x1094aab90>,\n",
        " <gcp.bigquery._table._Field at 0x1094aabd0>,\n",
        " <gcp.bigquery._table._Field at 0x1094aac10>,\n",
        " <gcp.bigquery._table._Field at 0x1094aac50>,\n",
        " <gcp.bigquery._table._Field at 0x1094aac90>,\n",
        " <gcp.bigquery._table._Field at 0x1094aacd0>,\n",
        " <gcp.bigquery._table._Field at 0x1094aad10>,\n",
        " <gcp.bigquery._table._Field at 0x1094aad50>,\n",
        " <gcp.bigquery._table._Field at 0x1094aad90>,\n",
        " <gcp.bigquery._table._Field at 0x1094aadd0>,\n",
        " <gcp.bigquery._table._Field at 0x1094aae10>,\n",
        " <gcp.bigquery._table._Field at 0x1094aae50>,\n",
        " <gcp.bigquery._table._Field at 0x1094aae90>,\n",
        " <gcp.bigquery._table._Field at 0x1094aaed0>,\n",
        " <gcp.bigquery._table._Field at 0x1094aaf10>,\n",
        " <gcp.bigquery._table._Field at 0x1094aaf50>,\n",
        " <gcp.bigquery._table._Field at 0x1094aaf90>,\n",
        " <gcp.bigquery._table._Field at 0x1094aafd0>,\n",
        " <gcp.bigquery._table._Field at 0x1094d1050>,\n",
        " <gcp.bigquery._table._Field at 0x1094d1090>,\n",
        " <gcp.bigquery._table._Field at 0x1094d10d0>,\n",
        " <gcp.bigquery._table._Field at 0x1094d1110>,\n",
        " <gcp.bigquery._table._Field at 0x1094d1150>,\n",
        " <gcp.bigquery._table._Field at 0x1094d1190>,\n",
        " <gcp.bigquery._table._Field at 0x1094d11d0>,\n",
        " <gcp.bigquery._table._Field at 0x1094d1210>,\n",
        " <gcp.bigquery._table._Field at 0x1094d1250>,\n",
        " <gcp.bigquery._table._Field at 0x1094d1290>,\n",
        " <gcp.bigquery._table._Field at 0x1094d12d0>,\n",
        " <gcp.bigquery._table._Field at 0x1094d1310>,\n",
        " <gcp.bigquery._table._Field at 0x1065aec50>,\n",
        " <gcp.bigquery._table._Field at 0x10948bd50>,\n",
        " <gcp.bigquery._table._Field at 0x10948bd10>,\n",
        " <gcp.bigquery._table._Field at 0x10948bc10>,\n",
        " <gcp.bigquery._table._Field at 0x10948bd90>,\n",
        " <gcp.bigquery._table._Field at 0x10948bdd0>,\n",
        " <gcp.bigquery._table._Field at 0x10948bcd0>,\n",
        " <gcp.bigquery._table._Field at 0x10948bc50>,\n",
        " <gcp.bigquery._table._Field at 0x10948bbd0>,\n",
        " <gcp.bigquery._table._Field at 0x10948bb90>,\n",
        " <gcp.bigquery._table._Field at 0x109454d10>,\n",
        " <gcp.bigquery._table._Field at 0x109454d50>,\n",
        " <gcp.bigquery._table._Field at 0x109454c10>,\n",
        " <gcp.bigquery._table._Field at 0x109454e10>,\n",
        " <gcp.bigquery._table._Field at 0x109454dd0>,\n",
        " <gcp.bigquery._table._Field at 0x1094d1350>,\n",
        " <gcp.bigquery._table._Field at 0x1094d1390>,\n",
        " <gcp.bigquery._table._Field at 0x1094d13d0>,\n",
        " <gcp.bigquery._table._Field at 0x1094d1410>,\n",
        " <gcp.bigquery._table._Field at 0x1094d1450>,\n",
        " <gcp.bigquery._table._Field at 0x1094d1490>,\n",
        " <gcp.bigquery._table._Field at 0x1094d14d0>,\n",
        " <gcp.bigquery._table._Field at 0x1094d1510>,\n",
        " <gcp.bigquery._table._Field at 0x1094d1550>,\n",
        " <gcp.bigquery._table._Field at 0x1094d1590>,\n",
        " <gcp.bigquery._table._Field at 0x1094d15d0>,\n",
        " <gcp.bigquery._table._Field at 0x1094d1610>,\n",
        " <gcp.bigquery._table._Field at 0x1094d1650>,\n",
        " <gcp.bigquery._table._Field at 0x1094d1690>,\n",
        " <gcp.bigquery._table._Field at 0x1094d16d0>,\n",
        " <gcp.bigquery._table._Field at 0x1094d1710>,\n",
        " <gcp.bigquery._table._Field at 0x1094d1750>,\n",
        " <gcp.bigquery._table._Field at 0x1094d1790>,\n",
        " <gcp.bigquery._table._Field at 0x1094d17d0>,\n",
        " <gcp.bigquery._table._Field at 0x1094d1810>,\n",
        " <gcp.bigquery._table._Field at 0x1094d1850>,\n",
        " <gcp.bigquery._table._Field at 0x1094d1890>,\n",
        " <gcp.bigquery._table._Field at 0x1094d18d0>,\n",
        " <gcp.bigquery._table._Field at 0x1094d1910>,\n",
        " <gcp.bigquery._table._Field at 0x1094d1950>,\n",
        " <gcp.bigquery._table._Field at 0x1094d1990>,\n",
        " <gcp.bigquery._table._Field at 0x1094d19d0>,\n",
        " <gcp.bigquery._table._Field at 0x1094d1a10>,\n",
        " <gcp.bigquery._table._Field at 0x1094d1a50>,\n",
        " <gcp.bigquery._table._Field at 0x1094d1a90>,\n",
        " <gcp.bigquery._table._Field at 0x1094d1ad0>,\n",
        " <gcp.bigquery._table._Field at 0x1094d1b10>,\n",
        " <gcp.bigquery._table._Field at 0x1094d1b50>,\n",
        " <gcp.bigquery._table._Field at 0x1094d1b90>,\n",
        " <gcp.bigquery._table._Field at 0x1094d1bd0>,\n",
        " <gcp.bigquery._table._Field at 0x1094d1c10>,\n",
        " <gcp.bigquery._table._Field at 0x1094d1c50>,\n",
        " <gcp.bigquery._table._Field at 0x1094d1c90>,\n",
        " <gcp.bigquery._table._Field at 0x1094d1cd0>,\n",
        " <gcp.bigquery._table._Field at 0x1094d1d10>,\n",
        " <gcp.bigquery._table._Field at 0x1094d1d50>,\n",
        " <gcp.bigquery._table._Field at 0x1094d1d90>,\n",
        " <gcp.bigquery._table._Field at 0x1094d1dd0>,\n",
        " <gcp.bigquery._table._Field at 0x1094d1e10>,\n",
        " <gcp.bigquery._table._Field at 0x1094d1e50>,\n",
        " <gcp.bigquery._table._Field at 0x1094d1e90>,\n",
        " <gcp.bigquery._table._Field at 0x1094d1ed0>,\n",
        " <gcp.bigquery._table._Field at 0x1094d1f10>,\n",
        " <gcp.bigquery._table._Field at 0x1094d1f50>,\n",
        " <gcp.bigquery._table._Field at 0x1094d1f90>,\n",
        " <gcp.bigquery._table._Field at 0x1094d1fd0>,\n",
        " <gcp.bigquery._table._Field at 0x1094d6050>,\n",
        " <gcp.bigquery._table._Field at 0x1094d6090>,\n",
        " <gcp.bigquery._table._Field at 0x1094d60d0>,\n",
        " <gcp.bigquery._table._Field at 0x1094d6110>,\n",
        " <gcp.bigquery._table._Field at 0x1094d6150>,\n",
        " <gcp.bigquery._table._Field at 0x1094d6190>,\n",
        " <gcp.bigquery._table._Field at 0x1094d61d0>,\n",
        " <gcp.bigquery._table._Field at 0x1094d6210>,\n",
        " <gcp.bigquery._table._Field at 0x1094d6250>,\n",
        " <gcp.bigquery._table._Field at 0x1094d6290>,\n",
        " <gcp.bigquery._table._Field at 0x1094d62d0>,\n",
        " <gcp.bigquery._table._Field at 0x1094d6310>,\n",
        " <gcp.bigquery._table._Field at 0x1094d6350>,\n",
        " <gcp.bigquery._table._Field at 0x1094d6390>,\n",
        " <gcp.bigquery._table._Field at 0x1094d63d0>,\n",
        " <gcp.bigquery._table._Field at 0x1094d6410>,\n",
        " <gcp.bigquery._table._Field at 0x1094d6450>,\n",
        " <gcp.bigquery._table._Field at 0x1094d6490>,\n",
        " <gcp.bigquery._table._Field at 0x1094d64d0>,\n",
        " <gcp.bigquery._table._Field at 0x1094d6510>,\n",
        " <gcp.bigquery._table._Field at 0x1094d6550>,\n",
        " <gcp.bigquery._table._Field at 0x1094d6590>,\n",
        " <gcp.bigquery._table._Field at 0x1094d65d0>,\n",
        " <gcp.bigquery._table._Field at 0x1094d6610>,\n",
        " <gcp.bigquery._table._Field at 0x1094d6650>,\n",
        " <gcp.bigquery._table._Field at 0x1094d6690>,\n",
        " <gcp.bigquery._table._Field at 0x1094d66d0>,\n",
        " <gcp.bigquery._table._Field at 0x1094d6710>,\n",
        " <gcp.bigquery._table._Field at 0x1094d6750>,\n",
        " <gcp.bigquery._table._Field at 0x1094d6790>,\n",
        " <gcp.bigquery._table._Field at 0x1094d67d0>,\n",
        " <gcp.bigquery._table._Field at 0x1094d6810>,\n",
        " <gcp.bigquery._table._Field at 0x1094d6850>,\n",
        " <gcp.bigquery._table._Field at 0x1094d6890>,\n",
        " <gcp.bigquery._table._Field at 0x1094d68d0>,\n",
        " <gcp.bigquery._table._Field at 0x1094d6910>,\n",
        " <gcp.bigquery._table._Field at 0x1094d6950>,\n",
        " <gcp.bigquery._table._Field at 0x1094d6990>,\n",
        " <gcp.bigquery._table._Field at 0x1094d69d0>,\n",
        " <gcp.bigquery._table._Field at 0x1094d6a10>,\n",
        " <gcp.bigquery._table._Field at 0x1094d6a50>,\n",
        " <gcp.bigquery._table._Field at 0x1094d6a90>,\n",
        " <gcp.bigquery._table._Field at 0x1094d6ad0>,\n",
        " <gcp.bigquery._table._Field at 0x1094d6b10>,\n",
        " <gcp.bigquery._table._Field at 0x1094d6b50>,\n",
        " <gcp.bigquery._table._Field at 0x1094d6b90>,\n",
        " <gcp.bigquery._table._Field at 0x1094d6bd0>,\n",
        " <gcp.bigquery._table._Field at 0x1094d6c10>,\n",
        " <gcp.bigquery._table._Field at 0x1094d6c50>,\n",
        " <gcp.bigquery._table._Field at 0x1094d6c90>,\n",
        " <gcp.bigquery._table._Field at 0x1094d6cd0>,\n",
        " <gcp.bigquery._table._Field at 0x1094d6d10>,\n",
        " <gcp.bigquery._table._Field at 0x1094d6d50>,\n",
        " <gcp.bigquery._table._Field at 0x1094d6d90>,\n",
        " <gcp.bigquery._table._Field at 0x1094d6dd0>,\n",
        " <gcp.bigquery._table._Field at 0x1094d6e10>,\n",
        " <gcp.bigquery._table._Field at 0x1094d6e50>,\n",
        " <gcp.bigquery._table._Field at 0x1094d6e90>,\n",
        " <gcp.bigquery._table._Field at 0x1094d6ed0>,\n",
        " <gcp.bigquery._table._Field at 0x1094d6f10>,\n",
        " <gcp.bigquery._table._Field at 0x1094d6f50>,\n",
        " <gcp.bigquery._table._Field at 0x1094d6f90>,\n",
        " <gcp.bigquery._table._Field at 0x1094d6fd0>,\n",
        " <gcp.bigquery._table._Field at 0x1094dc050>,\n",
        " <gcp.bigquery._table._Field at 0x1094dc090>,\n",
        " <gcp.bigquery._table._Field at 0x1094dc0d0>,\n",
        " <gcp.bigquery._table._Field at 0x1094dc110>,\n",
        " <gcp.bigquery._table._Field at 0x1094dc150>,\n",
        " <gcp.bigquery._table._Field at 0x1094dc190>,\n",
        " <gcp.bigquery._table._Field at 0x1094dc1d0>,\n",
        " <gcp.bigquery._table._Field at 0x1094dc210>,\n",
        " <gcp.bigquery._table._Field at 0x1094dc250>,\n",
        " <gcp.bigquery._table._Field at 0x1094dc290>,\n",
        " <gcp.bigquery._table._Field at 0x1094dc2d0>,\n",
        " <gcp.bigquery._table._Field at 0x1094dc310>,\n",
        " <gcp.bigquery._table._Field at 0x1094dc350>,\n",
        " <gcp.bigquery._table._Field at 0x1094dc390>,\n",
        " <gcp.bigquery._table._Field at 0x1094dc3d0>,\n",
        " <gcp.bigquery._table._Field at 0x1094dc410>,\n",
        " <gcp.bigquery._table._Field at 0x1094dc450>,\n",
        " <gcp.bigquery._table._Field at 0x1094dc490>,\n",
        " <gcp.bigquery._table._Field at 0x1094dc4d0>,\n",
        " <gcp.bigquery._table._Field at 0x1094dc510>,\n",
        " <gcp.bigquery._table._Field at 0x1094dc550>,\n",
        " <gcp.bigquery._table._Field at 0x1094dc590>,\n",
        " <gcp.bigquery._table._Field at 0x1094dc5d0>,\n",
        " <gcp.bigquery._table._Field at 0x1094dc610>,\n",
        " <gcp.bigquery._table._Field at 0x1094dc650>,\n",
        " <gcp.bigquery._table._Field at 0x1094dc690>,\n",
        " <gcp.bigquery._table._Field at 0x1094dc6d0>,\n",
        " <gcp.bigquery._table._Field at 0x1094dc710>,\n",
        " <gcp.bigquery._table._Field at 0x1094dc750>,\n",
        " <gcp.bigquery._table._Field at 0x1094dc790>,\n",
        " <gcp.bigquery._table._Field at 0x1094dc7d0>,\n",
        " <gcp.bigquery._table._Field at 0x1094dc810>,\n",
        " <gcp.bigquery._table._Field at 0x1094dc850>,\n",
        " <gcp.bigquery._table._Field at 0x1094dc890>,\n",
        " <gcp.bigquery._table._Field at 0x1094dc8d0>,\n",
        " <gcp.bigquery._table._Field at 0x1094dc910>,\n",
        " <gcp.bigquery._table._Field at 0x1094dc950>,\n",
        " <gcp.bigquery._table._Field at 0x1094dc990>,\n",
        " <gcp.bigquery._table._Field at 0x1094dc9d0>,\n",
        " <gcp.bigquery._table._Field at 0x1094dca10>,\n",
        " <gcp.bigquery._table._Field at 0x1094dca50>,\n",
        " <gcp.bigquery._table._Field at 0x1094dca90>,\n",
        " <gcp.bigquery._table._Field at 0x1094dcad0>,\n",
        " <gcp.bigquery._table._Field at 0x1094dcb10>,\n",
        " <gcp.bigquery._table._Field at 0x1094dcb50>,\n",
        " <gcp.bigquery._table._Field at 0x1094dcb90>,\n",
        " <gcp.bigquery._table._Field at 0x1094dcbd0>,\n",
        " <gcp.bigquery._table._Field at 0x1094dcc10>,\n",
        " <gcp.bigquery._table._Field at 0x1094dcc50>,\n",
        " <gcp.bigquery._table._Field at 0x1094dcc90>,\n",
        " <gcp.bigquery._table._Field at 0x1094dccd0>,\n",
        " <gcp.bigquery._table._Field at 0x1094dcd10>,\n",
        " <gcp.bigquery._table._Field at 0x1094dcd50>,\n",
        " <gcp.bigquery._table._Field at 0x1094dcd90>,\n",
        " <gcp.bigquery._table._Field at 0x1094dcdd0>,\n",
        " <gcp.bigquery._table._Field at 0x1094dce10>,\n",
        " <gcp.bigquery._table._Field at 0x1094dce50>,\n",
        " <gcp.bigquery._table._Field at 0x1094dce90>,\n",
        " <gcp.bigquery._table._Field at 0x1094dced0>,\n",
        " <gcp.bigquery._table._Field at 0x1094dcf10>,\n",
        " <gcp.bigquery._table._Field at 0x1094dcf50>,\n",
        " <gcp.bigquery._table._Field at 0x1094dcf90>,\n",
        " <gcp.bigquery._table._Field at 0x1094dcfd0>,\n",
        " <gcp.bigquery._table._Field at 0x1094e1050>,\n",
        " <gcp.bigquery._table._Field at 0x1094e1090>,\n",
        " <gcp.bigquery._table._Field at 0x1094e10d0>,\n",
        " <gcp.bigquery._table._Field at 0x1094e1110>,\n",
        " <gcp.bigquery._table._Field at 0x1094e1150>,\n",
        " <gcp.bigquery._table._Field at 0x1094e1190>,\n",
        " <gcp.bigquery._table._Field at 0x1094e11d0>,\n",
        " <gcp.bigquery._table._Field at 0x1094e1210>,\n",
        " <gcp.bigquery._table._Field at 0x1094e1250>,\n",
        " <gcp.bigquery._table._Field at 0x1094e1290>,\n",
        " <gcp.bigquery._table._Field at 0x1094e12d0>,\n",
        " <gcp.bigquery._table._Field at 0x1094e1310>,\n",
        " <gcp.bigquery._table._Field at 0x1094e1350>,\n",
        " <gcp.bigquery._table._Field at 0x1094e1390>,\n",
        " <gcp.bigquery._table._Field at 0x1094e13d0>,\n",
        " <gcp.bigquery._table._Field at 0x1094e1410>,\n",
        " <gcp.bigquery._table._Field at 0x1094e1450>,\n",
        " <gcp.bigquery._table._Field at 0x1094e1490>,\n",
        " <gcp.bigquery._table._Field at 0x1094e14d0>,\n",
        " <gcp.bigquery._table._Field at 0x1094e1510>,\n",
        " <gcp.bigquery._table._Field at 0x1094e1550>,\n",
        " <gcp.bigquery._table._Field at 0x1094e1590>,\n",
        " <gcp.bigquery._table._Field at 0x1094e15d0>,\n",
        " <gcp.bigquery._table._Field at 0x1094e1610>,\n",
        " <gcp.bigquery._table._Field at 0x1094e1650>,\n",
        " <gcp.bigquery._table._Field at 0x1094e1690>,\n",
        " <gcp.bigquery._table._Field at 0x1094e16d0>,\n",
        " <gcp.bigquery._table._Field at 0x1094e1710>,\n",
        " <gcp.bigquery._table._Field at 0x1094e1750>,\n",
        " <gcp.bigquery._table._Field at 0x1094e1790>,\n",
        " <gcp.bigquery._table._Field at 0x1094e17d0>,\n",
        " <gcp.bigquery._table._Field at 0x1094e1810>,\n",
        " <gcp.bigquery._table._Field at 0x1094e1850>]"
       ]
      }
     ],
     "prompt_number": 3
    },
    {
     "cell_type": "code",
     "collapsed": true,
     "input": [
      "phenotypes.sample(fields=['Participant','Sex_Gender','Year_of_birth','Month_of_birth'])"
     ],
     "language": "python",
     "metadata": {},
     "outputs": [
      {
       "html": [
        "<div>Number of rows: 5</div><div>Query job ID  : job_Dh73JjOV2FH1Dym_8b0Vm1Qin2Q</div><table><tr><th>Year_of_birth</th><th>Participant</th><th>Month_of_birth</th><th>Sex_Gender</th></tr><tr><td>1973</td><td>huBFBBD8</td><td>June</td><td>Male</td></tr><tr><td>1986</td><td>hu5880D9</td><td>June</td><td>Female</td></tr><tr><td>1987</td><td>hu9367D1</td><td>May</td><td>Male</td></tr><tr><td>1960</td><td>hu57850F</td><td>November</td><td>Female</td></tr><tr><td>&nbsp;</td><td>hu1069B0</td><td>&nbsp;</td><td>Female</td></tr></table>"
       ],
       "metadata": {},
       "output_type": "pyout",
       "prompt_number": 4,
       "text": [
        "[{u'Month_of_birth': u'June',\n",
        "  u'Participant': u'huBFBBD8',\n",
        "  u'Sex_Gender': u'Male',\n",
        "  u'Year_of_birth': u'1973'},\n",
        " {u'Month_of_birth': u'June',\n",
        "  u'Participant': u'hu5880D9',\n",
        "  u'Sex_Gender': u'Female',\n",
        "  u'Year_of_birth': u'1986'},\n",
        " {u'Month_of_birth': u'May',\n",
        "  u'Participant': u'hu9367D1',\n",
        "  u'Sex_Gender': u'Male',\n",
        "  u'Year_of_birth': u'1987'},\n",
        " {u'Month_of_birth': u'November',\n",
        "  u'Participant': u'hu57850F',\n",
        "  u'Sex_Gender': u'Female',\n",
        "  u'Year_of_birth': u'1960'},\n",
        " {u'Month_of_birth': None,\n",
        "  u'Participant': u'hu1069B0',\n",
        "  u'Sex_Gender': u'Female',\n",
        "  u'Year_of_birth': None}]"
       ]
      }
     ],
     "prompt_number": 4
    },
    {
     "cell_type": "markdown",
     "metadata": {},
     "source": [
      "## Querying\n",
      "\n",
      "Query to join the tables, and get genders for each person. The resulting query is assigned to the `genders` variable and isn't executed just yet."
     ]
    },
    {
     "cell_type": "code",
     "collapsed": true,
     "input": [
      "%%bq_sql genders\n",
      "SELECT call.callset_name AS name, sex_gender AS gender\n",
      "FROM FLATTEN($variants, call) AS variants\n",
      "JOIN $phenotypes AS pheno ON pheno.participant == variants.call.callset_name\n",
      "GROUP BY name, gender"
     ],
     "language": "python",
     "metadata": {},
     "outputs": [],
     "prompt_number": 5
    },
    {
     "cell_type": "code",
     "collapsed": true,
     "input": [
      "genders.sample(5)"
     ],
     "language": "python",
     "metadata": {},
     "outputs": [
      {
       "html": [
        "<div>Number of rows: 5</div><div>Query job ID  : job_q0zMe8vuKb2MwoOAs_CoZHXPvg4</div><table><tr><th>gender</th><th>name</th></tr><tr><td>Male</td><td>huD3A569</td></tr><tr><td>Male</td><td>huA02824</td></tr><tr><td>Male</td><td>hu2DBF2D</td></tr><tr><td>Male</td><td>hu7DCBF9</td></tr><tr><td>Male</td><td>hu011C57</td></tr></table>"
       ],
       "metadata": {},
       "output_type": "pyout",
       "prompt_number": 6,
       "text": [
        "[{u'gender': u'Male', u'name': u'huD3A569'},\n",
        " {u'gender': u'Male', u'name': u'huA02824'},\n",
        " {u'gender': u'Male', u'name': u'hu2DBF2D'},\n",
        " {u'gender': u'Male', u'name': u'hu7DCBF9'},\n",
        " {u'gender': u'Male', u'name': u'hu011C57'}]"
       ]
      }
     ],
     "prompt_number": 6
    },
    {
     "cell_type": "markdown",
     "metadata": {},
     "source": [
      "## Composing Queries\n",
      "\n",
      "Aggregate the stats to describe the breakdown of genders in the participant group. Notice the reference to the previous query we defined via the `$genders` placeholder. The resulting query is a nested SQL statement."
     ]
    },
    {
     "cell_type": "code",
     "collapsed": true,
     "input": [
      "%%bq_sql stats\n",
      "SELECT gender, COUNT(*) AS count\n",
      "FROM $genders\n",
      "GROUP BY gender"
     ],
     "language": "python",
     "metadata": {},
     "outputs": [],
     "prompt_number": 7
    },
    {
     "cell_type": "code",
     "collapsed": true,
     "input": [
      "print stats.sql"
     ],
     "language": "python",
     "metadata": {},
     "outputs": [
      {
       "output_type": "stream",
       "stream": "stdout",
       "text": [
        "SELECT gender, COUNT(*) AS count\n",
        "FROM (SELECT call.callset_name AS name, sex_gender AS gender\n",
        "FROM FLATTEN([google.com:biggene:pgp.variants], call) AS variants\n",
        "JOIN [google.com:biggene:pgp.phenotypes] AS pheno ON pheno.participant == variants.call.callset_name\n",
        "GROUP BY name, gender)\n",
        "GROUP BY gender\n"
       ]
      }
     ],
     "prompt_number": 8
    },
    {
     "cell_type": "markdown",
     "metadata": {},
     "source": [
      "## Python Pandas Integration"
     ]
    },
    {
     "cell_type": "code",
     "collapsed": true,
     "input": [
      "df = stats.results().to_dataframe().fillna('Unknown').set_index('gender')\n",
      "df"
     ],
     "language": "python",
     "metadata": {},
     "outputs": [
      {
       "html": [
        "<div style=\"max-height:1000px;max-width:1500px;overflow:auto;\">\n",
        "<table border=\"1\" class=\"dataframe\">\n",
        "  <thead>\n",
        "    <tr style=\"text-align: right;\">\n",
        "      <th></th>\n",
        "      <th>count</th>\n",
        "    </tr>\n",
        "    <tr>\n",
        "      <th>gender</th>\n",
        "      <th></th>\n",
        "    </tr>\n",
        "  </thead>\n",
        "  <tbody>\n",
        "    <tr>\n",
        "      <th>Male</th>\n",
        "      <td> 112</td>\n",
        "    </tr>\n",
        "    <tr>\n",
        "      <th>Female</th>\n",
        "      <td>  53</td>\n",
        "    </tr>\n",
        "    <tr>\n",
        "      <th>Unknown</th>\n",
        "      <td>   6</td>\n",
        "    </tr>\n",
        "  </tbody>\n",
        "</table>\n",
        "</div>"
       ],
       "metadata": {},
       "output_type": "pyout",
       "prompt_number": 9,
       "text": [
        "         count\n",
        "gender        \n",
        "Male       112\n",
        "Female      53\n",
        "Unknown      6"
       ]
      }
     ],
     "prompt_number": 9
    },
    {
     "cell_type": "markdown",
     "metadata": {},
     "source": [
      "## Visualization\n",
      "\n",
      "Using matplotlib indirectly, via the plotting APIs on DataFrame."
     ]
    },
    {
     "cell_type": "code",
     "collapsed": true,
     "input": [
      "# From http://colorbrewer2.org/?type=qualitative&scheme=Pastel1&n=3\n",
      "cmap = colors.ListedColormap(['#fbb4ae', '#b3cde3', '#ccebc5'])\n",
      "\n",
      "plot.rcParams['patch.linewidth'] = 0\n",
      "p = df.plot(kind='pie', y='count', legend=False, colormap=cmap)"
     ],
     "language": "python",
     "metadata": {},
     "outputs": [
      {
       "metadata": {},
       "output_type": "display_data",
       "png": "[encoded data removed]",
       "text": [
        "<matplotlib.figure.Figure at 0x1094fead0>"
       ]
      }
     ],
     "prompt_number": 10
    },
    {
     "cell_type": "code",
     "collapsed": true,
     "input": [],
     "language": "python",
     "metadata": {},
     "outputs": []
    }
   ],
   "metadata": {}
  }
 ]
}