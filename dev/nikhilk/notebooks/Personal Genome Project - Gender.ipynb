{
 "metadata": {
  "name": "",
  "signature": "sha256:f6d293f8c991e4d7cb904e6a36ab75766880a09c699d38c74f2fa3e35a237526"
 },
 "nbformat": 3,
 "nbformat_minor": 0,
 "worksheets": [
  {
   "cells": [
    {
     "cell_type": "markdown",
     "metadata": {},
     "source": [
      "# Personal Genome Project - Gender Breakdown\n",
      "\n",
      "This notebook is based on the sample at https://github.com/googlegenomics/bigquery-examples/tree/master/pgp."
     ]
    },
    {
     "cell_type": "code",
     "collapsed": false,
     "input": [
      "import gcp.bigquery as bq\n",
      "import gcp.interactive\n",
      "import json\n",
      "import matplotlib.pyplot as plot\n",
      "import matplotlib.colors as colors"
     ],
     "language": "python",
     "metadata": {},
     "outputs": [],
     "prompt_number": 1
    },
    {
     "cell_type": "markdown",
     "metadata": {},
     "source": [
      "## Tables\n",
      "\n",
      "Define table objects which can be referenced in the queries. They also provide APIs to list schema, or sample rows (as shown)."
     ]
    },
    {
     "cell_type": "code",
     "collapsed": false,
     "input": [
      "variants = bq.table('google.com:biggene:pgp.variants')\n",
      "phenotypes = bq.table('google.com:biggene:pgp.phenotypes')"
     ],
     "language": "python",
     "metadata": {},
     "outputs": [],
     "prompt_number": 2
    },
    {
     "cell_type": "code",
     "collapsed": false,
     "input": [
      "phenotypes.sample().to_dataframe()[['Participant','Sex_Gender','Year_of_birth','Month_of_birth']]"
     ],
     "language": "python",
     "metadata": {},
     "outputs": [
      {
       "html": [
        "<div style=\"max-height:1000px;max-width:1500px;overflow:auto;\">\n",
        "<table border=\"1\" class=\"dataframe\">\n",
        "  <thead>\n",
        "    <tr style=\"text-align: right;\">\n",
        "      <th></th>\n",
        "      <th>Participant</th>\n",
        "      <th>Sex_Gender</th>\n",
        "      <th>Year_of_birth</th>\n",
        "      <th>Month_of_birth</th>\n",
        "    </tr>\n",
        "  </thead>\n",
        "  <tbody>\n",
        "    <tr>\n",
        "      <th>0</th>\n",
        "      <td> huBFBBD8</td>\n",
        "      <td>   Male</td>\n",
        "      <td> 1973</td>\n",
        "      <td>     June</td>\n",
        "    </tr>\n",
        "    <tr>\n",
        "      <th>1</th>\n",
        "      <td> hu5880D9</td>\n",
        "      <td> Female</td>\n",
        "      <td> 1986</td>\n",
        "      <td>     June</td>\n",
        "    </tr>\n",
        "    <tr>\n",
        "      <th>2</th>\n",
        "      <td> hu9367D1</td>\n",
        "      <td>   Male</td>\n",
        "      <td> 1987</td>\n",
        "      <td>      May</td>\n",
        "    </tr>\n",
        "    <tr>\n",
        "      <th>3</th>\n",
        "      <td> hu57850F</td>\n",
        "      <td> Female</td>\n",
        "      <td> 1960</td>\n",
        "      <td> November</td>\n",
        "    </tr>\n",
        "    <tr>\n",
        "      <th>4</th>\n",
        "      <td> hu1069B0</td>\n",
        "      <td> Female</td>\n",
        "      <td> None</td>\n",
        "      <td>     None</td>\n",
        "    </tr>\n",
        "  </tbody>\n",
        "</table>\n",
        "</div>"
       ],
       "metadata": {},
       "output_type": "pyout",
       "prompt_number": 3,
       "text": [
        "  Participant Sex_Gender Year_of_birth Month_of_birth\n",
        "0    huBFBBD8       Male          1973           June\n",
        "1    hu5880D9     Female          1986           June\n",
        "2    hu9367D1       Male          1987            May\n",
        "3    hu57850F     Female          1960       November\n",
        "4    hu1069B0     Female          None           None"
       ]
      }
     ],
     "prompt_number": 3
    },
    {
     "cell_type": "markdown",
     "metadata": {},
     "source": [
      "## Querying\n",
      "\n",
      "Query to join the tables, and get genders for each person. The resulting query is assigned to the `genders` variable and isn't executed just yet."
     ]
    },
    {
     "cell_type": "code",
     "collapsed": false,
     "input": [
      "%%bigquery genders\n",
      "SELECT call.callset_name AS name, sex_gender AS gender\n",
      "FROM FLATTEN($variants, call) AS variants\n",
      "JOIN $phenotypes AS pheno ON pheno.participant == variants.call.callset_name\n",
      "GROUP BY name, gender"
     ],
     "language": "python",
     "metadata": {},
     "outputs": [],
     "prompt_number": 4
    },
    {
     "cell_type": "markdown",
     "metadata": {},
     "source": [
      "Sample from the query. This wraps the query's SQL with an outer SQL statement to limit the number of rows retrieved. The sample query will be executed as a result of the `to_dataframe` call, which produces a regular pandas DataFrame."
     ]
    },
    {
     "cell_type": "code",
     "collapsed": false,
     "input": [
      "genders.sample(5).to_dataframe()"
     ],
     "language": "python",
     "metadata": {},
     "outputs": [
      {
       "html": [
        "<div style=\"max-height:1000px;max-width:1500px;overflow:auto;\">\n",
        "<table border=\"1\" class=\"dataframe\">\n",
        "  <thead>\n",
        "    <tr style=\"text-align: right;\">\n",
        "      <th></th>\n",
        "      <th>gender</th>\n",
        "      <th>name</th>\n",
        "    </tr>\n",
        "  </thead>\n",
        "  <tbody>\n",
        "    <tr>\n",
        "      <th>0</th>\n",
        "      <td> Female</td>\n",
        "      <td> hu8229AE</td>\n",
        "    </tr>\n",
        "    <tr>\n",
        "      <th>1</th>\n",
        "      <td>   Male</td>\n",
        "      <td> huDE435D</td>\n",
        "    </tr>\n",
        "    <tr>\n",
        "      <th>2</th>\n",
        "      <td>   Male</td>\n",
        "      <td> huB1FD55</td>\n",
        "    </tr>\n",
        "    <tr>\n",
        "      <th>3</th>\n",
        "      <td>   Male</td>\n",
        "      <td> huE2E371</td>\n",
        "    </tr>\n",
        "    <tr>\n",
        "      <th>4</th>\n",
        "      <td>   Male</td>\n",
        "      <td> huAEC1B0</td>\n",
        "    </tr>\n",
        "  </tbody>\n",
        "</table>\n",
        "</div>"
       ],
       "metadata": {},
       "output_type": "pyout",
       "prompt_number": 5,
       "text": [
        "   gender      name\n",
        "0  Female  hu8229AE\n",
        "1    Male  huDE435D\n",
        "2    Male  huB1FD55\n",
        "3    Male  huE2E371\n",
        "4    Male  huAEC1B0"
       ]
      }
     ],
     "prompt_number": 5
    },
    {
     "cell_type": "markdown",
     "metadata": {},
     "source": [
      "Aggregate the stats to describe the breakdown of genders in the participant group.\n",
      "\n",
      "Notice the reference to the previous query we defined via the `$genders` placeholder. The resulting query is a nested SQL statement."
     ]
    },
    {
     "cell_type": "code",
     "collapsed": false,
     "input": [
      "%%bigquery stats\n",
      "SELECT gender, COUNT(*) AS count\n",
      "FROM $genders\n",
      "GROUP BY gender"
     ],
     "language": "python",
     "metadata": {},
     "outputs": [],
     "prompt_number": 6
    },
    {
     "cell_type": "code",
     "collapsed": false,
     "input": [
      "df = stats.results().to_dataframe().fillna('Unknown').set_index('gender')\n",
      "df"
     ],
     "language": "python",
     "metadata": {},
     "outputs": [
      {
       "html": [
        "<div style=\"max-height:1000px;max-width:1500px;overflow:auto;\">\n",
        "<table border=\"1\" class=\"dataframe\">\n",
        "  <thead>\n",
        "    <tr style=\"text-align: right;\">\n",
        "      <th></th>\n",
        "      <th>count</th>\n",
        "    </tr>\n",
        "    <tr>\n",
        "      <th>gender</th>\n",
        "      <th></th>\n",
        "    </tr>\n",
        "  </thead>\n",
        "  <tbody>\n",
        "    <tr>\n",
        "      <th>Female</th>\n",
        "      <td>  53</td>\n",
        "    </tr>\n",
        "    <tr>\n",
        "      <th>Male</th>\n",
        "      <td> 112</td>\n",
        "    </tr>\n",
        "    <tr>\n",
        "      <th>Unknown</th>\n",
        "      <td>   6</td>\n",
        "    </tr>\n",
        "  </tbody>\n",
        "</table>\n",
        "</div>"
       ],
       "metadata": {},
       "output_type": "pyout",
       "prompt_number": 7,
       "text": [
        "         count\n",
        "gender        \n",
        "Female      53\n",
        "Male       112\n",
        "Unknown      6"
       ]
      }
     ],
     "prompt_number": 7
    },
    {
     "cell_type": "markdown",
     "metadata": {},
     "source": [
      "## Visualization\n",
      "\n",
      "Using matplotlib indirectly, via the plotting APIs on DataFrame."
     ]
    },
    {
     "cell_type": "code",
     "collapsed": false,
     "input": [
      "# From http://colorbrewer2.org/?type=qualitative&scheme=Pastel1&n=3\n",
      "cmap = colors.ListedColormap(['#fbb4ae', '#b3cde3', '#ccebc5'])\n",
      "\n",
      "plot.rcParams['patch.linewidth'] = 0\n",
      "p = df.plot(kind='pie', y='count', legend=False, colormap=cmap)"
     ],
     "language": "python",
     "metadata": {},
     "outputs": [
      {
       "metadata": {},
       "output_type": "display_data",
       "png": "[encoded data removed]",
       "text": [
        "<matplotlib.figure.Figure at 0x3ec0bd0>"
       ]
      }
     ],
     "prompt_number": 8
    },
    {
     "cell_type": "code",
     "collapsed": false,
     "input": [],
     "language": "python",
     "metadata": {},
     "outputs": []
    }
   ],
   "metadata": {}
  }
 ]
}