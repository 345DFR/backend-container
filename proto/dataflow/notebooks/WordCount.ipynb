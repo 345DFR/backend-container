{
 "metadata": {
  "name": "",
  "signature": "sha256:4cf1b854796437b3283e708245ed964d1b7b477a26de74ff56f2d26e4e654783"
 },
 "nbformat": 3,
 "nbformat_minor": 0,
 "worksheets": [
  {
   "cells": [
    {
     "cell_type": "code",
     "collapsed": false,
     "input": [
      "public class ExtractWordsFn extends DoFn<String, String> {\n",
      "\n",
      "  @Override\n",
      "  public void processElement(ProcessContext c) {\n",
      "    String[] words = c.element().split(\"[^a-zA-Z']+\");\n",
      "    \n",
      "    for (String word : words) {\n",
      "      if (!word.isEmpty()) {\n",
      "        c.output(word);\n",
      "      }\n",
      "    }\n",
      "  }\n",
      "}"
     ],
     "language": "java",
     "metadata": {
      "ijava.snippet.type": "CompilationUnit"
     },
     "outputs": [],
     "prompt_number": 1
    },
    {
     "cell_type": "code",
     "collapsed": false,
     "input": [
      "String input = \"Hello World\";\n",
      "List<String> output = DataflowRunner.of(new ExtractWordsFn()).process(input);\n",
      "\n",
      "print(output);"
     ],
     "language": "java",
     "metadata": {
      "ijava.snippet.type": "CodeBlock"
     },
     "outputs": [
      {
       "output_type": "stream",
       "stream": "stdout",
       "text": [
        "[Hello, World]"
       ]
      }
     ],
     "prompt_number": 2
    },
    {
     "cell_type": "code",
     "collapsed": false,
     "input": [
      "List<String> input = list(\"Hello World\", \"Goodbye World\");\n",
      "List<String> output = DataflowRunner.of(new ExtractWordsFn()).process(input);\n",
      "\n",
      "print(output);"
     ],
     "language": "java",
     "metadata": {
      "ijava.snippet.type": "CodeBlock"
     },
     "outputs": [
      {
       "output_type": "stream",
       "stream": "stdout",
       "text": [
        "[Hello, World, Goodbye, World]"
       ]
      }
     ],
     "prompt_number": 3
    },
    {
     "cell_type": "code",
     "collapsed": false,
     "input": [
      "public class FormatCountsFn extends DoFn<KV<String, Long>, String> {\n",
      "\n",
      "  @Override\n",
      "  public void processElement(ProcessContext c) {\n",
      "    c.output(c.element().getKey() + \": \" + c.element().getValue());\n",
      "  }\n",
      "}"
     ],
     "language": "java",
     "metadata": {
      "ijava.snippet.type": "CompilationUnit"
     },
     "outputs": [],
     "prompt_number": 4
    },
    {
     "cell_type": "code",
     "collapsed": false,
     "input": [
      "public class WordCountTransform extends PTransform<PCollection<String>, PCollection<String>> {\n",
      "  \n",
      "  @Override\n",
      "  public PCollection<String> apply(PCollection<String> input){\n",
      "    return input.apply(ParDo.of(new ExtractWordsFn()).withName(\"ExtractWords\"))\n",
      "                .apply(Count.<String>perElement().withName(\"Count\"))\n",
      "                .apply(ParDo.of(new FormatCountsFn()).withName(\"Format\"));\n",
      "  }\n",
      "}"
     ],
     "language": "java",
     "metadata": {
      "ijava.snippet.type": "CompilationUnit"
     },
     "outputs": [],
     "prompt_number": 5
    },
    {
     "cell_type": "code",
     "collapsed": false,
     "input": [
      "List<String> input = list(\"Hello World\", \"Goodbye World\");\n",
      "List<String> output = DataflowRunner.of(new WordCountTransform()).process(input);\n",
      "\n",
      "print(output);"
     ],
     "language": "java",
     "metadata": {
      "ijava.snippet.type": "CodeBlock"
     },
     "outputs": [
      {
       "output_type": "stream",
       "stream": "stdout",
       "text": [
        "[World: 2, Goodbye: 1, Hello: 1]"
       ]
      }
     ],
     "prompt_number": 6
    },
    {
     "cell_type": "code",
     "collapsed": false,
     "input": [
      "public class WordCount extends Dataflow {\n",
      "  \n",
      "  @Override\n",
      "  public void initializePipeline(Pipeline pipeline) {\n",
      "    DataSet<String> lines = this.readFrom(\"lines\", TextIO.Read.from(\"/tmp/a.txt\"));\n",
      "    DataSet<String> counts = this.<String>writeTo(\"counts\");\n",
      "    \n",
      "    pipeline.apply(lines.reader())\n",
      "            .apply(new WordCountTransform())\n",
      "            .apply(counts.writer());\n",
      "\n",
      "  }\n",
      "}"
     ],
     "language": "java",
     "metadata": {
      "ijava.snippet.type": "CompilationUnit"
     },
     "outputs": [],
     "prompt_number": 7
    },
    {
     "cell_type": "code",
     "collapsed": false,
     "input": [
      "List<String> lines = list(\"aaa bbb ccc\", \"foo bar baz\", \"aaa 123\");"
     ],
     "language": "java",
     "metadata": {
      "ijava.snippet.type": "CodeMembers"
     },
     "outputs": [],
     "prompt_number": 8
    },
    {
     "cell_type": "code",
     "collapsed": false,
     "input": [
      "%dataflow run"
     ],
     "language": "java",
     "metadata": {},
     "outputs": [
      {
       "html": [
        "<div id='_1420674740287'><svg class=\"df-pipeline\" width=\"100%\" height=600><g /></svg></div><script>\n",
        "(function(dom) {\n",
        "require(['extensions/dataflow'], function(dataflow) {\n",
        "dataflow.renderPipeline(dom, [{\"id\":\"lines\",\"edges\":[\"WordCountTransform\",\"WordCountTransform/ExtractWords\"],\"nodes\":[],\"name\":\"lines\"},{\"id\":\"WordCountTransform\",\"edges\":[\"counts\"],\"nodes\":[{\"id\":\"WordCountTransform/ExtractWords\",\"edges\":[\"WordCountTransform/Count\",\"WordCountTransform/Count/Init\"],\"nodes\":[],\"name\":\"ExtractWords\"},{\"id\":\"WordCountTransform/Count\",\"edges\":[\"WordCountTransform/Format\"],\"nodes\":[{\"id\":\"WordCountTransform/Count/Init\",\"edges\":[\"WordCountTransform/Count/Sum.PerKey\",\"WordCountTransform/Count/Sum.PerKey/GroupByKey\"],\"nodes\":[],\"name\":\"Init\"},{\"id\":\"WordCountTransform/Count/Sum.PerKey\",\"edges\":[],\"nodes\":[{\"id\":\"WordCountTransform/Count/Sum.PerKey/GroupByKey\",\"edges\":[\"WordCountTransform/Count/Sum.PerKey/GroupedValues\"],\"nodes\":[],\"name\":\"GroupByKey\"},{\"id\":\"WordCountTransform/Count/Sum.PerKey/GroupedValues\",\"edges\":[],\"nodes\":[],\"name\":\"GroupedValues\"}],\"name\":\"Sum.PerKey\"}],\"name\":\"Count\"},{\"id\":\"WordCountTransform/Format\",\"edges\":[],\"nodes\":[],\"name\":\"Format\"}],\"name\":\"WordCountTransform\"},{\"id\":\"counts\",\"edges\":[],\"nodes\":[],\"name\":\"counts\"}]);\n",
        "});})(document.getElementById('_1420674740287'))\n",
        "</script>"
       ],
       "metadata": {},
       "output_type": "display_data"
      }
     ],
     "prompt_number": 9
    },
    {
     "cell_type": "code",
     "collapsed": false,
     "input": [
      "counts"
     ],
     "language": "java",
     "metadata": {
      "ijava.snippet.type": "CodeExpression"
     },
     "outputs": [
      {
       "metadata": {},
       "output_type": "display_data",
       "text": [
        "[ccc: 1, baz: 1, bbb: 1, foo: 1, bar: 1, aaa: 2]"
       ]
      }
     ],
     "prompt_number": 10
    },
    {
     "cell_type": "code",
     "collapsed": false,
     "input": [],
     "language": "java",
     "metadata": {},
     "outputs": []
    }
   ],
   "metadata": {}
  }
 ]
}