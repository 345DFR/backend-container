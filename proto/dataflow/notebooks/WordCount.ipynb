{
 "metadata": {
  "name": "",
  "signature": "sha256:80cb47dafeca86c168e51f7a21ed073c27a2c52b6b6a66a00e094172220299ae"
 },
 "nbformat": 3,
 "nbformat_minor": 0,
 "worksheets": [
  {
   "cells": [
    {
     "cell_type": "heading",
     "level": 1,
     "metadata": {},
     "source": [
      "Dataflow Hello World - Word Count"
     ]
    },
    {
     "cell_type": "heading",
     "level": 2,
     "metadata": {},
     "source": [
      "ExtractWordsFn"
     ]
    },
    {
     "cell_type": "markdown",
     "metadata": {},
     "source": [
      "The ExtractWordsFn takes as input a string (typically a full line of text) and outputs a set of strings, each corresponding to a word occuring within the input."
     ]
    },
    {
     "cell_type": "code",
     "collapsed": false,
     "input": [
      "public class ExtractWordsFn extends DoFn<String, String> {\n",
      "\n",
      "  @Override\n",
      "  public void processElement(ProcessContext c) {\n",
      "    String[] words = c.element().split(\"[^a-zA-Z']+\");\n",
      "    \n",
      "    for (String word : words) {\n",
      "      if (!word.isEmpty()) {\n",
      "        c.output(word);\n",
      "      }\n",
      "    }\n",
      "  }\n",
      "}"
     ],
     "language": "java",
     "metadata": {
      "ijava.snippet.type": "CompilationUnit"
     },
     "outputs": [],
     "prompt_number": 1
    },
    {
     "cell_type": "markdown",
     "metadata": {},
     "source": [
      "Associated tests\n",
      "\n",
      "TODO: Wrap these into \"test_\" prefixed methods."
     ]
    },
    {
     "cell_type": "code",
     "collapsed": false,
     "input": [
      "String input = \"Hello World\";\n",
      "List<String> output = DataflowRunner.of(new ExtractWordsFn()).process(input);\n",
      "\n",
      "print(output);"
     ],
     "language": "java",
     "metadata": {
      "ijava.snippet.type": "CodeBlock"
     },
     "outputs": [
      {
       "output_type": "stream",
       "stream": "stdout",
       "text": [
        "[Hello, World]"
       ]
      }
     ],
     "prompt_number": 2
    },
    {
     "cell_type": "code",
     "collapsed": false,
     "input": [
      "List<String> input = list(\"Hello World\", \"Goodbye World\");\n",
      "List<String> output = DataflowRunner.of(new ExtractWordsFn()).process(input);\n",
      "\n",
      "print(output);"
     ],
     "language": "java",
     "metadata": {
      "ijava.snippet.type": "CodeBlock"
     },
     "outputs": [
      {
       "output_type": "stream",
       "stream": "stdout",
       "text": [
        "[Hello, World, Goodbye, World]"
       ]
      }
     ],
     "prompt_number": 3
    },
    {
     "cell_type": "markdown",
     "metadata": {},
     "source": [
      "----"
     ]
    },
    {
     "cell_type": "heading",
     "level": 2,
     "metadata": {},
     "source": [
      "WordCountTransform"
     ]
    },
    {
     "cell_type": "markdown",
     "metadata": {},
     "source": [
      "WordCountTransform transforms input text into a set of key-value pairs corresponding to unique word + associated count tuples. "
     ]
    },
    {
     "cell_type": "code",
     "collapsed": false,
     "input": [
      "public class WordCountTransform extends PTransform<PCollection<String>, PCollection<KV<String, Long>>> {\n",
      "  \n",
      "  @Override\n",
      "  public PCollection<KV<String, Long>> apply(PCollection<String> input){\n",
      "    return input.apply(ParDo.of(new ExtractWordsFn()).withName(\"ExtractWords\"))\n",
      "                .apply(Count.<String>perElement().withName(\"Count\"));\n",
      "  }\n",
      "}"
     ],
     "language": "java",
     "metadata": {
      "ijava.snippet.type": "CompilationUnit"
     },
     "outputs": [],
     "prompt_number": 4
    },
    {
     "cell_type": "code",
     "collapsed": false,
     "input": [
      "List<String> input = list(\"Hello World\", \"Goodbye World\");\n",
      "List<KV<String, Long>> output = DataflowRunner.of(new WordCountTransform()).process(input);\n",
      "\n",
      "print(output);"
     ],
     "language": "java",
     "metadata": {
      "ijava.snippet.type": "CodeBlock"
     },
     "outputs": [
      {
       "output_type": "stream",
       "stream": "stdout",
       "text": [
        "[KV(World, 2), KV(Goodbye, 1), KV(Hello, 1)]"
       ]
      }
     ],
     "prompt_number": 5
    },
    {
     "cell_type": "markdown",
     "metadata": {},
     "source": [
      "----"
     ]
    },
    {
     "cell_type": "heading",
     "level": 2,
     "metadata": {},
     "source": [
      "WordCountDataflow"
     ]
    },
    {
     "cell_type": "markdown",
     "metadata": {},
     "source": [
      "This class assembles the pipeline to be executed. It makes use of the above defined transform, and defines the input source and output target to read input data, and write out generated pipeline results."
     ]
    },
    {
     "cell_type": "code",
     "collapsed": false,
     "input": [
      "public class WordCount extends Dataflow {\n",
      "  \n",
      "  @Override\n",
      "  public void initializePipeline(Pipeline pipeline) {\n",
      "    DataSet<String> lines = this.readFrom(\"lines\", TextIO.Read.from(\"/tmp/a.txt\"));\n",
      "    DataSet<KV<String, Long>> counts = this.<KV<String, Long>>writeTo(\"counts\");\n",
      "    \n",
      "    pipeline.apply(lines.reader())\n",
      "            .apply(new WordCountTransform())\n",
      "            .apply(counts.writer());\n",
      "\n",
      "  }\n",
      "}"
     ],
     "language": "java",
     "metadata": {
      "ijava.snippet.type": "CompilationUnit"
     },
     "outputs": [],
     "prompt_number": 6
    },
    {
     "cell_type": "code",
     "collapsed": false,
     "input": [
      "List<String> lines = list(\"aaa bbb ccc\", \"foo bar baz\", \"aaa 123\");"
     ],
     "language": "java",
     "metadata": {
      "ijava.snippet.type": "CodeMembers"
     },
     "outputs": [],
     "prompt_number": 7
    },
    {
     "cell_type": "code",
     "collapsed": false,
     "input": [
      "%dataflow run"
     ],
     "language": "java",
     "metadata": {},
     "outputs": [
      {
       "html": [
        "<div id='_1422402372624' + class='df-run'><svg class=\"df-pipeline\" width=\"100%\" height=600><g /></svg><label class=\"df-title\"></label><div class=\"df-data\" width=\"100%\"></div></div><script>\n",
        "(function(dom) {\n",
        "require(['extensions/dataflow'], function(dataflow) {\n",
        "dataflow.renderPipeline(dom, [{\"id\":\"lines\",\"edges\":[\"WordCountTransform\",\"WordCountTransform/ExtractWords\"],\"nodes\":[],\"name\":\"lines\"},{\"id\":\"WordCountTransform\",\"edges\":[\"counts\"],\"nodes\":[{\"id\":\"WordCountTransform/ExtractWords\",\"edges\":[\"WordCountTransform/Count\",\"WordCountTransform/Count/Init\"],\"nodes\":[],\"name\":\"ExtractWords\"},{\"id\":\"WordCountTransform/Count\",\"edges\":[],\"nodes\":[{\"id\":\"WordCountTransform/Count/Init\",\"edges\":[\"WordCountTransform/Count/Sum.PerKey\",\"WordCountTransform/Count/Sum.PerKey/GroupByKey\"],\"nodes\":[],\"name\":\"Init\"},{\"id\":\"WordCountTransform/Count/Sum.PerKey\",\"edges\":[],\"nodes\":[{\"id\":\"WordCountTransform/Count/Sum.PerKey/GroupByKey\",\"edges\":[\"WordCountTransform/Count/Sum.PerKey/GroupedValues\"],\"nodes\":[],\"name\":\"GroupByKey\"},{\"id\":\"WordCountTransform/Count/Sum.PerKey/GroupedValues\",\"edges\":[],\"nodes\":[],\"name\":\"GroupedValues\"}],\"name\":\"Sum.PerKey\"}],\"name\":\"Count\"}],\"name\":\"WordCountTransform\"},{\"id\":\"counts\",\"edges\":[],\"nodes\":[],\"name\":\"counts\"}]);\n",
        "});})(document.getElementById('_1422402372624'))\n",
        "</script>"
       ],
       "metadata": {},
       "output_type": "display_data"
      }
     ],
     "prompt_number": 8
    },
    {
     "cell_type": "code",
     "collapsed": false,
     "input": [
      "%chart --type columns --data counts"
     ],
     "language": "java",
     "metadata": {},
     "outputs": [
      {
       "html": [
        "<div id='_1422402372626' + class='null'></div><script>\n",
        "(function(dom) {\n",
        "require(['extensions/charting'], function(charts) {\n",
        "charts.render(dom, 'columns', 'counts', {});\n",
        "});})(document.getElementById('_1422402372626'))\n",
        "</script>"
       ],
       "metadata": {},
       "output_type": "display_data"
      }
     ],
     "prompt_number": 9
    },
    {
     "cell_type": "code",
     "collapsed": false,
     "input": [
      "%%bq sql\n",
      "select * from [cloud-datalab:sampledata.requestlogs_20140615] limit 10"
     ],
     "language": "java",
     "metadata": {},
     "outputs": [
      {
       "html": [
        "<table><tr><th>timestamp</th><th>latency</th><th>status</th><th>method</th><th>endpoint</th></tr><tr><td>1.402815600003772E9</td><td>122</td><td>200</td><td>GET</td><td>Interact3</td></tr><tr><td>1.402815600428897E9</td><td>144</td><td>200</td><td>GET</td><td>Interact3</td></tr><tr><td>1.402815600536486E9</td><td>48</td><td>200</td><td>GET</td><td>Interact3</td></tr><tr><td>1.40281560065276E9</td><td>28</td><td>405</td><td>GET</td><td>Interact2</td></tr><tr><td>1.4028156006701E9</td><td>103</td><td>200</td><td>GET</td><td>Interact3</td></tr><tr><td>1.402815600834251E9</td><td>121</td><td>405</td><td>GET</td><td>Interact2</td></tr><tr><td>1.402815600943075E9</td><td>28</td><td>200</td><td>GET</td><td>Other</td></tr><tr><td>1.402815601000102E9</td><td>124</td><td>405</td><td>GET</td><td>Interact2</td></tr><tr><td>1.402815601071107E9</td><td>49</td><td>200</td><td>GET</td><td>Interact3</td></tr><tr><td>1.402815601159701E9</td><td>119</td><td>200</td><td>GET</td><td>Other</td></tr></table>"
       ],
       "metadata": {},
       "output_type": "display_data"
      }
     ],
     "prompt_number": 10
    },
    {
     "cell_type": "code",
     "collapsed": false,
     "input": [],
     "language": "java",
     "metadata": {},
     "outputs": [],
     "prompt_number": 11
    }
   ],
   "metadata": {}
  }
 ]
}