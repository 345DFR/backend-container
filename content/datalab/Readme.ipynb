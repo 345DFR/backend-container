{
 "cells": [
  {
   "cell_type": "markdown",
   "metadata": {},
   "source": [
    "# Guide to Google Cloud Datalab"
   ]
  },
  {
   "cell_type": "markdown",
   "metadata": {},
   "source": [
    "Thanks for using [Datalab](https://cloud.google.com/datalab)!\n",
    "\n",
    "This notebook serves as your guide to the documentation, and samples that accompany Datalab, to describe how you can use interactive notebooks, Python, and SQL to explore, visualize, analyze and transform your data within [Google Cloud Platform](https://cloud.google.com).\n",
    "\n",
    "As an aside, you'll notice that all of this content is itself distributed in the form of notebooks - very much like the ones you can use for your own tasks, turning your work with data iterative, self-documenting and shareable."
   ]
  },
  {
   "cell_type": "markdown",
   "metadata": {},
   "source": [
    "# Documentation Outline"
   ]
  },
  {
   "cell_type": "markdown",
   "metadata": {},
   "source": [
    "## Introduction\n",
    "\n",
    "Please browse through these for a basic orientation and know-how about Datalab and how it works.\n",
    "\n",
    "* [**Introduction to Notebooks**](intro/Introduction to Notebooks.ipynb) - introduces the interactive notebook metaphor and especially, how it manifests in the Datalab environment.\n",
    "\n",
    "\n",
    "* [**Introduction to Python**](intro/Introduction to Python.ipynb) - Python is essential to working within Datalab. This provides a quick overview of the Python environment, as well as links to online in-depth language tutorials if you're new to Python.\n",
    "\n",
    "\n",
    "* [**Working with Datalab**](intro/Working with Datalab.ipynb) - This describes a few details of the Datalab environment, how the Datalab workspace is configured, and important details about authorization and source control."
   ]
  },
  {
   "cell_type": "markdown",
   "metadata": {},
   "source": [
    "## Tutorials\n",
    "\n",
    "This set of notebooks describes using the product and its set of features, including the tools and Python APIs that you can use within notebooks."
   ]
  },
  {
   "cell_type": "markdown",
   "metadata": {},
   "source": [
    "### BigQuery\n",
    "\n",
    "* [**Hello BigQuery**](tutorials/BigQuery/Hello BigQuery.ipynb) - Google Cloud Datalab puts BigQuery at your fingertips. For the most basic example, start here.\n",
    "\n",
    "\n",
    "* [**BigQuery Commands**](tutorials/BigQuery/BigQuery Commands.ipynb) - Use simple, declarative commands to do everything from exploring your data to interactively analyzing it, transforming it or visualizing it.\n",
    "\n",
    "[TODO - Some more - in the meantime please see the list of old docs below that are in process of being updated]"
   ]
  },
  {
   "cell_type": "markdown",
   "metadata": {},
   "source": [
    "### Cloud Storage\n",
    "\n",
    "[TODO - List]"
   ]
  },
  {
   "cell_type": "markdown",
   "metadata": {},
   "source": [
    "### Data Analysis\n",
    "\n",
    "[TODO - List]"
   ]
  },
  {
   "cell_type": "markdown",
   "metadata": {},
   "source": [
    "### Data Visualization\n",
    "\n",
    "[TODO - List]"
   ]
  },
  {
   "cell_type": "markdown",
   "metadata": {},
   "source": [
    "## Samples\n",
    "\n",
    "This set of notebooks build on the techniques and concepts illustrated in the documentation and puts them to practice.\n",
    "\n",
    "* [**Anomaly Detection in HTTP Logs**](samples/Anomaly Detection in HTTP Logs.ipynb) - demonstrates using SQL to convert raw HTTP logs stored in BigQuery into a time-series that can be used for detecting anomalies in a web application.\n",
    "\n",
    "\n",
    "* [**Conversion Analysis with Google Analytics Data.ipynb**](samples/Conversion Analysis with Google Analytics Data.ipynb) - demonstrates using custom analysis and visualization over analytics telemetry data exported into BigQuery.\n",
    "\n",
    "\n",
    "* [**Programming Language Correlation**](samples/Programming Language Correlation.ipynb) - demonstrates using the combination of SQL and Python data analysis using Pandas to determine how programming languages correlate (or not) by tapping into OSS developer activity at GitHub.\n",
    "\n",
    "\n",
    "* [**Exploring Genomics Data**](samples/Exploring Genomics Data.ipynb) - demostrates browsing and understanding gene data provided in the form of publicly accessible BigQuery data."
   ]
  },
  {
   "cell_type": "markdown",
   "metadata": {},
   "source": [
    "# Older Docs\n",
    "\n",
    "Note, these are temporary. They're being worked on, but the content is still very much valuable.\n",
    "\n",
    "* [Big Query Basics](/notebooks/datalab/docs/BigQuery%20-%20Basics.ipynb)\n",
    "* [Composing BigQuery SQL](/notebooks/datalab/docs/BigQuery - Composing Queries.ipynb)\n",
    "* [Data Transforms with SQL](/notebooks/datalab/docs/BigQuery - Data Transforms with SQL.ipynb)\n",
    "* [Extracting Data](/notebooks/datalab/docs/BigQuery - Extracting Data.ipynb)\n",
    "* [Inserting Data](/notebooks/datalab/docs/BigQuery - Inserting Data.ipynb)\n",
    "* [JavaScript UDFs](/notebooks/datalab/docs/BigQuery - JavaScript UDFs.ipynb)\n",
    "* [Parameterized Queries](/notebooks/datalab/docs/BigQuery - Parameterized Queries.ipynb)\n",
    "* [Async BigQuery APIs](/notebooks/datalab/docs/BigQuery - Using Asynchronous APIs.ipynb)\n",
    "* [Interactive Charts](/notebooks/datalab/docs/Charting - Interactive Charts.ipynb)\n",
    "* [Storage - Reading/Writing Files](/notebooks/datalab/docs/Cloud Storage - Reading and Writing Files.ipynb)\n",
    "* [Storage Commands](/notebooks/datalab/docs/Cloud Storage - Using Storage Commands.ipynb)"
   ]
  },
  {
   "cell_type": "markdown",
   "metadata": {
    "collapsed": true
   },
   "source": [
    "# Updating Documentation"
   ]
  },
  {
   "cell_type": "markdown",
   "metadata": {},
   "source": [
    "Datalab documentation is distributed as notebooks and copied into the source repository of the Cloud project.\n",
    "\n",
    "You can update the sample content by manually copying over notebooks into your repository, and committing those changes. Do make sure you've not made any changes to the samples that you don't want to lose or overwrite."
   ]
  },
  {
   "cell_type": "code",
   "execution_count": null,
   "metadata": {
    "collapsed": false
   },
   "outputs": [],
   "source": [
    "%%bash\n",
    "gsutil -q cp -r gs://cloud-datalab/content/datalab .."
   ]
  },
  {
   "cell_type": "markdown",
   "metadata": {},
   "source": [
    "## Committing and Refreshing\n",
    "\n",
    "Once you have updated the local copy of the documents, you can commit them within the git repository.\n",
    "\n",
    "Secondly, make sure you refresh your notebooks to load the latest and updated documents."
   ]
  }
 ],
 "metadata": {
  "kernelspec": {
   "display_name": "Python 2",
   "language": "python",
   "name": "python2"
  },
  "language_info": {
   "codemirror_mode": {
    "name": "ipython",
    "version": 2
   },
   "file_extension": ".py",
   "mimetype": "text/x-python",
   "name": "python",
   "nbconvert_exporter": "python",
   "pygments_lexer": "ipython2",
   "version": "2.7.9"
  }
 },
 "nbformat": 4,
 "nbformat_minor": 0
}
