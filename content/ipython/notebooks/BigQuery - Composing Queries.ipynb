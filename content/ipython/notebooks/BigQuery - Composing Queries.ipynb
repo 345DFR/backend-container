{
 "metadata": {
  "name": "",
  "signature": "sha256:cf4e84f2755ee2a2b4fba3de1339d3cc3bc3dddfcc55c7d6572f7efe1d2af8e3"
 },
 "nbformat": 3,
 "nbformat_minor": 0,
 "worksheets": [
  {
   "cells": [
    {
     "cell_type": "markdown",
     "metadata": {},
     "source": [
      "# BigQuery - Composing Queries\n",
      "\n",
      "This notebook builds on the earlier BigQuery introduction to demonstrate how you can create more complex queries one-step-at-a-time and iteratively build up the final result set as part of your data exploration and analysis.\n",
      "\n",
      "----"
     ]
    },
    {
     "cell_type": "code",
     "collapsed": false,
     "input": [],
     "language": "python",
     "metadata": {},
     "outputs": []
    }
   ],
   "metadata": {}
  }
 ]
}