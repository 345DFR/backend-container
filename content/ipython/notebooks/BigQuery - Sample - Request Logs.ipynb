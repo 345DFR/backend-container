{
 "metadata": {
  "name": "",
  "signature": "sha256:b576ce561a47e210ba5771e6690632e9728a3baa0b9f831f1c7fe98d8098e72e"
 },
 "nbformat": 3,
 "nbformat_minor": 0,
 "worksheets": [
  {
   "cells": [
    {
     "cell_type": "markdown",
     "metadata": {},
     "source": [
      "# BigQuery - Sample - Request Logs\n",
      "\n",
      "This notebook demonstrates working with request logs data stored in BigQuery using a sample log dataset from a hypothetical application.\n",
      "\n",
      "----"
     ]
    },
    {
     "cell_type": "code",
     "collapsed": false,
     "input": [],
     "language": "python",
     "metadata": {},
     "outputs": []
    }
   ],
   "metadata": {}
  }
 ]
}