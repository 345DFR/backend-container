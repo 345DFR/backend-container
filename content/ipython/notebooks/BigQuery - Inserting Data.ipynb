{
 "cells": [
  {
   "cell_type": "markdown",
   "metadata": {},
   "source": [
    "# BigQuery - Inserting Data in a DataFrame into a Table\n",
    "\n",
    "This notebook demonstrates how to stream in data from a Pandas dataframe into a BiqQuery table.\n",
    "\n",
    "### In this notebook you will\n",
    "* Create a Pandas dataframe containing some stock price data\n",
    "* Learn how to make some adjustments to a Pandas dataframe to include the index as a column and make sure columns have the right types\n",
    "* Infer a BigQuery table schema from the adjusted Pandas dataframe\n",
    "* Create a BigQuery table with the inferred schema\n",
    "* Upload the records from the Pandas dataframe to the BigQuery table\n",
    "\n",
    "Related Links:\n",
    "\n",
    "* [BigQuery](https://cloud.google.com/bigquery/)\n",
    "* Python [Pandas](http://pandas.pydata.org/) for data analysis\n",
    "\n",
    "----\n",
    "\n",
    "NOTE:\n",
    "\n",
    "* If you're new to notebooks, or want need an introduction to using BigQuery, check out the full [list](..) of notebooks.\n"
   ]
  },
  {
   "cell_type": "code",
   "execution_count": 1,
   "metadata": {
    "collapsed": false
   },
   "outputs": [],
   "source": [
    "import datetime\n",
    "import gcp.bigquery as bq\n",
    "import pandas.io.data as web\n",
    "import time"
   ]
  },
  {
   "cell_type": "markdown",
   "metadata": {},
   "source": [
    "# Sample Data"
   ]
  },
  {
   "cell_type": "markdown",
   "metadata": {},
   "source": [
    "First we need some data; we can easily get a pandas dataframe containing Google stock price data (using the Google Finance APIs, via the pandas DataReader class):"
   ]
  },
  {
   "cell_type": "code",
   "execution_count": 2,
   "metadata": {
    "collapsed": false
   },
   "outputs": [
    {
     "data": {
      "text/html": [
       "<div>\n",
       "<table border=\"1\" class=\"dataframe\">\n",
       "  <thead>\n",
       "    <tr style=\"text-align: right;\">\n",
       "      <th></th>\n",
       "      <th>Open</th>\n",
       "      <th>High</th>\n",
       "      <th>Low</th>\n",
       "      <th>Close</th>\n",
       "      <th>Volume</th>\n",
       "    </tr>\n",
       "    <tr>\n",
       "      <th>Date</th>\n",
       "      <th></th>\n",
       "      <th></th>\n",
       "      <th></th>\n",
       "      <th></th>\n",
       "      <th></th>\n",
       "    </tr>\n",
       "  </thead>\n",
       "  <tbody>\n",
       "    <tr>\n",
       "      <th>2013-01-02</th>\n",
       "      <td>360.07</td>\n",
       "      <td>363.86</td>\n",
       "      <td>358.63</td>\n",
       "      <td>361.99</td>\n",
       "      <td>2542268</td>\n",
       "    </tr>\n",
       "    <tr>\n",
       "      <th>2013-01-03</th>\n",
       "      <td>362.83</td>\n",
       "      <td>366.33</td>\n",
       "      <td>360.72</td>\n",
       "      <td>362.20</td>\n",
       "      <td>2318140</td>\n",
       "    </tr>\n",
       "    <tr>\n",
       "      <th>2013-01-04</th>\n",
       "      <td>365.03</td>\n",
       "      <td>371.11</td>\n",
       "      <td>364.20</td>\n",
       "      <td>369.35</td>\n",
       "      <td>2763552</td>\n",
       "    </tr>\n",
       "    <tr>\n",
       "      <th>2013-01-07</th>\n",
       "      <td>368.09</td>\n",
       "      <td>370.06</td>\n",
       "      <td>365.66</td>\n",
       "      <td>367.74</td>\n",
       "      <td>1655967</td>\n",
       "    </tr>\n",
       "    <tr>\n",
       "      <th>2013-01-08</th>\n",
       "      <td>368.14</td>\n",
       "      <td>368.52</td>\n",
       "      <td>362.58</td>\n",
       "      <td>367.02</td>\n",
       "      <td>1676740</td>\n",
       "    </tr>\n",
       "  </tbody>\n",
       "</table>\n",
       "</div>"
      ],
      "text/plain": [
       "              Open    High     Low   Close   Volume\n",
       "Date                                               \n",
       "2013-01-02  360.07  363.86  358.63  361.99  2542268\n",
       "2013-01-03  362.83  366.33  360.72  362.20  2318140\n",
       "2013-01-04  365.03  371.11  364.20  369.35  2763552\n",
       "2013-01-07  368.09  370.06  365.66  367.74  1655967\n",
       "2013-01-08  368.14  368.52  362.58  367.02  1676740"
      ]
     },
     "execution_count": 2,
     "metadata": {},
     "output_type": "execute_result"
    }
   ],
   "source": [
    "start_date = datetime.datetime(2013, 1, 1)\n",
    "end_date = datetime.datetime(2015, 1, 30)\n",
    "df = web.DataReader('GOOGL', data_source='google', start=start_date, end=end_date)\n",
    "df[:5]"
   ]
  },
  {
   "cell_type": "markdown",
   "metadata": {},
   "source": [
    "# Preparing the Pandas DataFrame"
   ]
  },
  {
   "cell_type": "markdown",
   "metadata": {},
   "source": [
    "We are going to need to create a BigQuery table with an appropriate schema. We can create a schema ourselves, but it is easier to just derive the schema from the dataframe."
   ]
  },
  {
   "cell_type": "markdown",
   "metadata": {},
   "source": [
    "## Pandas Schema"
   ]
  },
  {
   "cell_type": "code",
   "execution_count": 3,
   "metadata": {
    "collapsed": false
   },
   "outputs": [
    {
     "data": {
      "text/plain": [
       "Open      float64\n",
       "High      float64\n",
       "Low       float64\n",
       "Close     float64\n",
       "Volume      int64\n",
       "dtype: object"
      ]
     },
     "execution_count": 3,
     "metadata": {},
     "output_type": "execute_result"
    }
   ],
   "source": [
    "df.dtypes"
   ]
  },
  {
   "cell_type": "markdown",
   "metadata": {},
   "source": [
    "The types look reasonable, but notice that the date column is not included. That is because it is the index for the DataFrame. We want to include the index, which we can do by converting it to a column:"
   ]
  },
  {
   "cell_type": "code",
   "execution_count": 4,
   "metadata": {
    "collapsed": false
   },
   "outputs": [
    {
     "data": {
      "text/plain": [
       "Date      datetime64[ns]\n",
       "Open             float64\n",
       "High             float64\n",
       "Low              float64\n",
       "Close            float64\n",
       "Volume             int64\n",
       "dtype: object"
      ]
     },
     "execution_count": 4,
     "metadata": {},
     "output_type": "execute_result"
    }
   ],
   "source": [
    "df = df.reset_index(drop=False)\n",
    "df.dtypes"
   ]
  },
  {
   "cell_type": "markdown",
   "metadata": {},
   "source": [
    "As a result, you'll notice the DataFrame has a Date column and the index is now simply an auto-numbered sequence."
   ]
  },
  {
   "cell_type": "code",
   "execution_count": 5,
   "metadata": {
    "collapsed": false
   },
   "outputs": [
    {
     "data": {
      "text/html": [
       "<div>\n",
       "<table border=\"1\" class=\"dataframe\">\n",
       "  <thead>\n",
       "    <tr style=\"text-align: right;\">\n",
       "      <th></th>\n",
       "      <th>Date</th>\n",
       "      <th>Open</th>\n",
       "      <th>High</th>\n",
       "      <th>Low</th>\n",
       "      <th>Close</th>\n",
       "      <th>Volume</th>\n",
       "    </tr>\n",
       "  </thead>\n",
       "  <tbody>\n",
       "    <tr>\n",
       "      <th>0</th>\n",
       "      <td>2013-01-02</td>\n",
       "      <td>360.07</td>\n",
       "      <td>363.86</td>\n",
       "      <td>358.63</td>\n",
       "      <td>361.99</td>\n",
       "      <td>2542268</td>\n",
       "    </tr>\n",
       "    <tr>\n",
       "      <th>1</th>\n",
       "      <td>2013-01-03</td>\n",
       "      <td>362.83</td>\n",
       "      <td>366.33</td>\n",
       "      <td>360.72</td>\n",
       "      <td>362.20</td>\n",
       "      <td>2318140</td>\n",
       "    </tr>\n",
       "    <tr>\n",
       "      <th>2</th>\n",
       "      <td>2013-01-04</td>\n",
       "      <td>365.03</td>\n",
       "      <td>371.11</td>\n",
       "      <td>364.20</td>\n",
       "      <td>369.35</td>\n",
       "      <td>2763552</td>\n",
       "    </tr>\n",
       "  </tbody>\n",
       "</table>\n",
       "</div>"
      ],
      "text/plain": [
       "        Date    Open    High     Low   Close   Volume\n",
       "0 2013-01-02  360.07  363.86  358.63  361.99  2542268\n",
       "1 2013-01-03  362.83  366.33  360.72  362.20  2318140\n",
       "2 2013-01-04  365.03  371.11  364.20  369.35  2763552"
      ]
     },
     "execution_count": 5,
     "metadata": {},
     "output_type": "execute_result"
    }
   ],
   "source": [
    "df[:3]"
   ]
  },
  {
   "cell_type": "markdown",
   "metadata": {},
   "source": [
    "You may need to rename columns if you want your BigQuery table to have different columns. Or the column in the DataFrame may have characters that are not allowed in BigQuery column names (as is true in the case of the Date column in this sample)."
   ]
  },
  {
   "cell_type": "code",
   "execution_count": 6,
   "metadata": {
    "collapsed": false
   },
   "outputs": [
    {
     "data": {
      "text/plain": [
       "'Date'"
      ]
     },
     "execution_count": 6,
     "metadata": {},
     "output_type": "execute_result"
    }
   ],
   "source": [
    "df.columns[0]"
   ]
  },
  {
   "cell_type": "code",
   "execution_count": 7,
   "metadata": {
    "collapsed": false
   },
   "outputs": [],
   "source": [
    "df.rename(columns={df.columns[0]: 'Date'}, inplace=True)"
   ]
  },
  {
   "cell_type": "markdown",
   "metadata": {},
   "source": [
    "## Missing Values"
   ]
  },
  {
   "cell_type": "markdown",
   "metadata": {},
   "source": [
    "Although it is not necessary in this example, missing values can be filled with a default value:"
   ]
  },
  {
   "cell_type": "code",
   "execution_count": 8,
   "metadata": {
    "collapsed": false
   },
   "outputs": [],
   "source": [
    "df.fillna(value=0, inplace=True)"
   ]
  },
  {
   "cell_type": "markdown",
   "metadata": {},
   "source": [
    "# Creating a BigQuery Table Schema"
   ]
  },
  {
   "cell_type": "markdown",
   "metadata": {},
   "source": [
    "Now we want to create a schema for the table. We can infer one from the dataframe as follows:"
   ]
  },
  {
   "cell_type": "code",
   "execution_count": 9,
   "metadata": {
    "collapsed": false
   },
   "outputs": [
    {
     "data": {
      "text/html": [
       "\n",
       "    <div class=\"bqsv\" id=\"bqsv_144203372731\"></div>\n",
       "    <script>\n",
       "      require(['extensions/bigquery', 'element!bqsv_144203372731', 'style!/static/extensions/bigquery.css'],\n",
       "          function(bq, dom) {\n",
       "              bq.renderSchema(dom, [{\"type\": \"TIMESTAMP\", \"name\": \"Date\"}, {\"type\": \"FLOAT\", \"name\": \"Open\"}, {\"type\": \"FLOAT\", \"name\": \"High\"}, {\"type\": \"FLOAT\", \"name\": \"Low\"}, {\"type\": \"FLOAT\", \"name\": \"Close\"}, {\"type\": \"INTEGER\", \"name\": \"Volume\"}]);\n",
       "          }\n",
       "      );\n",
       "    </script>\n",
       "    "
      ],
      "text/plain": [
       "[{ 'name': 'Date', 'type': 'TIMESTAMP', 'mode':'None', 'description': 'None' },\n",
       " { 'name': 'Open', 'type': 'FLOAT', 'mode':'None', 'description': 'None' },\n",
       " { 'name': 'High', 'type': 'FLOAT', 'mode':'None', 'description': 'None' },\n",
       " { 'name': 'Low', 'type': 'FLOAT', 'mode':'None', 'description': 'None' },\n",
       " { 'name': 'Close', 'type': 'FLOAT', 'mode':'None', 'description': 'None' },\n",
       " { 'name': 'Volume', 'type': 'INTEGER', 'mode':'None', 'description': 'None' }]"
      ]
     },
     "execution_count": 9,
     "metadata": {},
     "output_type": "execute_result"
    }
   ],
   "source": [
    "schema = bq.schema(df)\n",
    "schema"
   ]
  },
  {
   "cell_type": "markdown",
   "metadata": {},
   "source": [
    "# Creating the BigQuery Table"
   ]
  },
  {
   "cell_type": "markdown",
   "metadata": {},
   "source": [
    "Now we can create table with the schema that was just created.\n",
    "\n",
    "For the purpose of this example, if the table exists we'll recreate it (with the `overwrite=True` parameter). Additionally we'll do the same for creating a DataSet that will contain the table."
   ]
  },
  {
   "cell_type": "code",
   "execution_count": 10,
   "metadata": {
    "collapsed": false
   },
   "outputs": [
    {
     "data": {
      "text/plain": []
     },
     "execution_count": 10,
     "metadata": {},
     "output_type": "execute_result"
    }
   ],
   "source": [
    "bq.dataset('samples').create()"
   ]
  },
  {
   "cell_type": "code",
   "execution_count": 11,
   "metadata": {
    "collapsed": false
   },
   "outputs": [],
   "source": [
    "table = bq.table('samples.stock').create(schema, overwrite=True)"
   ]
  },
  {
   "cell_type": "markdown",
   "metadata": {},
   "source": [
    "# Inserting Data into BigQuery"
   ]
  },
  {
   "cell_type": "markdown",
   "metadata": {},
   "source": [
    "Finally, we can populate the table with data from the dataframe. This uses the BigQuery streaming insert API to stream in rows from the pandas dataframe into BigQuery."
   ]
  },
  {
   "cell_type": "code",
   "execution_count": 12,
   "metadata": {
    "collapsed": false
   },
   "outputs": [
    {
     "data": {
      "text/html": [
       "\n",
       "    <div class=\"bqtv\" id=\"bqtv_144203372732\"></div>\n",
       "    <div><br />nikhilko-playground:samples.stock<br />rows: 0</div>\n",
       "    <script>\n",
       "      require(['extensions/charting', 'element!bqtv_144203372732', 'style!/static/extensions/charting.css'],\n",
       "        function(charts, dom) {\n",
       "          charts.render(dom,\n",
       "            {\n",
       "              chartStyle:\"table\",\n",
       "              dataName:\"nikhilko-playground:samples.stock\",\n",
       "              fields:\"Date,Open,High,Low,Close,Volume\",\n",
       "              totalRows:0,\n",
       "              rowsPerPage:25,\n",
       "            }, {}, {\"rows\": [{\"c\": [{\"v\": \"2013-11-11T00:00:00\"}, {\"v\": 505.26}, {\"v\": 508.47}, {\"v\": 504.5}, {\"v\": 505.8}, {\"v\": 1112778}]}, {\"c\": [{\"v\": \"2013-01-17T00:00:00\"}, {\"v\": 359.21}, {\"v\": 360.18}, {\"v\": 355.87}, {\"v\": 356.02}, {\"v\": 2212357}]}, {\"c\": [{\"v\": \"2013-08-16T00:00:00\"}, {\"v\": 431.07}, {\"v\": 431.65}, {\"v\": 428.7}, {\"v\": 428.88}, {\"v\": 1675387}]}, {\"c\": [{\"v\": \"2014-03-11T00:00:00\"}, {\"v\": 607.49}, {\"v\": 607.77}, {\"v\": 598.92}, {\"v\": 600.6}, {\"v\": 1715423}]}, {\"c\": [{\"v\": \"2014-10-01T00:00:00\"}, {\"v\": 586.8}, {\"v\": 588.72}, {\"v\": 578.02}, {\"v\": 579.63}, {\"v\": 1449686}]}, {\"c\": [{\"v\": \"2013-03-01T00:00:00\"}, {\"v\": 399.3}, {\"v\": 403.97}, {\"v\": 398.47}, {\"v\": 403.5}, {\"v\": 2175425}]}, {\"c\": [{\"v\": \"2014-12-22T00:00:00\"}, {\"v\": 520.61}, {\"v\": 532.97}, {\"v\": 520.59}, {\"v\": 532.3}, {\"v\": 3319461}]}, {\"c\": [{\"v\": \"2014-03-17T00:00:00\"}, {\"v\": 590.21}, {\"v\": 599.13}, {\"v\": 589.64}, {\"v\": 596.65}, {\"v\": 2166547}]}, {\"c\": [{\"v\": \"2014-10-08T00:00:00\"}, {\"v\": 574.79}, {\"v\": 584.69}, {\"v\": 567.64}, {\"v\": 583.74}, {\"v\": 2210360}]}, {\"c\": [{\"v\": \"2014-01-17T00:00:00\"}, {\"v\": 579.0}, {\"v\": 580.9}, {\"v\": 572.67}, {\"v\": 575.84}, {\"v\": 2766140}]}, {\"c\": [{\"v\": \"2013-03-08T00:00:00\"}, {\"v\": 417.67}, {\"v\": 417.88}, {\"v\": 412.94}, {\"v\": 416.18}, {\"v\": 2912283}]}, {\"c\": [{\"v\": \"2014-09-10T00:00:00\"}, {\"v\": 591.74}, {\"v\": 593.72}, {\"v\": 587.14}, {\"v\": 593.42}, {\"v\": 1160291}]}, {\"c\": [{\"v\": \"2013-01-22T00:00:00\"}, {\"v\": 352.68}, {\"v\": 353.02}, {\"v\": 348.11}, {\"v\": 351.79}, {\"v\": 3792336}]}, {\"c\": [{\"v\": \"2015-01-16T00:00:00\"}, {\"v\": 503.15}, {\"v\": 510.85}, {\"v\": 503.09}, {\"v\": 510.46}, {\"v\": 2482858}]}, {\"c\": [{\"v\": \"2013-05-08T00:00:00\"}, {\"v\": 428.93}, {\"v\": 437.38}, {\"v\": 426.88}, {\"v\": 437.25}, {\"v\": 2468403}]}, {\"c\": [{\"v\": \"2013-04-16T00:00:00\"}, {\"v\": 393.69}, {\"v\": 398.4}, {\"v\": 392.35}, {\"v\": 397.08}, {\"v\": 1742374}]}, {\"c\": [{\"v\": \"2014-04-24T00:00:00\"}, {\"v\": 541.69}, {\"v\": 542.5}, {\"v\": 531.0}, {\"v\": 534.44}, {\"v\": 2069559}]}, {\"c\": [{\"v\": \"2014-11-04T00:00:00\"}, {\"v\": 561.16}, {\"v\": 564.79}, {\"v\": 558.3}, {\"v\": 564.19}, {\"v\": 1386509}]}, {\"c\": [{\"v\": \"2013-02-04T00:00:00\"}, {\"v\": 384.23}, {\"v\": 385.62}, {\"v\": 379.51}, {\"v\": 379.89}, {\"v\": 3041242}]}, {\"c\": [{\"v\": \"2013-02-27T00:00:00\"}, {\"v\": 397.8}, {\"v\": 402.78}, {\"v\": 395.95}, {\"v\": 400.29}, {\"v\": 2028515}]}, {\"c\": [{\"v\": \"2013-10-15T00:00:00\"}, {\"v\": 438.32}, {\"v\": 443.26}, {\"v\": 437.44}, {\"v\": 441.45}, {\"v\": 1594777}]}, {\"c\": [{\"v\": \"2013-06-25T00:00:00\"}, {\"v\": 439.07}, {\"v\": 440.28}, {\"v\": 432.69}, {\"v\": 433.53}, {\"v\": 2553889}]}, {\"c\": [{\"v\": \"2013-05-02T00:00:00\"}, {\"v\": 410.46}, {\"v\": 417.69}, {\"v\": 409.93}, {\"v\": 415.22}, {\"v\": 2018546}]}, {\"c\": [{\"v\": \"2014-07-28T00:00:00\"}, {\"v\": 597.75}, {\"v\": 601.1}, {\"v\": 592.59}, {\"v\": 599.02}, {\"v\": 1358071}]}, {\"c\": [{\"v\": \"2014-06-24T00:00:00\"}, {\"v\": 574.22}, {\"v\": 582.25}, {\"v\": 569.16}, {\"v\": 572.54}, {\"v\": 2844325}]}], \"cols\": [{\"type\": \"datetime\", \"id\": \"Date\", \"label\": \"Date\"}, {\"type\": \"number\", \"id\": \"Open\", \"label\": \"Open\"}, {\"type\": \"number\", \"id\": \"High\", \"label\": \"High\"}, {\"type\": \"number\", \"id\": \"Low\", \"label\": \"Low\"}, {\"type\": \"number\", \"id\": \"Close\", \"label\": \"Close\"}, {\"type\": \"number\", \"id\": \"Volume\", \"label\": \"Volume\"}]});\n",
       "        }\n",
       "      );\n",
       "    </script>\n",
       "  "
      ],
      "text/plain": []
     },
     "execution_count": 12,
     "metadata": {},
     "output_type": "execute_result"
    }
   ],
   "source": [
    "table.insert_data(df)"
   ]
  },
  {
   "cell_type": "markdown",
   "metadata": {},
   "source": [
    "To confirm the insert, we can sample the newly created and populated table.\n",
    "\n",
    "Note that it can take some while for BigQuery to process the newly inserted data, and make it available to be queried. You may need to wait a while and refresh this cell a few times before seeing the results."
   ]
  },
  {
   "cell_type": "code",
   "execution_count": 13,
   "metadata": {
    "collapsed": false
   },
   "outputs": [
    {
     "data": {
      "text/html": [
       "\n",
       "    <div class=\"bqtv\" id=\"bqtv_144203372733\"></div>\n",
       "    <div><br />job_BCIzqeOU76E2pD3iZVjWyZPk40c<br />rows: 5</div>\n",
       "    <script>\n",
       "      require(['extensions/charting', 'element!bqtv_144203372733'],\n",
       "        function(charts, dom) {\n",
       "          charts.render(dom,\n",
       "            {\n",
       "              chartStyle:\"table\",\n",
       "              dataName:\"nikhilko-playground:_eef39ef00620733d25c72cbcecf090a752c682e8.anonev_6EF8zLyqbd6W_sUxLXbK2wbiBUI\",\n",
       "              fields:\"Date,Open,High,Low,Close,Volume\",\n",
       "              totalRows:5,\n",
       "              rowsPerPage:25,\n",
       "            }, {}, {\"rows\": [{\"c\": [{\"v\": \"2013-11-11T00:00:00\"}, {\"v\": 505.26}, {\"v\": 508.47}, {\"v\": 504.5}, {\"v\": 505.8}, {\"v\": 1112778}]}, {\"c\": [{\"v\": \"2013-01-17T00:00:00\"}, {\"v\": 359.21}, {\"v\": 360.18}, {\"v\": 355.87}, {\"v\": 356.02}, {\"v\": 2212357}]}, {\"c\": [{\"v\": \"2013-08-16T00:00:00\"}, {\"v\": 431.07}, {\"v\": 431.65}, {\"v\": 428.7}, {\"v\": 428.88}, {\"v\": 1675387}]}, {\"c\": [{\"v\": \"2014-03-11T00:00:00\"}, {\"v\": 607.49}, {\"v\": 607.77}, {\"v\": 598.92}, {\"v\": 600.6}, {\"v\": 1715423}]}, {\"c\": [{\"v\": \"2014-10-01T00:00:00\"}, {\"v\": 586.8}, {\"v\": 588.72}, {\"v\": 578.02}, {\"v\": 579.63}, {\"v\": 1449686}]}], \"cols\": [{\"type\": \"datetime\", \"id\": \"Date\", \"label\": \"Date\"}, {\"type\": \"number\", \"id\": \"Open\", \"label\": \"Open\"}, {\"type\": \"number\", \"id\": \"High\", \"label\": \"High\"}, {\"type\": \"number\", \"id\": \"Low\", \"label\": \"Low\"}, {\"type\": \"number\", \"id\": \"Close\", \"label\": \"Close\"}, {\"type\": \"number\", \"id\": \"Volume\", \"label\": \"Volume\"}]});\n",
       "        }\n",
       "      );\n",
       "    </script>\n",
       "  "
      ],
      "text/plain": []
     },
     "execution_count": 13,
     "metadata": {},
     "output_type": "execute_result"
    }
   ],
   "source": [
    "table.sample()"
   ]
  },
  {
   "cell_type": "code",
   "execution_count": null,
   "metadata": {
    "collapsed": false
   },
   "outputs": [],
   "source": []
  }
 ],
 "metadata": {
  "kernelspec": {
   "display_name": "Python 2",
   "language": "python",
   "name": "python2"
  },
  "language_info": {
   "codemirror_mode": {
    "name": "ipython",
    "version": 2
   },
   "file_extension": ".py",
   "mimetype": "text/x-python",
   "name": "python",
   "nbconvert_exporter": "python",
   "pygments_lexer": "ipython2",
   "version": "2.7.9"
  }
 },
 "nbformat": 4,
 "nbformat_minor": 0
}
