{
 "metadata": {
  "name": "",
  "signature": "sha256:0f08dd6cb7cd0012a0af79086b739843539bd106fd7fe58523c63391bb3915d9"
 },
 "nbformat": 3,
 "nbformat_minor": 0,
 "worksheets": [
  {
   "cells": [
    {
     "cell_type": "markdown",
     "metadata": {},
     "source": [
      "# BigQuery - Inserting Data in a DataFrame into a Table\n",
      "\n",
      "This notebook demonstrates how to stream in data from a Pandas dataframe into a BiqQuery table.\n",
      "\n",
      "### In this notebook you will\n",
      "* Create a Pandas dataframe containing some stock price data\n",
      "* Learn how to make some adjustments to a Pandas dataframe to include the index as a column and make sure columns have the right types\n",
      "* Infer a BigQuery table schema from the adjusted Pandas dataframe\n",
      "* Create a BigQuery table with the inferred schema\n",
      "* Upload the records from the Pandas dataframe to the BigQuery table\n",
      "\n",
      "Related Links:\n",
      "\n",
      "* [BigQuery](https://cloud.google.com/bigquery/)\n",
      "* Python [Pandas](http://pandas.pydata.org/) for data analysis\n",
      "\n",
      "----\n",
      "\n",
      "NOTE:\n",
      "\n",
      "* If you're new to notebooks, or want need an introduction to using BigQuery, check out the full [list](..) of notebooks.\n"
     ]
    },
    {
     "cell_type": "code",
     "collapsed": false,
     "input": [
      "import datetime\n",
      "import gcp.bigquery as bq\n",
      "import pandas.io.data as web\n",
      "import time"
     ],
     "language": "python",
     "metadata": {},
     "outputs": [],
     "prompt_number": 1
    },
    {
     "cell_type": "heading",
     "level": 1,
     "metadata": {},
     "source": [
      "Sample Data"
     ]
    },
    {
     "cell_type": "markdown",
     "metadata": {},
     "source": [
      "First we need some data; we can easily get a pandas dataframe containing Google stock price data (using the Google Finance APIs, via the pandas DataReader class):"
     ]
    },
    {
     "cell_type": "code",
     "collapsed": false,
     "input": [
      "start_date = datetime.datetime(2013, 1, 1)\n",
      "end_date = datetime.datetime(2015, 1, 30)\n",
      "df = web.DataReader('GOOGL', data_source='google', start=start_date, end=end_date)\n",
      "df[:5]"
     ],
     "language": "python",
     "metadata": {},
     "outputs": [
      {
       "html": [
        "<div style=\"max-height:1000px;max-width:1500px;overflow:auto;\">\n",
        "<table border=\"1\" class=\"dataframe\">\n",
        "  <thead>\n",
        "    <tr style=\"text-align: right;\">\n",
        "      <th></th>\n",
        "      <th>Open</th>\n",
        "      <th>High</th>\n",
        "      <th>Low</th>\n",
        "      <th>Close</th>\n",
        "      <th>Volume</th>\n",
        "    </tr>\n",
        "    <tr>\n",
        "      <th>\ufeffDate</th>\n",
        "      <th></th>\n",
        "      <th></th>\n",
        "      <th></th>\n",
        "      <th></th>\n",
        "      <th></th>\n",
        "    </tr>\n",
        "  </thead>\n",
        "  <tbody>\n",
        "    <tr>\n",
        "      <th>2013-01-02</th>\n",
        "      <td> 360.07</td>\n",
        "      <td> 363.86</td>\n",
        "      <td> 358.63</td>\n",
        "      <td> 361.99</td>\n",
        "      <td> 2542268</td>\n",
        "    </tr>\n",
        "    <tr>\n",
        "      <th>2013-01-03</th>\n",
        "      <td> 362.83</td>\n",
        "      <td> 366.33</td>\n",
        "      <td> 360.72</td>\n",
        "      <td> 362.20</td>\n",
        "      <td> 2318140</td>\n",
        "    </tr>\n",
        "    <tr>\n",
        "      <th>2013-01-04</th>\n",
        "      <td> 365.03</td>\n",
        "      <td> 371.11</td>\n",
        "      <td> 364.20</td>\n",
        "      <td> 369.35</td>\n",
        "      <td> 2763552</td>\n",
        "    </tr>\n",
        "    <tr>\n",
        "      <th>2013-01-07</th>\n",
        "      <td> 368.09</td>\n",
        "      <td> 370.06</td>\n",
        "      <td> 365.66</td>\n",
        "      <td> 367.74</td>\n",
        "      <td> 1655967</td>\n",
        "    </tr>\n",
        "    <tr>\n",
        "      <th>2013-01-08</th>\n",
        "      <td> 368.14</td>\n",
        "      <td> 368.52</td>\n",
        "      <td> 362.58</td>\n",
        "      <td> 367.02</td>\n",
        "      <td> 1676740</td>\n",
        "    </tr>\n",
        "  </tbody>\n",
        "</table>\n",
        "</div>"
       ],
       "metadata": {},
       "output_type": "pyout",
       "prompt_number": 2,
       "text": [
        "              Open    High     Low   Close   Volume\n",
        "\ufeffDate                                              \n",
        "2013-01-02  360.07  363.86  358.63  361.99  2542268\n",
        "2013-01-03  362.83  366.33  360.72  362.20  2318140\n",
        "2013-01-04  365.03  371.11  364.20  369.35  2763552\n",
        "2013-01-07  368.09  370.06  365.66  367.74  1655967\n",
        "2013-01-08  368.14  368.52  362.58  367.02  1676740"
       ]
      }
     ],
     "prompt_number": 2
    },
    {
     "cell_type": "heading",
     "level": 1,
     "metadata": {},
     "source": [
      "Preparing the Pandas DataFrame"
     ]
    },
    {
     "cell_type": "markdown",
     "metadata": {},
     "source": [
      "We are going to need to create a BigQuery table with an appropriate schema. We can create a schema ourselves, but it is easier to just derive the schema from the dataframe."
     ]
    },
    {
     "cell_type": "heading",
     "level": 2,
     "metadata": {},
     "source": [
      "Pandas Schema"
     ]
    },
    {
     "cell_type": "code",
     "collapsed": false,
     "input": [
      "df.dtypes"
     ],
     "language": "python",
     "metadata": {},
     "outputs": [
      {
       "metadata": {},
       "output_type": "pyout",
       "prompt_number": 3,
       "text": [
        "Open      float64\n",
        "High      float64\n",
        "Low       float64\n",
        "Close     float64\n",
        "Volume      int64\n",
        "dtype: object"
       ]
      }
     ],
     "prompt_number": 3
    },
    {
     "cell_type": "markdown",
     "metadata": {},
     "source": [
      "The types look reasonable, but notice that the date column is not included. That is because it is the index for the DataFrame. We want to include the index, which we can do by converting it to a column:"
     ]
    },
    {
     "cell_type": "code",
     "collapsed": false,
     "input": [
      "df = df.reset_index(drop=False)\n",
      "df.dtypes"
     ],
     "language": "python",
     "metadata": {},
     "outputs": [
      {
       "metadata": {},
       "output_type": "pyout",
       "prompt_number": 4,
       "text": [
        "\ufeffDate     datetime64[ns]\n",
        "Open             float64\n",
        "High             float64\n",
        "Low              float64\n",
        "Close            float64\n",
        "Volume             int64\n",
        "dtype: object"
       ]
      }
     ],
     "prompt_number": 4
    },
    {
     "cell_type": "markdown",
     "metadata": {},
     "source": [
      "As a result, you'll notice the DataFrame has a Date column and the index is now simply an auto-numbered sequence."
     ]
    },
    {
     "cell_type": "code",
     "collapsed": false,
     "input": [
      "df[:3]"
     ],
     "language": "python",
     "metadata": {},
     "outputs": [
      {
       "html": [
        "<div style=\"max-height:1000px;max-width:1500px;overflow:auto;\">\n",
        "<table border=\"1\" class=\"dataframe\">\n",
        "  <thead>\n",
        "    <tr style=\"text-align: right;\">\n",
        "      <th></th>\n",
        "      <th>\ufeffDate</th>\n",
        "      <th>Open</th>\n",
        "      <th>High</th>\n",
        "      <th>Low</th>\n",
        "      <th>Close</th>\n",
        "      <th>Volume</th>\n",
        "    </tr>\n",
        "  </thead>\n",
        "  <tbody>\n",
        "    <tr>\n",
        "      <th>0</th>\n",
        "      <td>2013-01-02</td>\n",
        "      <td> 360.07</td>\n",
        "      <td> 363.86</td>\n",
        "      <td> 358.63</td>\n",
        "      <td> 361.99</td>\n",
        "      <td> 2542268</td>\n",
        "    </tr>\n",
        "    <tr>\n",
        "      <th>1</th>\n",
        "      <td>2013-01-03</td>\n",
        "      <td> 362.83</td>\n",
        "      <td> 366.33</td>\n",
        "      <td> 360.72</td>\n",
        "      <td> 362.20</td>\n",
        "      <td> 2318140</td>\n",
        "    </tr>\n",
        "    <tr>\n",
        "      <th>2</th>\n",
        "      <td>2013-01-04</td>\n",
        "      <td> 365.03</td>\n",
        "      <td> 371.11</td>\n",
        "      <td> 364.20</td>\n",
        "      <td> 369.35</td>\n",
        "      <td> 2763552</td>\n",
        "    </tr>\n",
        "  </tbody>\n",
        "</table>\n",
        "</div>"
       ],
       "metadata": {},
       "output_type": "pyout",
       "prompt_number": 5,
       "text": [
        "       \ufeffDate    Open    High     Low   Close   Volume\n",
        "0 2013-01-02  360.07  363.86  358.63  361.99  2542268\n",
        "1 2013-01-03  362.83  366.33  360.72  362.20  2318140\n",
        "2 2013-01-04  365.03  371.11  364.20  369.35  2763552"
       ]
      }
     ],
     "prompt_number": 5
    },
    {
     "cell_type": "markdown",
     "metadata": {},
     "source": [
      "You may need to rename columns if you want your BigQuery table to have different columns. Or the column in the DataFrame may have characters that are not allowed in BigQuery column names (as is true in the case of the Date column in this sample)."
     ]
    },
    {
     "cell_type": "code",
     "collapsed": false,
     "input": [
      "df.columns[0]"
     ],
     "language": "python",
     "metadata": {},
     "outputs": [
      {
       "metadata": {},
       "output_type": "pyout",
       "prompt_number": 6,
       "text": [
        "'\\xef\\xbb\\xbfDate'"
       ]
      }
     ],
     "prompt_number": 6
    },
    {
     "cell_type": "code",
     "collapsed": false,
     "input": [
      "df.rename(columns={df.columns[0]: 'Date'}, inplace=True)"
     ],
     "language": "python",
     "metadata": {},
     "outputs": [],
     "prompt_number": 7
    },
    {
     "cell_type": "heading",
     "level": 2,
     "metadata": {},
     "source": [
      "Missing Values"
     ]
    },
    {
     "cell_type": "markdown",
     "metadata": {},
     "source": [
      "Although it is not necessary in this example, missing values can be filled with a default value:"
     ]
    },
    {
     "cell_type": "code",
     "collapsed": false,
     "input": [
      "df.fillna(value=0, inplace=True)"
     ],
     "language": "python",
     "metadata": {},
     "outputs": [],
     "prompt_number": 8
    },
    {
     "cell_type": "heading",
     "level": 1,
     "metadata": {},
     "source": [
      "Creating a BigQuery Table Schema"
     ]
    },
    {
     "cell_type": "markdown",
     "metadata": {},
     "source": [
      "Now we want to create a schema for the table. We can infer one from the dataframe as follows:"
     ]
    },
    {
     "cell_type": "code",
     "collapsed": false,
     "input": [
      "schema = bq.schema(df)\n",
      "schema"
     ],
     "language": "python",
     "metadata": {},
     "outputs": [
      {
       "html": [
        "<table><tr><th>name</th><th>data_type</th><th>mode</th><th>description</th></tr><tr><td>Volume</td><td>INTEGER</td><td>NULLABLE</td><td></td></tr><tr><td>High</td><td>FLOAT</td><td>NULLABLE</td><td></td></tr><tr><td>Low</td><td>FLOAT</td><td>NULLABLE</td><td></td></tr><tr><td>Date</td><td>TIMESTAMP</td><td>NULLABLE</td><td></td></tr><tr><td>Close</td><td>FLOAT</td><td>NULLABLE</td><td></td></tr><tr><td>Open</td><td>FLOAT</td><td>NULLABLE</td><td></td></tr></table>"
       ],
       "metadata": {},
       "output_type": "pyout",
       "prompt_number": 9,
       "text": [
        "[{ 'name': 'Volume', 'type': 'INTEGER', 'mode':'NULLABLE', 'description': '' },\n",
        " { 'name': 'High', 'type': 'FLOAT', 'mode':'NULLABLE', 'description': '' },\n",
        " { 'name': 'Low', 'type': 'FLOAT', 'mode':'NULLABLE', 'description': '' },\n",
        " { 'name': 'Date', 'type': 'TIMESTAMP', 'mode':'NULLABLE', 'description': '' },\n",
        " { 'name': 'Close', 'type': 'FLOAT', 'mode':'NULLABLE', 'description': '' },\n",
        " { 'name': 'Open', 'type': 'FLOAT', 'mode':'NULLABLE', 'description': '' }]"
       ]
      }
     ],
     "prompt_number": 9
    },
    {
     "cell_type": "heading",
     "level": 1,
     "metadata": {},
     "source": [
      "Creating the BigQuery Table"
     ]
    },
    {
     "cell_type": "markdown",
     "metadata": {},
     "source": [
      "Now we can create table with the schema that was just created.\n",
      "\n",
      "For the purpose of this example, if the table exists we'll recreate it (with the `truncate=True` parameter). Additionally we'll do the same for creating a DataSet that will contain the table."
     ]
    },
    {
     "cell_type": "code",
     "collapsed": false,
     "input": [
      "bq.dataset('samples').create()"
     ],
     "language": "python",
     "metadata": {},
     "outputs": [
      {
       "metadata": {},
       "output_type": "pyout",
       "prompt_number": 10,
       "text": []
      }
     ],
     "prompt_number": 10
    },
    {
     "cell_type": "code",
     "collapsed": false,
     "input": [
      "table = bq.table('samples.stock').create(schema, truncate=True)"
     ],
     "language": "python",
     "metadata": {},
     "outputs": [],
     "prompt_number": 11
    },
    {
     "cell_type": "heading",
     "level": 1,
     "metadata": {},
     "source": [
      "Inserting Data into BigQuery"
     ]
    },
    {
     "cell_type": "markdown",
     "metadata": {},
     "source": [
      "Finally, we can populate the table with data from the dataframe. This uses the BigQuery streaming insert API to stream in rows from the pandas dataframe into BigQuery."
     ]
    },
    {
     "cell_type": "code",
     "collapsed": false,
     "input": [
      "table.insertAll(df)"
     ],
     "language": "python",
     "metadata": {},
     "outputs": [
      {
       "metadata": {},
       "output_type": "pyout",
       "prompt_number": 12,
       "text": []
      }
     ],
     "prompt_number": 12
    },
    {
     "cell_type": "markdown",
     "metadata": {},
     "source": [
      "To confirm the insert, we can sample the newly created and populated table.\n",
      "\n",
      "Note that it can take some while for BigQuery to process the newly inserted data, and make it available to be queried (hence the added sleep)."
     ]
    },
    {
     "cell_type": "code",
     "collapsed": false,
     "input": [
      "time.sleep(2)\n",
      "table.sample()"
     ],
     "language": "python",
     "metadata": {},
     "outputs": [
      {
       "html": [
        "<div>Number of rows: 5</div><div>Query job ID  : job_rVA80OxqdY-ueuOdPlLTJaYXk60</div><table><tr><th>Volume</th><th>High</th><th>Low</th><th>Date</th><th>Close</th><th>Open</th></tr><tr><td>1761596</td><td>438.89</td><td>433.68</td><td>2013-08-21 00:00:00</td><td>435.1</td><td>435.76</td></tr><tr><td>1236190</td><td>612.15</td><td>606.31</td><td>2014-03-05 00:00:00</td><td>609.74</td><td>608.13</td></tr><tr><td>1594777</td><td>443.26</td><td>437.44</td><td>2013-10-15 00:00:00</td><td>441.45</td><td>438.32</td></tr><tr><td>1653773</td><td>551.19</td><td>544.15</td><td>2014-11-24 00:00:00</td><td>547.48</td><td>546.57</td></tr><tr><td>2675269</td><td>440.44</td><td>433.09</td><td>2013-06-07 00:00:00</td><td>440.3</td><td>435.65</td></tr></table>"
       ],
       "metadata": {},
       "output_type": "pyout",
       "prompt_number": 13,
       "text": [
        "[{u'Close': 435.1,\n",
        "  u'Date': datetime.datetime(2013, 8, 21, 0, 0),\n",
        "  u'High': 438.89,\n",
        "  u'Low': 433.68,\n",
        "  u'Open': 435.76,\n",
        "  u'Volume': 1761596},\n",
        " {u'Close': 609.74,\n",
        "  u'Date': datetime.datetime(2014, 3, 5, 0, 0),\n",
        "  u'High': 612.15,\n",
        "  u'Low': 606.31,\n",
        "  u'Open': 608.13,\n",
        "  u'Volume': 1236190},\n",
        " {u'Close': 441.45,\n",
        "  u'Date': datetime.datetime(2013, 10, 15, 0, 0),\n",
        "  u'High': 443.26,\n",
        "  u'Low': 437.44,\n",
        "  u'Open': 438.32,\n",
        "  u'Volume': 1594777},\n",
        " {u'Close': 547.48,\n",
        "  u'Date': datetime.datetime(2014, 11, 24, 0, 0),\n",
        "  u'High': 551.19,\n",
        "  u'Low': 544.15,\n",
        "  u'Open': 546.57,\n",
        "  u'Volume': 1653773},\n",
        " {u'Close': 440.3,\n",
        "  u'Date': datetime.datetime(2013, 6, 7, 0, 0),\n",
        "  u'High': 440.44,\n",
        "  u'Low': 433.09,\n",
        "  u'Open': 435.65,\n",
        "  u'Volume': 2675269}]"
       ]
      }
     ],
     "prompt_number": 13
    },
    {
     "cell_type": "code",
     "collapsed": false,
     "input": [],
     "language": "python",
     "metadata": {},
     "outputs": [],
     "prompt_number": 13
    }
   ],
   "metadata": {}
  }
 ]
}