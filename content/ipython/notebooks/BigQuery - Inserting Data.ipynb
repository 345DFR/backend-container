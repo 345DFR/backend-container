{
 "cells": [
  {
   "cell_type": "markdown",
   "metadata": {},
   "source": [
    "# BigQuery - Inserting Data in a DataFrame into a Table\n",
    "\n",
    "This notebook demonstrates how to stream in data from a Pandas dataframe into a BiqQuery table.\n",
    "\n",
    "### In this notebook you will\n",
    "* Create a Pandas dataframe containing some stock price data\n",
    "* Learn how to make some adjustments to a Pandas dataframe to include the index as a column and make sure columns have the right types\n",
    "* Infer a BigQuery table schema from the adjusted Pandas dataframe\n",
    "* Create a BigQuery table with the inferred schema\n",
    "* Upload the records from the Pandas dataframe to the BigQuery table\n",
    "\n",
    "Related Links:\n",
    "\n",
    "* [BigQuery](https://cloud.google.com/bigquery/)\n",
    "* Python [Pandas](http://pandas.pydata.org/) for data analysis\n",
    "\n",
    "----\n",
    "\n",
    "NOTE:\n",
    "\n",
    "* If you're new to notebooks, or want need an introduction to using BigQuery, check out the full [list](..) of notebooks.\n"
   ]
  },
  {
   "cell_type": "code",
   "execution_count": 1,
   "metadata": {
    "collapsed": false
   },
   "outputs": [],
   "source": [
    "import datetime\n",
    "import gcp.bigquery as bq\n",
    "import pandas.io.data as web\n",
    "import time"
   ]
  },
  {
   "cell_type": "markdown",
   "metadata": {},
   "source": [
    "# Sample Data"
   ]
  },
  {
   "cell_type": "markdown",
   "metadata": {},
   "source": [
    "First we need some data; we can easily get a pandas dataframe containing Google stock price data (using the Google Finance APIs, via the pandas DataReader class):"
   ]
  },
  {
   "cell_type": "code",
   "execution_count": 2,
   "metadata": {
    "collapsed": false
   },
   "outputs": [
    {
     "data": {
      "text/html": [
       "<div>\n",
       "<table border=\"1\" class=\"dataframe\">\n",
       "  <thead>\n",
       "    <tr style=\"text-align: right;\">\n",
       "      <th></th>\n",
       "      <th>Open</th>\n",
       "      <th>High</th>\n",
       "      <th>Low</th>\n",
       "      <th>Close</th>\n",
       "      <th>Volume</th>\n",
       "    </tr>\n",
       "    <tr>\n",
       "      <th>Date</th>\n",
       "      <th></th>\n",
       "      <th></th>\n",
       "      <th></th>\n",
       "      <th></th>\n",
       "      <th></th>\n",
       "    </tr>\n",
       "  </thead>\n",
       "  <tbody>\n",
       "    <tr>\n",
       "      <th>2013-01-02</th>\n",
       "      <td>360.07</td>\n",
       "      <td>363.86</td>\n",
       "      <td>358.63</td>\n",
       "      <td>361.99</td>\n",
       "      <td>2542268</td>\n",
       "    </tr>\n",
       "    <tr>\n",
       "      <th>2013-01-03</th>\n",
       "      <td>362.83</td>\n",
       "      <td>366.33</td>\n",
       "      <td>360.72</td>\n",
       "      <td>362.20</td>\n",
       "      <td>2318140</td>\n",
       "    </tr>\n",
       "    <tr>\n",
       "      <th>2013-01-04</th>\n",
       "      <td>365.03</td>\n",
       "      <td>371.11</td>\n",
       "      <td>364.20</td>\n",
       "      <td>369.35</td>\n",
       "      <td>2763552</td>\n",
       "    </tr>\n",
       "    <tr>\n",
       "      <th>2013-01-07</th>\n",
       "      <td>368.09</td>\n",
       "      <td>370.06</td>\n",
       "      <td>365.66</td>\n",
       "      <td>367.74</td>\n",
       "      <td>1655967</td>\n",
       "    </tr>\n",
       "    <tr>\n",
       "      <th>2013-01-08</th>\n",
       "      <td>368.14</td>\n",
       "      <td>368.52</td>\n",
       "      <td>362.58</td>\n",
       "      <td>367.02</td>\n",
       "      <td>1676740</td>\n",
       "    </tr>\n",
       "  </tbody>\n",
       "</table>\n",
       "</div>"
      ],
      "text/plain": [
       "              Open    High     Low   Close   Volume\n",
       "Date                                               \n",
       "2013-01-02  360.07  363.86  358.63  361.99  2542268\n",
       "2013-01-03  362.83  366.33  360.72  362.20  2318140\n",
       "2013-01-04  365.03  371.11  364.20  369.35  2763552\n",
       "2013-01-07  368.09  370.06  365.66  367.74  1655967\n",
       "2013-01-08  368.14  368.52  362.58  367.02  1676740"
      ]
     },
     "execution_count": 2,
     "metadata": {},
     "output_type": "execute_result"
    }
   ],
   "source": [
    "start_date = datetime.datetime(2013, 1, 1)\n",
    "end_date = datetime.datetime(2015, 1, 30)\n",
    "df = web.DataReader('GOOGL', data_source='google', start=start_date, end=end_date)\n",
    "df[:5]"
   ]
  },
  {
   "cell_type": "markdown",
   "metadata": {},
   "source": [
    "# Preparing the Pandas DataFrame"
   ]
  },
  {
   "cell_type": "markdown",
   "metadata": {},
   "source": [
    "We are going to need to create a BigQuery table with an appropriate schema. We can create a schema ourselves, but it is easier to just derive the schema from the dataframe."
   ]
  },
  {
   "cell_type": "markdown",
   "metadata": {},
   "source": [
    "## Pandas Schema"
   ]
  },
  {
   "cell_type": "code",
   "execution_count": 3,
   "metadata": {
    "collapsed": false
   },
   "outputs": [
    {
     "data": {
      "text/plain": [
       "Open      float64\n",
       "High      float64\n",
       "Low       float64\n",
       "Close     float64\n",
       "Volume      int64\n",
       "dtype: object"
      ]
     },
     "execution_count": 3,
     "metadata": {},
     "output_type": "execute_result"
    }
   ],
   "source": [
    "df.dtypes"
   ]
  },
  {
   "cell_type": "markdown",
   "metadata": {},
   "source": [
    "The types look reasonable, but notice that the date column is not included. That is because it is the index for the DataFrame. We want to include the index, which we can do by converting it to a column:"
   ]
  },
  {
   "cell_type": "code",
   "execution_count": 4,
   "metadata": {
    "collapsed": false
   },
   "outputs": [
    {
     "data": {
      "text/plain": [
       "Date      datetime64[ns]\n",
       "Open             float64\n",
       "High             float64\n",
       "Low              float64\n",
       "Close            float64\n",
       "Volume             int64\n",
       "dtype: object"
      ]
     },
     "execution_count": 4,
     "metadata": {},
     "output_type": "execute_result"
    }
   ],
   "source": [
    "df = df.reset_index(drop=False)\n",
    "df.dtypes"
   ]
  },
  {
   "cell_type": "markdown",
   "metadata": {},
   "source": [
    "As a result, you'll notice the DataFrame has a Date column and the index is now simply an auto-numbered sequence."
   ]
  },
  {
   "cell_type": "code",
   "execution_count": 5,
   "metadata": {
    "collapsed": false
   },
   "outputs": [
    {
     "data": {
      "text/html": [
       "<div>\n",
       "<table border=\"1\" class=\"dataframe\">\n",
       "  <thead>\n",
       "    <tr style=\"text-align: right;\">\n",
       "      <th></th>\n",
       "      <th>Date</th>\n",
       "      <th>Open</th>\n",
       "      <th>High</th>\n",
       "      <th>Low</th>\n",
       "      <th>Close</th>\n",
       "      <th>Volume</th>\n",
       "    </tr>\n",
       "  </thead>\n",
       "  <tbody>\n",
       "    <tr>\n",
       "      <th>0</th>\n",
       "      <td>2013-01-02</td>\n",
       "      <td>360.07</td>\n",
       "      <td>363.86</td>\n",
       "      <td>358.63</td>\n",
       "      <td>361.99</td>\n",
       "      <td>2542268</td>\n",
       "    </tr>\n",
       "    <tr>\n",
       "      <th>1</th>\n",
       "      <td>2013-01-03</td>\n",
       "      <td>362.83</td>\n",
       "      <td>366.33</td>\n",
       "      <td>360.72</td>\n",
       "      <td>362.20</td>\n",
       "      <td>2318140</td>\n",
       "    </tr>\n",
       "    <tr>\n",
       "      <th>2</th>\n",
       "      <td>2013-01-04</td>\n",
       "      <td>365.03</td>\n",
       "      <td>371.11</td>\n",
       "      <td>364.20</td>\n",
       "      <td>369.35</td>\n",
       "      <td>2763552</td>\n",
       "    </tr>\n",
       "  </tbody>\n",
       "</table>\n",
       "</div>"
      ],
      "text/plain": [
       "        Date    Open    High     Low   Close   Volume\n",
       "0 2013-01-02  360.07  363.86  358.63  361.99  2542268\n",
       "1 2013-01-03  362.83  366.33  360.72  362.20  2318140\n",
       "2 2013-01-04  365.03  371.11  364.20  369.35  2763552"
      ]
     },
     "execution_count": 5,
     "metadata": {},
     "output_type": "execute_result"
    }
   ],
   "source": [
    "df[:3]"
   ]
  },
  {
   "cell_type": "markdown",
   "metadata": {},
   "source": [
    "You may need to rename columns if you want your BigQuery table to have different columns. Or the column in the DataFrame may have characters that are not allowed in BigQuery column names (as is true in the case of the Date column in this sample)."
   ]
  },
  {
   "cell_type": "code",
   "execution_count": 6,
   "metadata": {
    "collapsed": false
   },
   "outputs": [
    {
     "data": {
      "text/plain": [
       "'Date'"
      ]
     },
     "execution_count": 6,
     "metadata": {},
     "output_type": "execute_result"
    }
   ],
   "source": [
    "df.columns[0]"
   ]
  },
  {
   "cell_type": "code",
   "execution_count": 7,
   "metadata": {
    "collapsed": false
   },
   "outputs": [],
   "source": [
    "df.rename(columns={df.columns[0]: 'Date'}, inplace=True)"
   ]
  },
  {
   "cell_type": "markdown",
   "metadata": {},
   "source": [
    "## Missing Values"
   ]
  },
  {
   "cell_type": "markdown",
   "metadata": {},
   "source": [
    "Although it is not necessary in this example, missing values can be filled with a default value:"
   ]
  },
  {
   "cell_type": "code",
   "execution_count": 8,
   "metadata": {
    "collapsed": false
   },
   "outputs": [],
   "source": [
    "df.fillna(value=0, inplace=True)"
   ]
  },
  {
   "cell_type": "markdown",
   "metadata": {},
   "source": [
    "# Creating a BigQuery Table Schema"
   ]
  },
  {
   "cell_type": "markdown",
   "metadata": {},
   "source": [
    "Now we want to create a schema for the table. We can infer one from the dataframe as follows:"
   ]
  },
  {
   "cell_type": "code",
   "execution_count": 9,
   "metadata": {
    "collapsed": false
   },
   "outputs": [
    {
     "data": {
      "text/html": [
       "\n",
       "    <div class=\"bqsv\" id=\"1_144261630796\"></div>\n",
       "    <script>\n",
       "      require(['extensions/bigquery', 'element!1_144261630796', 'style!/static/extensions/bigquery.css'],\n",
       "          function(bq, dom) {\n",
       "              bq.renderSchema(dom, [{\"type\": \"TIMESTAMP\", \"name\": \"Date\"}, {\"type\": \"FLOAT\", \"name\": \"Open\"}, {\"type\": \"FLOAT\", \"name\": \"High\"}, {\"type\": \"FLOAT\", \"name\": \"Low\"}, {\"type\": \"FLOAT\", \"name\": \"Close\"}, {\"type\": \"INTEGER\", \"name\": \"Volume\"}]);\n",
       "          }\n",
       "      );\n",
       "    </script>\n",
       "    "
      ],
      "text/plain": [
       "[{ 'name': 'Date', 'type': 'TIMESTAMP', 'mode':'None', 'description': 'None' },\n",
       " { 'name': 'Open', 'type': 'FLOAT', 'mode':'None', 'description': 'None' },\n",
       " { 'name': 'High', 'type': 'FLOAT', 'mode':'None', 'description': 'None' },\n",
       " { 'name': 'Low', 'type': 'FLOAT', 'mode':'None', 'description': 'None' },\n",
       " { 'name': 'Close', 'type': 'FLOAT', 'mode':'None', 'description': 'None' },\n",
       " { 'name': 'Volume', 'type': 'INTEGER', 'mode':'None', 'description': 'None' }]"
      ]
     },
     "execution_count": 9,
     "metadata": {},
     "output_type": "execute_result"
    }
   ],
   "source": [
    "schema = bq.Schema.from_data(df)\n",
    "schema"
   ]
  },
  {
   "cell_type": "markdown",
   "metadata": {},
   "source": [
    "# Creating the BigQuery Table"
   ]
  },
  {
   "cell_type": "markdown",
   "metadata": {},
   "source": [
    "Now we can create table with the schema that was just created.\n",
    "\n",
    "For the purpose of this example, if the table exists we'll recreate it (with the `overwrite=True` parameter). Additionally we'll do the same for creating a DataSet that will contain the table."
   ]
  },
  {
   "cell_type": "code",
   "execution_count": 10,
   "metadata": {
    "collapsed": false
   },
   "outputs": [
    {
     "data": {
      "text/plain": []
     },
     "execution_count": 10,
     "metadata": {},
     "output_type": "execute_result"
    }
   ],
   "source": [
    "bq.DataSet('samples').create()"
   ]
  },
  {
   "cell_type": "code",
   "execution_count": 11,
   "metadata": {
    "collapsed": false
   },
   "outputs": [],
   "source": [
    "table = bq.Table('samples.stock').create(schema, overwrite=True)"
   ]
  },
  {
   "cell_type": "markdown",
   "metadata": {},
   "source": [
    "# Inserting Data into BigQuery"
   ]
  },
  {
   "cell_type": "markdown",
   "metadata": {},
   "source": [
    "Finally, we can populate the table with data from the dataframe. This uses the BigQuery streaming insert API to stream in rows from the pandas dataframe into BigQuery."
   ]
  },
  {
   "cell_type": "code",
   "execution_count": 12,
   "metadata": {
    "collapsed": false
   },
   "outputs": [
    {
     "data": {
      "text/html": [
       "\n",
       "    <div class=\"bqtv\" id=\"2_144261631277\"></div>\n",
       "    <div><br />data-studio-team:samples.stock <br />rows: 0</div>\n",
       "    <script>\n",
       "      require(['extensions/charting', 'element!2_144261631277', 'style!/static/extensions/charting.css'],\n",
       "        function(charts, dom) {\n",
       "          charts.render(dom,\n",
       "            {\n",
       "              chartStyle:\"table\",\n",
       "              dataName:\"data-studio-team:samples.stock\",\n",
       "              fields:\"Date,Open,High,Low,Close,Volume\",\n",
       "              totalRows:0,\n",
       "              rowsPerPage:25,\n",
       "            }, {}, {\"rows\": [{\"c\": [{\"v\": \"2013-09-10T00:00:00\"}, {\"v\": 445.46}, {\"v\": 446.45}, {\"v\": 442.44}, {\"v\": 444.78}, {\"v\": 1287836}]}, {\"c\": [{\"v\": \"2014-03-20T00:00:00\"}, {\"v\": 600.58}, {\"v\": 605.41}, {\"v\": 598.28}, {\"v\": 599.18}, {\"v\": 1684975}]}, {\"c\": [{\"v\": \"2013-01-07T00:00:00\"}, {\"v\": 368.09}, {\"v\": 370.06}, {\"v\": 365.66}, {\"v\": 367.74}, {\"v\": 1655967}]}, {\"c\": [{\"v\": \"2013-05-28T00:00:00\"}, {\"v\": 442.19}, {\"v\": 446.52}, {\"v\": 440.64}, {\"v\": 441.08}, {\"v\": 2257714}]}, {\"c\": [{\"v\": \"2013-04-25T00:00:00\"}, {\"v\": 408.53}, {\"v\": 408.64}, {\"v\": 404.22}, {\"v\": 404.95}, {\"v\": 1992301}]}, {\"c\": [{\"v\": \"2014-04-28T00:00:00\"}, {\"v\": 525.8}, {\"v\": 525.9}, {\"v\": 511.0}, {\"v\": 522.98}, {\"v\": 3752779}]}, {\"c\": [{\"v\": \"2013-12-17T00:00:00\"}, {\"v\": 537.59}, {\"v\": 540.92}, {\"v\": 534.72}, {\"v\": 535.46}, {\"v\": 1539917}]}, {\"c\": [{\"v\": \"2014-12-24T00:00:00\"}, {\"v\": 538.82}, {\"v\": 540.29}, {\"v\": 535.1}, {\"v\": 536.93}, {\"v\": 737848}]}, {\"c\": [{\"v\": \"2013-07-22T00:00:00\"}, {\"v\": 451.45}, {\"v\": 456.79}, {\"v\": 448.95}, {\"v\": 455.81}, {\"v\": 2904179}]}, {\"c\": [{\"v\": \"2014-08-20T00:00:00\"}, {\"v\": 596.95}, {\"v\": 596.99}, {\"v\": 593.0}, {\"v\": 595.41}, {\"v\": 968617}]}, {\"c\": [{\"v\": \"2014-12-29T00:00:00\"}, {\"v\": 540.5}, {\"v\": 543.93}, {\"v\": 537.16}, {\"v\": 537.31}, {\"v\": 2218632}]}, {\"c\": [{\"v\": \"2013-06-18T00:00:00\"}, {\"v\": 444.77}, {\"v\": 450.95}, {\"v\": 444.62}, {\"v\": 450.76}, {\"v\": 2167878}]}, {\"c\": [{\"v\": \"2014-08-15T00:00:00\"}, {\"v\": 587.5}, {\"v\": 589.47}, {\"v\": 580.76}, {\"v\": 583.71}, {\"v\": 1725358}]}, {\"c\": [{\"v\": \"2014-04-15T00:00:00\"}, {\"v\": 551.0}, {\"v\": 552.89}, {\"v\": 530.64}, {\"v\": 548.7}, {\"v\": 3999843}]}, {\"c\": [{\"v\": \"2013-07-19T00:00:00\"}, {\"v\": 443.75}, {\"v\": 451.93}, {\"v\": 438.24}, {\"v\": 448.75}, {\"v\": 7363398}]}, {\"c\": [{\"v\": \"2014-08-19T00:00:00\"}, {\"v\": 595.59}, {\"v\": 597.81}, {\"v\": 594.44}, {\"v\": 597.11}, {\"v\": 1045258}]}, {\"c\": [{\"v\": \"2014-06-18T00:00:00\"}, {\"v\": 552.8}, {\"v\": 561.4}, {\"v\": 551.58}, {\"v\": 560.66}, {\"v\": 2060681}]}, {\"c\": [{\"v\": \"2013-11-07T00:00:00\"}, {\"v\": 511.82}, {\"v\": 512.48}, {\"v\": 504.32}, {\"v\": 504.48}, {\"v\": 1680071}]}, {\"c\": [{\"v\": \"2013-07-23T00:00:00\"}, {\"v\": 455.81}, {\"v\": 456.96}, {\"v\": 450.23}, {\"v\": 452.35}, {\"v\": 2046745}]}, {\"c\": [{\"v\": \"2013-05-22T00:00:00\"}, {\"v\": 451.73}, {\"v\": 455.11}, {\"v\": 443.88}, {\"v\": 445.15}, {\"v\": 2561294}]}, {\"c\": [{\"v\": \"2014-01-10T00:00:00\"}, {\"v\": 570.11}, {\"v\": 570.11}, {\"v\": 561.69}, {\"v\": 565.66}, {\"v\": 2145560}]}, {\"c\": [{\"v\": \"2014-05-08T00:00:00\"}, {\"v\": 515.72}, {\"v\": 527.35}, {\"v\": 514.46}, {\"v\": 520.17}, {\"v\": 2452197}]}, {\"c\": [{\"v\": \"2014-10-15T00:00:00\"}, {\"v\": 542.08}, {\"v\": 543.92}, {\"v\": 528.42}, {\"v\": 540.73}, {\"v\": 3836222}]}, {\"c\": [{\"v\": \"2014-04-10T00:00:00\"}, {\"v\": 568.0}, {\"v\": 568.21}, {\"v\": 545.5}, {\"v\": 546.69}, {\"v\": 3296996}]}, {\"c\": [{\"v\": \"2014-10-30T00:00:00\"}, {\"v\": 558.25}, {\"v\": 562.5}, {\"v\": 552.13}, {\"v\": 560.27}, {\"v\": 1612469}]}], \"cols\": [{\"type\": \"datetime\", \"id\": \"Date\", \"label\": \"Date\"}, {\"type\": \"number\", \"id\": \"Open\", \"label\": \"Open\"}, {\"type\": \"number\", \"id\": \"High\", \"label\": \"High\"}, {\"type\": \"number\", \"id\": \"Low\", \"label\": \"Low\"}, {\"type\": \"number\", \"id\": \"Close\", \"label\": \"Close\"}, {\"type\": \"number\", \"id\": \"Volume\", \"label\": \"Volume\"}]});\n",
       "        }\n",
       "      );\n",
       "    </script>\n",
       "  "
      ],
      "text/plain": []
     },
     "execution_count": 12,
     "metadata": {},
     "output_type": "execute_result"
    }
   ],
   "source": [
    "table.insert_data(df)"
   ]
  },
  {
   "cell_type": "markdown",
   "metadata": {},
   "source": [
    "To confirm the insert, we can sample the newly created and populated table.\n",
    "\n",
    "Note that it can take some while for BigQuery to process the newly inserted data, and make it available to be queried. You may need to wait a while and refresh this cell a few times before seeing the results."
   ]
  },
  {
   "cell_type": "code",
   "execution_count": 13,
   "metadata": {
    "collapsed": false
   },
   "outputs": [
    {
     "data": {
      "text/html": [
       "\n",
       "    <div class=\"bqtv\" id=\"3_144261631548\"></div>\n",
       "    <div><br />job_gW3sn5STerfRIg4dT0RpLREMZJ4 (1.1s,     0B processed)<br />rows: 5</div>\n",
       "    <script>\n",
       "      require(['extensions/charting', 'element!3_144261631548'],\n",
       "        function(charts, dom) {\n",
       "          charts.render(dom,\n",
       "            {\n",
       "              chartStyle:\"table\",\n",
       "              dataName:\"data-studio-team:_22cae82edc27e9be9a02c50fe9837efda6b0471d.anonev_rktKLMRL9b27ER5teYn98MUUIGw\",\n",
       "              fields:\"Date,Open,High,Low,Close,Volume\",\n",
       "              totalRows:5,\n",
       "              rowsPerPage:25,\n",
       "            }, {}, {\"rows\": [{\"c\": [{\"v\": \"2013-09-10T00:00:00\"}, {\"v\": 445.46}, {\"v\": 446.45}, {\"v\": 442.44}, {\"v\": 444.78}, {\"v\": 1287836}]}, {\"c\": [{\"v\": \"2014-03-20T00:00:00\"}, {\"v\": 600.58}, {\"v\": 605.41}, {\"v\": 598.28}, {\"v\": 599.18}, {\"v\": 1684975}]}, {\"c\": [{\"v\": \"2013-01-07T00:00:00\"}, {\"v\": 368.09}, {\"v\": 370.06}, {\"v\": 365.66}, {\"v\": 367.74}, {\"v\": 1655967}]}, {\"c\": [{\"v\": \"2013-05-28T00:00:00\"}, {\"v\": 442.19}, {\"v\": 446.52}, {\"v\": 440.64}, {\"v\": 441.08}, {\"v\": 2257714}]}, {\"c\": [{\"v\": \"2013-04-25T00:00:00\"}, {\"v\": 408.53}, {\"v\": 408.64}, {\"v\": 404.22}, {\"v\": 404.95}, {\"v\": 1992301}]}], \"cols\": [{\"type\": \"datetime\", \"id\": \"Date\", \"label\": \"Date\"}, {\"type\": \"number\", \"id\": \"Open\", \"label\": \"Open\"}, {\"type\": \"number\", \"id\": \"High\", \"label\": \"High\"}, {\"type\": \"number\", \"id\": \"Low\", \"label\": \"Low\"}, {\"type\": \"number\", \"id\": \"Close\", \"label\": \"Close\"}, {\"type\": \"number\", \"id\": \"Volume\", \"label\": \"Volume\"}]});\n",
       "        }\n",
       "      );\n",
       "    </script>\n",
       "  "
      ],
      "text/plain": []
     },
     "execution_count": 13,
     "metadata": {},
     "output_type": "execute_result"
    }
   ],
   "source": [
    "table.sample()"
   ]
  },
  {
   "cell_type": "code",
   "execution_count": null,
   "metadata": {
    "collapsed": false
   },
   "outputs": [],
   "source": []
  }
 ],
 "metadata": {
  "kernelspec": {
   "display_name": "Python 2",
   "language": "python",
   "name": "python2"
  },
  "language_info": {
   "codemirror_mode": {
    "name": "ipython",
    "version": 2
   },
   "file_extension": ".py",
   "mimetype": "text/x-python",
   "name": "python",
   "nbconvert_exporter": "python",
   "pygments_lexer": "ipython2",
   "version": "2.7.9"
  }
 },
 "nbformat": 4,
 "nbformat_minor": 0
}
