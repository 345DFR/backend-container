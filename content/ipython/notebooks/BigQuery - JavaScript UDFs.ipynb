{
 "metadata": {
  "name": "",
  "signature": "sha256:71f6c2b9b08117ea0459969c31e5830a59bc0c51a5cf9c8e3ded32e9bfd00b56"
 },
 "nbformat": 3,
 "nbformat_minor": 0,
 "worksheets": [
  {
   "cells": [
    {
     "cell_type": "markdown",
     "metadata": {},
     "source": [
      "# BigQuery - JavaScript UDFs\n",
      "\n",
      "This notebook demonstrates how you can write JavaScript UDFs and include them into your BigQuery SQL queries to include computation logic that can be expressed more simply in script than in SQL. The notebook also demonstrates how you can test the script before it is included into a query and processed by BigQuery.\n",
      "\n",
      "----"
     ]
    },
    {
     "cell_type": "code",
     "collapsed": false,
     "input": [],
     "language": "python",
     "metadata": {},
     "outputs": []
    }
   ],
   "metadata": {}
  }
 ]
}