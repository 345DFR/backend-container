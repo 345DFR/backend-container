{
 "metadata": {
  "name": "",
  "signature": "sha256:73213491713d8ddf7a516f256ef46d266a86aa44e858527487e7c4a11a70d178"
 },
 "nbformat": 3,
 "nbformat_minor": 0,
 "worksheets": [
  {
   "cells": [
    {
     "cell_type": "markdown",
     "metadata": {},
     "source": [
      "# BigQuery - JavaScript UDFs\n",
      "\n",
      "This notebook demonstrates how you can write JavaScript UDFs and include them into your BigQuery SQL queries to include computation logic that can be expressed more simply in script than in SQL. The notebook also demonstrates how you can test the script before it is included into a query and processed by BigQuery.\n",
      "\n",
      "JavaScript UDFs process records in a table or query via an arbitrary JavaScript logic. The function takes as arguments the record and an emit function. The function produces output records by invoking emit(..) for each output record. They are the equivalent of mappers in map/reduce. The input and output records are vanilla JavaScript objects.\n",
      "\n",
      "----\n",
      "\n",
      "NOTE:\n",
      "\n",
      "* JavaScript UDFs are a new feature of BigQuery. In order to try the functionality here, you'll need to get your project white-listed.\n",
      "* For an introduction to BigQuery and notebook basics, see the full list of introductory notebooks.\n"
     ]
    },
    {
     "cell_type": "heading",
     "level": 1,
     "metadata": {},
     "source": [
      "Quick Look at the Data"
     ]
    },
    {
     "cell_type": "markdown",
     "metadata": {},
     "source": [
      "BigQuery provides a corpus of Shakespeare's works as a dataset."
     ]
    },
    {
     "cell_type": "code",
     "collapsed": false,
     "input": [
      "%%bigquery sql\n",
      "SELECT word, word_count, corpus, LENGTH(word) as length\n",
      "FROM [publicdata:samples.shakespeare]\n",
      "ORDER BY length DESC\n",
      "LIMIT 10"
     ],
     "language": "python",
     "metadata": {},
     "outputs": [
      {
       "html": [
        "\n",
        "    <div style='display:inline;float:left'>Rows 10</div>\n",
        "    <div style='display:inline;float:right'>job_2MeTeVvGTnkJBlTu1GtQjgXQ0UU</div>\n",
        "    <br>\n",
        "    <div class=\"bqtv\" id=\"bqtv_1427835994\">\n",
        "    </div>\n",
        "    <script>\n",
        "      require(['extensions/charting', 'element!bqtv_1427835994'],\n",
        "        function(charts, dom) {\n",
        "          charts.render(dom,\n",
        "              {chartStyle:\"paged_table\", dataName:\"data-studio-team:_46115481ec6b1bc8ecfd14c395c2a4051f6cfa4c.anon785d65cce303c6ffdbbc401d5dd4371c0120fd0d\", fields:\"word,word_count,corpus,length\", totalRows:10, rowsPerPage:25});\n",
        "        }\n",
        "      );\n",
        "    </script>\n",
        "  "
       ],
       "metadata": {},
       "output_type": "pyout",
       "prompt_number": 1,
       "text": []
      }
     ],
     "prompt_number": 1
    },
    {
     "cell_type": "heading",
     "level": 1,
     "metadata": {},
     "source": [
      "JavaScript function"
     ]
    },
    {
     "cell_type": "markdown",
     "metadata": {},
     "source": [
      "Lets say we want to query all words from all shakespeare texts for words that contain letter(s) in \"shakespeare\"."
     ]
    },
    {
     "cell_type": "code",
     "collapsed": false,
     "input": [
      "%%bigquery udf --name word_filter\n",
      "/**\n",
      " * @param {{word: string, corpus: string, word_count: integer}} r\n",
      " * @param function({{word: string, corpus: string, count: integer}}) emitFn\n",
      " */\n",
      "function(r, emitFn) {\n",
      "  if (r.word.match(/[shakespeare]/) !== null) {\n",
      "    var result = { word: r.word, corpus: r.corpus, count: r.word_count };\n",
      "    emitFn(result);\n",
      "  }\n",
      "}"
     ],
     "language": "python",
     "metadata": {},
     "outputs": [],
     "prompt_number": 2
    },
    {
     "cell_type": "heading",
     "level": 2,
     "metadata": {},
     "source": [
      "Testing JavaScript"
     ]
    },
    {
     "cell_type": "markdown",
     "metadata": {},
     "source": [
      "The notebooks allows testing JavaScript UDFs as JavaScript, before they are included into a SQL query. The name assigned to the JavaScript function is available in the page for experimenting with mock or dummy data."
     ]
    },
    {
     "cell_type": "code",
     "collapsed": false,
     "input": [
      "# A few sample words to run through the function\n",
      "word_filter([{ 'word': 'love', 'corpus': 'othello ', 'word_count': 78 },\n",
      "             { 'word': 'not', 'corpus': 'kinghenryviii ', 'word_count': 171 },\n",
      "             { 'word': 'midsummer', 'corpus': 'asyoulikeit ', 'word_count': 100 }])\n",
      "              "
     ],
     "language": "python",
     "metadata": {},
     "outputs": [
      {
       "html": [
        "\n",
        "    <div class=\"bqtv\" id=\"udf1427835994\"></div>\n",
        "    <script>\n",
        "      require(['extensions/function_evaluator', 'element!udf1427835994'],\n",
        "          function(fe, dom) {\n",
        "              fe.evaluate_function(dom, /**\n",
        " * @param {{word: string, corpus: string, word_count: integer}} r\n",
        " * @param function({{word: string, corpus: string, count: integer}}) emitFn\n",
        " */\n",
        "function(r, emitFn) {\n",
        "  if (r.word.match(/[shakespeare]/) !== null) {\n",
        "    var result = { word: r.word, corpus: r.corpus, count: r.word_count };\n",
        "    emitFn(result);\n",
        "  }\n",
        "}, [{\"corpus\": \"othello \", \"word\": \"love\", \"word_count\": 78}, {\"corpus\": \"kinghenryviii \", \"word\": \"not\", \"word_count\": 171}, {\"corpus\": \"asyoulikeit \", \"word\": \"midsummer\", \"word_count\": 100}]);\n",
        "          }\n",
        "      );\n",
        "    </script>\n",
        "    "
       ],
       "metadata": {},
       "output_type": "pyout",
       "prompt_number": 3,
       "text": [
        "<gcp.bigquery._udf.FunctionEvaluation at 0x10ab86490>"
       ]
      }
     ],
     "prompt_number": 3
    },
    {
     "cell_type": "heading",
     "level": 1,
     "metadata": {},
     "source": [
      "Including JavaScript into SQL"
     ]
    },
    {
     "cell_type": "markdown",
     "metadata": {},
     "source": [
      "The JavaScript function can now be applied to a table or SQL query."
     ]
    },
    {
     "cell_type": "code",
     "collapsed": false,
     "input": [
      "import gcp.bigquery as bq\n",
      "shakespeare = bq.table('publicdata:samples.shakespeare')"
     ],
     "language": "python",
     "metadata": {},
     "outputs": [],
     "prompt_number": 4
    },
    {
     "cell_type": "code",
     "collapsed": false,
     "input": [
      "filtering_query = word_filter(shakespeare)"
     ],
     "language": "python",
     "metadata": {},
     "outputs": [],
     "prompt_number": 5
    },
    {
     "cell_type": "code",
     "collapsed": false,
     "input": [
      "%%bigquery sql --name final_query\n",
      "SELECT word, sum(count) as count\n",
      "FROM $filtering_query\n",
      "WHERE LENGTH(word) >= 5\n",
      "GROUP BY word \n",
      "ORDER BY count DESC\n",
      "LIMIT 100"
     ],
     "language": "python",
     "metadata": {},
     "outputs": [],
     "prompt_number": 6
    },
    {
     "cell_type": "markdown",
     "metadata": {},
     "source": [
      "It might be interesting to check out the SQL resulting from applying a JavaScript UDF."
     ]
    },
    {
     "cell_type": "code",
     "collapsed": false,
     "input": [
      "print final_query.sql"
     ],
     "language": "python",
     "metadata": {},
     "outputs": [
      {
       "output_type": "stream",
       "stream": "stdout",
       "text": [
        "SELECT word, sum(count) as count\n",
        "FROM js([publicdata:samples.shakespeare],\n",
        "word,corpus,word_count,\n",
        "'[{\"name\": \"word\", \"type\": \"string\"}, {\"name\": \"corpus\", \"type\": \"string\"}, {\"name\": \"count\", \"type\": \"integer\"}]',\n",
        "\"/**\n",
        " * @param {{word: string, corpus: string, word_count: integer}} r\n",
        " * @param function({{word: string, corpus: string, count: integer}}) emitFn\n",
        " */\n",
        "function(r, emitFn) {\n",
        "  if (r.word.match(/[shakespeare]/) !== null) {\n",
        "    var result = { word: r.word, corpus: r.corpus, count: r.word_count };\n",
        "    emitFn(result);\n",
        "  }\n",
        "}\")\n",
        "WHERE LENGTH(word) >= 5\n",
        "GROUP BY word \n",
        "ORDER BY count DESC\n",
        "LIMIT 100\n"
       ]
      }
     ],
     "prompt_number": 7
    },
    {
     "cell_type": "markdown",
     "metadata": {},
     "source": [
      "And of course execute it, and see the results..."
     ]
    },
    {
     "cell_type": "code",
     "collapsed": false,
     "input": [
      "final_query.results()"
     ],
     "language": "python",
     "metadata": {},
     "outputs": [
      {
       "html": [
        "\n",
        "    <div style='display:inline;float:left'>Rows 100</div>\n",
        "    <div style='display:inline;float:right'>job_J-t1SE6eeltu2NvEOvxSFN7h-ws</div>\n",
        "    <br>\n",
        "    <div class=\"bqtv\" id=\"bqtv_1427836037\">\n",
        "    </div>\n",
        "    <script>\n",
        "      require(['extensions/charting', 'element!bqtv_1427836037'],\n",
        "        function(charts, dom) {\n",
        "          charts.render(dom,\n",
        "              {chartStyle:\"paged_table\", dataName:\"data-studio-team:_46115481ec6b1bc8ecfd14c395c2a4051f6cfa4c.anonev_PbGI_zCO1Z8d68JfnWs8gKHZ80c\", fields:\"word,count\", totalRows:100, rowsPerPage:25});\n",
        "        }\n",
        "      );\n",
        "    </script>\n",
        "  "
       ],
       "metadata": {},
       "output_type": "pyout",
       "prompt_number": 8,
       "text": []
      }
     ],
     "prompt_number": 8
    }
   ],
   "metadata": {}
  }
 ]
}