{
 "metadata": {
  "name": "",
  "signature": "sha256:46ce5419ab352c589bf10d4d4511fec367911aceaf84340393149661658f35fc"
 },
 "nbformat": 3,
 "nbformat_minor": 0,
 "worksheets": [
  {
   "cells": [
    {
     "cell_type": "markdown",
     "metadata": {},
     "source": [
      "# BigQuery - JavaScript UDFs\n",
      "\n",
      "This notebook demonstrates how you can write JavaScript UDFs and include them into your BigQuery SQL queries to include computation logic that can be expressed more simply in script than in SQL. The notebook also demonstrates how you can test the script before it is included into a query and processed by BigQuery.\n",
      "\n",
      "JavaScript UDFs process records in a table or query via an arbitrary JavaScript logic. The function takes as arguments the record and an emit function. The function produces output records by invoking emit(..) for each output record. They are the equivalent of mappers in map/reduce. The input and output records are vanilla JavaScript objects.\n",
      "\n",
      "----\n",
      "\n",
      "NOTE:\n",
      "\n",
      "* JavaScript UDFs are a new feature of BigQuery. In order to try the functionality here, you'll need to get your project white-listed.\n",
      "* For an introduction to BigQuery and notebook basics, see the full list of intro notebooks.\n"
     ]
    },
    {
     "cell_type": "heading",
     "level": 1,
     "metadata": {},
     "source": [
      "Quick Look at the Data"
     ]
    },
    {
     "cell_type": "markdown",
     "metadata": {},
     "source": [
      "BigQuery provides a corpus of shakespeares works as a dataset."
     ]
    },
    {
     "cell_type": "code",
     "collapsed": false,
     "input": [
      "%%bq_sql\n",
      "SELECT word, word_count, corpus, LENGTH(word) as length\n",
      "FROM [publicdata:samples.shakespeare]\n",
      "ORDER BY length DESC\n",
      "LIMIT 10"
     ],
     "language": "python",
     "metadata": {},
     "outputs": [
      {
       "html": [
        "<div>Number of rows: 10</div><div>Query job ID  : job_1m4Amd4Y8QnZKKijDaJHjQDQP64</div><table><tr><th>corpus</th><th>word</th><th>length</th><th>word_count</th></tr><tr><td>loveslabourslost</td><td>honorificabilitudinitatibus</td><td>27</td><td>1</td></tr><tr><td>merrywivesofwindsor</td><td>Anthropophaginian</td><td>17</td><td>1</td></tr><tr><td>troilusandcressida</td><td>indistinguishable</td><td>17</td><td>1</td></tr><tr><td>midsummersnightsdream</td><td>undistinguishable</td><td>17</td><td>2</td></tr><tr><td>kingjohn</td><td>Northamptonshire</td><td>16</td><td>1</td></tr><tr><td>troilusandcressida</td><td>interchangeably'</td><td>16</td><td>1</td></tr><tr><td>1kinghenryiv</td><td>incomprehensible</td><td>16</td><td>1</td></tr><tr><td>3kinghenryvi</td><td>Northumberland's</td><td>16</td><td>1</td></tr><tr><td>merrywivesofwindsor</td><td>Gloucestershire</td><td>15</td><td>2</td></tr><tr><td>loverscomplaint</td><td>undistinguish'd</td><td>15</td><td>1</td></tr></table>"
       ],
       "metadata": {},
       "output_type": "pyout",
       "prompt_number": 1,
       "text": [
        "[{u'corpus': u'loveslabourslost',\n",
        "  u'length': 27,\n",
        "  u'word': u'honorificabilitudinitatibus',\n",
        "  u'word_count': 1},\n",
        " {u'corpus': u'merrywivesofwindsor',\n",
        "  u'length': 17,\n",
        "  u'word': u'Anthropophaginian',\n",
        "  u'word_count': 1},\n",
        " {u'corpus': u'troilusandcressida',\n",
        "  u'length': 17,\n",
        "  u'word': u'indistinguishable',\n",
        "  u'word_count': 1},\n",
        " {u'corpus': u'midsummersnightsdream',\n",
        "  u'length': 17,\n",
        "  u'word': u'undistinguishable',\n",
        "  u'word_count': 2},\n",
        " {u'corpus': u'kingjohn',\n",
        "  u'length': 16,\n",
        "  u'word': u'Northamptonshire',\n",
        "  u'word_count': 1},\n",
        " {u'corpus': u'troilusandcressida',\n",
        "  u'length': 16,\n",
        "  u'word': u\"interchangeably'\",\n",
        "  u'word_count': 1},\n",
        " {u'corpus': u'1kinghenryiv',\n",
        "  u'length': 16,\n",
        "  u'word': u'incomprehensible',\n",
        "  u'word_count': 1},\n",
        " {u'corpus': u'3kinghenryvi',\n",
        "  u'length': 16,\n",
        "  u'word': u\"Northumberland's\",\n",
        "  u'word_count': 1},\n",
        " {u'corpus': u'merrywivesofwindsor',\n",
        "  u'length': 15,\n",
        "  u'word': u'Gloucestershire',\n",
        "  u'word_count': 2},\n",
        " {u'corpus': u'loverscomplaint',\n",
        "  u'length': 15,\n",
        "  u'word': u\"undistinguish'd\",\n",
        "  u'word_count': 1}]"
       ]
      }
     ],
     "prompt_number": 1
    },
    {
     "cell_type": "heading",
     "level": 1,
     "metadata": {},
     "source": [
      "JavaScript function"
     ]
    },
    {
     "cell_type": "markdown",
     "metadata": {},
     "source": [
      "Lets say we want to query all words from all shakespeare texts for words that contain letter(s) in \"shakespeare\"."
     ]
    },
    {
     "cell_type": "code",
     "collapsed": false,
     "input": [
      "%%bq_udf word_filter\n",
      "/**\n",
      " * @param {{word: string, corpus: string, word_count: integer}} r\n",
      " * @param function({{word: string, corpus: string, count: integer}}) emitFn\n",
      " */\n",
      "function(r, emitFn) {\n",
      "  if (r.word.match(/[shakespeare]/) !== null) {\n",
      "    var result = { word: r.word, corpus: r.corpus, count: r.word_count };\n",
      "    emitFn(result);\n",
      "  }\n",
      "}"
     ],
     "language": "python",
     "metadata": {},
     "outputs": [],
     "prompt_number": 2
    },
    {
     "cell_type": "heading",
     "level": 2,
     "metadata": {},
     "source": [
      "Testing JavaScript"
     ]
    },
    {
     "cell_type": "markdown",
     "metadata": {},
     "source": [
      "The notebooks allows testing JavaScript UDFs as JavaScript, before they are included into a SQL query. The name assigned to the JavaScript function is available in the page for experimenting with mock or dummy data."
     ]
    },
    {
     "cell_type": "code",
     "collapsed": false,
     "input": [
      "# A few sample words to run through the function\n",
      "word_filter([{ 'word': 'love', 'corpus': 'othello ', 'word_count': 78 },\n",
      "             { 'word': 'not', 'corpus': 'kinghenryviii ', 'word_count': 171 },\n",
      "             { 'word': 'midsummer', 'corpus': 'asyoulikeit ', 'word_count': 100 }])\n",
      "              "
     ],
     "language": "python",
     "metadata": {},
     "outputs": [
      {
       "html": [
        "\n",
        "    <div id=\"udf1414519355\"></div>\n",
        "    <script>\n",
        "    (function() {\n",
        "      var html = [];\n",
        "      var names = [];\n",
        "      var first = true;\n",
        "\n",
        "      function emitter(result) {\n",
        "        if (first) {\n",
        "          first = false;\n",
        "          html.push('<tr>')\n",
        "          for (var n in result) {\n",
        "            names.push(n);\n",
        "            html.push('<th>' + n + '</th>')\n",
        "          }\n",
        "          html.push('</tr>');\n",
        "        }\n",
        "\n",
        "        html.push('<tr>');\n",
        "        for (var i = 0; i < names.length; i++) {\n",
        "          var name = names[i];\n",
        "          var value = result[name] || '';\n",
        "          value = value.toString().replace(/&/g,'&amp;').replace(/</g, '&lt;').replace(/>/g, '&gt;');\n",
        "          html.push('<td>' + value + '</td>')\n",
        "        }\n",
        "        html.push('</tr>');\n",
        "      }\n",
        "\n",
        "      udf = /**\n",
        " * @param {{word: string, corpus: string, word_count: integer}} r\n",
        " * @param function({{word: string, corpus: string, count: integer}}) emitFn\n",
        " */\n",
        "function(r, emitFn) {\n",
        "  if (r.word.match(/[shakespeare]/) !== null) {\n",
        "    var result = { word: r.word, corpus: r.corpus, count: r.word_count };\n",
        "    emitFn(result);\n",
        "  }\n",
        "};\n",
        "\n",
        "      setTimeout(function() {\n",
        "        html.push('<table>');\n",
        "\n",
        "        var data = [{\"corpus\": \"othello \", \"word\": \"love\", \"word_count\": 78}, {\"corpus\": \"kinghenryviii \", \"word\": \"not\", \"word_count\": 171}, {\"corpus\": \"asyoulikeit \", \"word\": \"midsummer\", \"word_count\": 100}];\n",
        "        data.forEach(function(row) { udf(row, emitter); });\n",
        "\n",
        "        html.push('</table>')\n",
        "\n",
        "        resultsElement = document.getElementById('udf1414519355');\n",
        "        resultsElement.innerHTML = html.join('');\n",
        "      }, 0);\n",
        "    })();\n",
        "    </script>\n",
        "    "
       ],
       "metadata": {},
       "output_type": "pyout",
       "prompt_number": 3,
       "text": [
        "<gcp.bigquery._udf.FunctionEvaluation at 0x109774a50>"
       ]
      }
     ],
     "prompt_number": 3
    },
    {
     "cell_type": "heading",
     "level": 1,
     "metadata": {},
     "source": [
      "Including JavaScript into SQL"
     ]
    },
    {
     "cell_type": "markdown",
     "metadata": {},
     "source": [
      "The JavaScript function can now be applied to a table or SQL query."
     ]
    },
    {
     "cell_type": "code",
     "collapsed": false,
     "input": [
      "import gcp.bigquery as bq\n",
      "shakespeare = bq.table('publicdata:samples.shakespeare')"
     ],
     "language": "python",
     "metadata": {},
     "outputs": [],
     "prompt_number": 4
    },
    {
     "cell_type": "code",
     "collapsed": false,
     "input": [
      "filtering_query = word_filter(shakespeare)"
     ],
     "language": "python",
     "metadata": {},
     "outputs": [],
     "prompt_number": 5
    },
    {
     "cell_type": "code",
     "collapsed": false,
     "input": [
      "%%bq_sql final_query\n",
      "SELECT word, sum(count) as count\n",
      "FROM $filtering_query\n",
      "WHERE LENGTH(word) >= 5\n",
      "GROUP BY word \n",
      "ORDER BY count DESC\n",
      "LIMIT 100"
     ],
     "language": "python",
     "metadata": {},
     "outputs": [],
     "prompt_number": 6
    },
    {
     "cell_type": "markdown",
     "metadata": {},
     "source": [
      "It might be interesting to check out the SQL resulting from applying a JavaScript UDF."
     ]
    },
    {
     "cell_type": "code",
     "collapsed": false,
     "input": [
      "print final_query.sql"
     ],
     "language": "python",
     "metadata": {},
     "outputs": [
      {
       "output_type": "stream",
       "stream": "stdout",
       "text": [
        "SELECT word, sum(count) as count\n",
        "FROM js([publicdata:samples.shakespeare],\n",
        "word,corpus,word_count,\n",
        "'[{\"name\": \"word\", \"type\": \"string\"}, {\"name\": \"corpus\", \"type\": \"string\"}, {\"name\": \"count\", \"type\": \"integer\"}]',\n",
        "\"/**\n",
        " * @param {{word: string, corpus: string, word_count: integer}} r\n",
        " * @param function({{word: string, corpus: string, count: integer}}) emitFn\n",
        " */\n",
        "function(r, emitFn) {\n",
        "  if (r.word.match(/[shakespeare]/) !== null) {\n",
        "    var result = { word: r.word, corpus: r.corpus, count: r.word_count };\n",
        "    emitFn(result);\n",
        "  }\n",
        "}\")\n",
        "WHERE LENGTH(word) >= 5\n",
        "GROUP BY word \n",
        "ORDER BY count DESC\n",
        "LIMIT 100\n"
       ]
      }
     ],
     "prompt_number": 7
    },
    {
     "cell_type": "markdown",
     "metadata": {},
     "source": [
      "And of course execute it, and see the results..."
     ]
    },
    {
     "cell_type": "code",
     "collapsed": false,
     "input": [
      "final_query.results()"
     ],
     "language": "python",
     "metadata": {},
     "outputs": [
      {
       "html": [
        "<div>Number of rows: 100</div><div>Query job ID  : job_2n756b1V1CQcrIgHOZfaUoEUy4g</div><table><tr><th>count</th><th>word</th></tr><tr><td>3282</td><td>shall</td></tr><tr><td>2135</td><td>their</td></tr><tr><td>1977</td><td>Enter</td></tr><tr><td>1524</td><td>which</td></tr><tr><td>1505</td><td>should</td></tr><tr><td>1453</td><td>there</td></tr><tr><td>1164</td><td>these</td></tr><tr><td>1081</td><td>heart</td></tr><tr><td>1052</td><td>Exeunt</td></tr><tr><td>1040</td><td>speak</td></tr><tr><td>991</td><td>think</td></tr><tr><td>984</td><td>First</td></tr><tr><td>981</td><td>never</td></tr><tr><td>977</td><td>Which</td></tr><tr><td>902</td><td>night</td></tr><tr><td>887</td><td>death</td></tr><tr><td>850</td><td>great</td></tr><tr><td>837</td><td>father</td></tr><tr><td>790</td><td>again</td></tr><tr><td>763</td><td>where</td></tr><tr><td>745</td><td>cannot</td></tr><tr><td>717</td><td>sweet</td></tr><tr><td>688</td><td>other</td></tr><tr><td>658</td><td>before</td></tr><tr><td>656</td><td>world</td></tr><tr><td>643</td><td>leave</td></tr><tr><td>641</td><td>honour</td></tr><tr><td>620</td><td>Second</td></tr><tr><td>615</td><td>being</td></tr><tr><td>609</td><td>comes</td></tr><tr><td>608</td><td>noble</td></tr><tr><td>588</td><td>Where</td></tr><tr><td>587</td><td>better</td></tr><tr><td>585</td><td>heaven</td></tr><tr><td>575</td><td>grace</td></tr><tr><td>574</td><td>house</td></tr><tr><td>567</td><td>still</td></tr><tr><td>567</td><td>nothing</td></tr><tr><td>565</td><td>every</td></tr><tr><td>564</td><td>myself</td></tr><tr><td>517</td><td>thing</td></tr><tr><td>517</td><td>brother</td></tr><tr><td>508</td><td>those</td></tr><tr><td>503</td><td>little</td></tr><tr><td>497</td><td>master</td></tr><tr><td>490</td><td>might</td></tr><tr><td>488</td><td>place</td></tr><tr><td>481</td><td>first</td></tr><tr><td>480</td><td>friends</td></tr><tr><td>475</td><td>stand</td></tr><tr><td>471</td><td>himself</td></tr><tr><td>465</td><td>thine</td></tr><tr><td>465</td><td>against</td></tr><tr><td>445</td><td>though</td></tr><tr><td>440</td><td>daughter</td></tr><tr><td>440</td><td>friend</td></tr><tr><td>436</td><td>tongue</td></tr><tr><td>435</td><td>words</td></tr><tr><td>435</td><td>Shall</td></tr><tr><td>431</td><td>There</td></tr><tr><td>429</td><td>enter</td></tr><tr><td>423</td><td>whose</td></tr><tr><td>422</td><td>queen</td></tr><tr><td>421</td><td>therefore</td></tr><tr><td>417</td><td>peace</td></tr><tr><td>403</td><td>France</td></tr><tr><td>401</td><td>bring</td></tr><tr><td>400</td><td>thought</td></tr><tr><td>394</td><td>forth</td></tr><tr><td>375</td><td>answer</td></tr><tr><td>373</td><td>about</td></tr><tr><td>369</td><td>indeed</td></tr><tr><td>367</td><td>gentle</td></tr><tr><td>364</td><td>after</td></tr><tr><td>362</td><td>Aside</td></tr><tr><td>361</td><td>three</td></tr><tr><td>357</td><td>matter</td></tr><tr><td>355</td><td>another</td></tr><tr><td>355</td><td>heard</td></tr><tr><td>350</td><td>power</td></tr><tr><td>350</td><td>cause</td></tr><tr><td>350</td><td>Caesar</td></tr><tr><td>349</td><td>within</td></tr><tr><td>349</td><td>sword</td></tr><tr><td>347</td><td>morrow</td></tr><tr><td>344</td><td>please</td></tr><tr><td>344</td><td>lords</td></tr><tr><td>343</td><td>thousand</td></tr><tr><td>343</td><td>truth</td></tr><tr><td>343</td><td>mother</td></tr><tr><td>342</td><td>woman</td></tr><tr><td>341</td><td>right</td></tr><tr><td>336</td><td>makes</td></tr><tr><td>335</td><td>shame</td></tr><tr><td>331</td><td>madam</td></tr><tr><td>327</td><td>hands</td></tr><tr><td>326</td><td>hence</td></tr><tr><td>324</td><td>nature</td></tr><tr><td>324</td><td>earth</td></tr><tr><td>321</td><td>things</td></tr></table>"
       ],
       "metadata": {},
       "output_type": "pyout",
       "prompt_number": 8,
       "text": [
        "[{u'count': 3282, u'word': u'shall'},\n",
        " {u'count': 2135, u'word': u'their'},\n",
        " {u'count': 1977, u'word': u'Enter'},\n",
        " {u'count': 1524, u'word': u'which'},\n",
        " {u'count': 1505, u'word': u'should'},\n",
        " {u'count': 1453, u'word': u'there'},\n",
        " {u'count': 1164, u'word': u'these'},\n",
        " {u'count': 1081, u'word': u'heart'},\n",
        " {u'count': 1052, u'word': u'Exeunt'},\n",
        " {u'count': 1040, u'word': u'speak'},\n",
        " {u'count': 991, u'word': u'think'},\n",
        " {u'count': 984, u'word': u'First'},\n",
        " {u'count': 981, u'word': u'never'},\n",
        " {u'count': 977, u'word': u'Which'},\n",
        " {u'count': 902, u'word': u'night'},\n",
        " {u'count': 887, u'word': u'death'},\n",
        " {u'count': 850, u'word': u'great'},\n",
        " {u'count': 837, u'word': u'father'},\n",
        " {u'count': 790, u'word': u'again'},\n",
        " {u'count': 763, u'word': u'where'},\n",
        " {u'count': 745, u'word': u'cannot'},\n",
        " {u'count': 717, u'word': u'sweet'},\n",
        " {u'count': 688, u'word': u'other'},\n",
        " {u'count': 658, u'word': u'before'},\n",
        " {u'count': 656, u'word': u'world'},\n",
        " {u'count': 643, u'word': u'leave'},\n",
        " {u'count': 641, u'word': u'honour'},\n",
        " {u'count': 620, u'word': u'Second'},\n",
        " {u'count': 615, u'word': u'being'},\n",
        " {u'count': 609, u'word': u'comes'},\n",
        " {u'count': 608, u'word': u'noble'},\n",
        " {u'count': 588, u'word': u'Where'},\n",
        " {u'count': 587, u'word': u'better'},\n",
        " {u'count': 585, u'word': u'heaven'},\n",
        " {u'count': 575, u'word': u'grace'},\n",
        " {u'count': 574, u'word': u'house'},\n",
        " {u'count': 567, u'word': u'still'},\n",
        " {u'count': 567, u'word': u'nothing'},\n",
        " {u'count': 565, u'word': u'every'},\n",
        " {u'count': 564, u'word': u'myself'},\n",
        " {u'count': 517, u'word': u'thing'},\n",
        " {u'count': 517, u'word': u'brother'},\n",
        " {u'count': 508, u'word': u'those'},\n",
        " {u'count': 503, u'word': u'little'},\n",
        " {u'count': 497, u'word': u'master'},\n",
        " {u'count': 490, u'word': u'might'},\n",
        " {u'count': 488, u'word': u'place'},\n",
        " {u'count': 481, u'word': u'first'},\n",
        " {u'count': 480, u'word': u'friends'},\n",
        " {u'count': 475, u'word': u'stand'},\n",
        " {u'count': 471, u'word': u'himself'},\n",
        " {u'count': 465, u'word': u'thine'},\n",
        " {u'count': 465, u'word': u'against'},\n",
        " {u'count': 445, u'word': u'though'},\n",
        " {u'count': 440, u'word': u'daughter'},\n",
        " {u'count': 440, u'word': u'friend'},\n",
        " {u'count': 436, u'word': u'tongue'},\n",
        " {u'count': 435, u'word': u'words'},\n",
        " {u'count': 435, u'word': u'Shall'},\n",
        " {u'count': 431, u'word': u'There'},\n",
        " {u'count': 429, u'word': u'enter'},\n",
        " {u'count': 423, u'word': u'whose'},\n",
        " {u'count': 422, u'word': u'queen'},\n",
        " {u'count': 421, u'word': u'therefore'},\n",
        " {u'count': 417, u'word': u'peace'},\n",
        " {u'count': 403, u'word': u'France'},\n",
        " {u'count': 401, u'word': u'bring'},\n",
        " {u'count': 400, u'word': u'thought'},\n",
        " {u'count': 394, u'word': u'forth'},\n",
        " {u'count': 375, u'word': u'answer'},\n",
        " {u'count': 373, u'word': u'about'},\n",
        " {u'count': 369, u'word': u'indeed'},\n",
        " {u'count': 367, u'word': u'gentle'},\n",
        " {u'count': 364, u'word': u'after'},\n",
        " {u'count': 362, u'word': u'Aside'},\n",
        " {u'count': 361, u'word': u'three'},\n",
        " {u'count': 357, u'word': u'matter'},\n",
        " {u'count': 355, u'word': u'another'},\n",
        " {u'count': 355, u'word': u'heard'},\n",
        " {u'count': 350, u'word': u'power'},\n",
        " {u'count': 350, u'word': u'cause'},\n",
        " {u'count': 350, u'word': u'Caesar'},\n",
        " {u'count': 349, u'word': u'within'},\n",
        " {u'count': 349, u'word': u'sword'},\n",
        " {u'count': 347, u'word': u'morrow'},\n",
        " {u'count': 344, u'word': u'please'},\n",
        " {u'count': 344, u'word': u'lords'},\n",
        " {u'count': 343, u'word': u'thousand'},\n",
        " {u'count': 343, u'word': u'truth'},\n",
        " {u'count': 343, u'word': u'mother'},\n",
        " {u'count': 342, u'word': u'woman'},\n",
        " {u'count': 341, u'word': u'right'},\n",
        " {u'count': 336, u'word': u'makes'},\n",
        " {u'count': 335, u'word': u'shame'},\n",
        " {u'count': 331, u'word': u'madam'},\n",
        " {u'count': 327, u'word': u'hands'},\n",
        " {u'count': 326, u'word': u'hence'},\n",
        " {u'count': 324, u'word': u'nature'},\n",
        " {u'count': 324, u'word': u'earth'},\n",
        " {u'count': 321, u'word': u'things'}]"
       ]
      }
     ],
     "prompt_number": 8
    },
    {
     "cell_type": "code",
     "collapsed": false,
     "input": [],
     "language": "python",
     "metadata": {},
     "outputs": [],
     "prompt_number": 8
    }
   ],
   "metadata": {}
  }
 ]
}