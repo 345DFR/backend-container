{
 "metadata": {
  "name": "",
  "signature": "sha256:e47421291375c97dbe114f5022e2d551999f38dc500008cf09800b9d923fc4c8"
 },
 "nbformat": 3,
 "nbformat_minor": 0,
 "worksheets": [
  {
   "cells": [
    {
     "cell_type": "markdown",
     "metadata": {},
     "source": [
      "# BigQuery - Moving Data from Pandas to BigQuery\n",
      "\n",
      "This notebook demonstrates how to move data from a Pandas dataframe into a BiqQuery table.\n",
      "\n",
      "### In this notebook you will\n",
      "* Create a Pandas dataframe containing some stock price data\n",
      "* Learn how to make some adjustments to a Pandas dataframe to include the index as a column and make sure columns have the right types\n",
      "* Infer a BigQuery table schema from the adjusted Pandas dataframe\n",
      "* Create a BigQuery table with the inferred schema\n",
      "* Upload the records from the Pandas dataframe to the BigQuery table\n",
      "\n",
      "Related Links:\n",
      "\n",
      "* [BigQuery](https://cloud.google.com/bigquery/)\n",
      "* Python [Pandas](http://pandas.pydata.org/) for data analysis\n",
      "* Python [matplotlib](http://matplotlib.org/) for data visualization\n"
     ]
    },
    {
     "cell_type": "code",
     "collapsed": false,
     "input": [
      "import pandas.io.data as web\n",
      "import datetime\n",
      "import gcp.bigquery as bq"
     ],
     "language": "python",
     "metadata": {},
     "outputs": [],
     "prompt_number": 33
    },
    {
     "cell_type": "heading",
     "level": 1,
     "metadata": {},
     "source": [
      "Creating a Pandas dataframe with sample data"
     ]
    },
    {
     "cell_type": "markdown",
     "metadata": {},
     "source": [
      "First we need some data; we can easily get a dataframe containing Google stock price data:"
     ]
    },
    {
     "cell_type": "code",
     "collapsed": false,
     "input": [
      "start = datetime.datetime(2010, 1, 1)\n",
      "end = datetime.datetime(2013, 1, 1)\n",
      "f=web.DataReader(\"AAPL\", 'google', start, end)\n",
      "f[:5]"
     ],
     "language": "python",
     "metadata": {},
     "outputs": [
      {
       "html": [
        "<div style=\"max-height:1000px;max-width:1500px;overflow:auto;\">\n",
        "<table border=\"1\" class=\"dataframe\">\n",
        "  <thead>\n",
        "    <tr style=\"text-align: right;\">\n",
        "      <th></th>\n",
        "      <th>Open</th>\n",
        "      <th>High</th>\n",
        "      <th>Low</th>\n",
        "      <th>Close</th>\n",
        "      <th>Volume</th>\n",
        "    </tr>\n",
        "    <tr>\n",
        "      <th>\ufeffDate</th>\n",
        "      <th></th>\n",
        "      <th></th>\n",
        "      <th></th>\n",
        "      <th></th>\n",
        "      <th></th>\n",
        "    </tr>\n",
        "  </thead>\n",
        "  <tbody>\n",
        "    <tr>\n",
        "      <th>2010-01-04</th>\n",
        "      <td> 30.49</td>\n",
        "      <td> 30.64</td>\n",
        "      <td> 30.34</td>\n",
        "      <td> 30.57</td>\n",
        "      <td> 123432050</td>\n",
        "    </tr>\n",
        "    <tr>\n",
        "      <th>2010-01-05</th>\n",
        "      <td> 30.66</td>\n",
        "      <td> 30.80</td>\n",
        "      <td> 30.46</td>\n",
        "      <td> 30.63</td>\n",
        "      <td> 150476004</td>\n",
        "    </tr>\n",
        "    <tr>\n",
        "      <th>2010-01-06</th>\n",
        "      <td> 30.63</td>\n",
        "      <td> 30.75</td>\n",
        "      <td> 30.11</td>\n",
        "      <td> 30.14</td>\n",
        "      <td> 138039594</td>\n",
        "    </tr>\n",
        "    <tr>\n",
        "      <th>2010-01-07</th>\n",
        "      <td> 30.25</td>\n",
        "      <td> 30.29</td>\n",
        "      <td> 29.86</td>\n",
        "      <td> 30.08</td>\n",
        "      <td> 119282324</td>\n",
        "    </tr>\n",
        "    <tr>\n",
        "      <th>2010-01-08</th>\n",
        "      <td> 30.04</td>\n",
        "      <td> 30.29</td>\n",
        "      <td> 29.87</td>\n",
        "      <td> 30.28</td>\n",
        "      <td> 111969081</td>\n",
        "    </tr>\n",
        "  </tbody>\n",
        "</table>\n",
        "</div>"
       ],
       "metadata": {},
       "output_type": "pyout",
       "prompt_number": 34,
       "text": [
        "             Open   High    Low  Close     Volume\n",
        "\ufeffDate                                            \n",
        "2010-01-04  30.49  30.64  30.34  30.57  123432050\n",
        "2010-01-05  30.66  30.80  30.46  30.63  150476004\n",
        "2010-01-06  30.63  30.75  30.11  30.14  138039594\n",
        "2010-01-07  30.25  30.29  29.86  30.08  119282324\n",
        "2010-01-08  30.04  30.29  29.87  30.28  111969081"
       ]
      }
     ],
     "prompt_number": 34
    },
    {
     "cell_type": "heading",
     "level": 1,
     "metadata": {},
     "source": [
      "Preparing the Pandas dataframe"
     ]
    },
    {
     "cell_type": "markdown",
     "metadata": {},
     "source": [
      "We are going to need to create a BigQuery table with an appropriate schema. We can create a schema ourselves, but it is easier to just derive the schema from the dataframe. However, for that to work well we need the dataframe itself to be appropriately typed. We can check the state of the dataframe schema to see if it is suitable:"
     ]
    },
    {
     "cell_type": "code",
     "collapsed": false,
     "input": [
      "f.dtypes"
     ],
     "language": "python",
     "metadata": {},
     "outputs": [
      {
       "metadata": {},
       "output_type": "pyout",
       "prompt_number": 35,
       "text": [
        "Open      float64\n",
        "High      float64\n",
        "Low       float64\n",
        "Close     float64\n",
        "Volume      int64\n",
        "dtype: object"
       ]
      }
     ],
     "prompt_number": 35
    },
    {
     "cell_type": "markdown",
     "metadata": {},
     "source": [
      "The types look reasonable, but notice that the date column is not included. That is because it is an index. We want to include the index, which we can do by converting it to a column:"
     ]
    },
    {
     "cell_type": "code",
     "collapsed": false,
     "input": [
      "f = f.reset_index(drop=False)\n",
      "f.dtypes"
     ],
     "language": "python",
     "metadata": {},
     "outputs": [
      {
       "metadata": {},
       "output_type": "pyout",
       "prompt_number": 36,
       "text": [
        "\ufeffDate     datetime64[ns]\n",
        "Open             float64\n",
        "High             float64\n",
        "Low              float64\n",
        "Close            float64\n",
        "Volume             int64\n",
        "dtype: object"
       ]
      }
     ],
     "prompt_number": 36
    },
    {
     "cell_type": "markdown",
     "metadata": {},
     "source": [
      "Although it is not necessary in this example, if we had missing values Pandas may have decided that the columns were not numeric; you can usually fix that by doing the following:"
     ]
    },
    {
     "cell_type": "code",
     "collapsed": false,
     "input": [
      "f = f.convert_objects(convert_numeric=True)"
     ],
     "language": "python",
     "metadata": {},
     "outputs": [],
     "prompt_number": 37
    },
    {
     "cell_type": "heading",
     "level": 1,
     "metadata": {},
     "source": [
      "Getting a BigQuery Schema matching the dataframe"
     ]
    },
    {
     "cell_type": "markdown",
     "metadata": {},
     "source": [
      "Now we want to create a schema for the table. We can infer one from the dataframe as follows:"
     ]
    },
    {
     "cell_type": "code",
     "collapsed": false,
     "input": [
      "schema = bq.schema(f)"
     ],
     "language": "python",
     "metadata": {},
     "outputs": [],
     "prompt_number": 38
    },
    {
     "cell_type": "markdown",
     "metadata": {},
     "source": [
      "As you can see, the Date field has some invalid characters in its name, which BigQuery will reject when creating the table. So we need to fix that and regenerate the schema:"
     ]
    },
    {
     "cell_type": "code",
     "collapsed": false,
     "input": [
      "f.rename(columns={f.columns[0]: 'Date'}, inplace=True)\n",
      "schema = bq.schema(f)\n",
      "schema"
     ],
     "language": "python",
     "metadata": {},
     "outputs": [
      {
       "html": [
        "<table><tr><th>name</th><th>data_type</th><th>mode</th><th>description</th></tr><tr><td>Volume</td><td>INTEGER</td><td>NULLABLE</td><td></td></tr><tr><td>High</td><td>FLOAT</td><td>NULLABLE</td><td></td></tr><tr><td>Low</td><td>FLOAT</td><td>NULLABLE</td><td></td></tr><tr><td>Date</td><td>TIMESTAMP</td><td>NULLABLE</td><td></td></tr><tr><td>Close</td><td>FLOAT</td><td>NULLABLE</td><td></td></tr><tr><td>Open</td><td>FLOAT</td><td>NULLABLE</td><td></td></tr></table>"
       ],
       "metadata": {},
       "output_type": "pyout",
       "prompt_number": 39,
       "text": [
        "[{ 'name': 'Volume', 'type': 'INTEGER', 'mode':'NULLABLE', 'description': '' },\n",
        " { 'name': 'High', 'type': 'FLOAT', 'mode':'NULLABLE', 'description': '' },\n",
        " { 'name': 'Low', 'type': 'FLOAT', 'mode':'NULLABLE', 'description': '' },\n",
        " { 'name': 'Date', 'type': 'TIMESTAMP', 'mode':'NULLABLE', 'description': '' },\n",
        " { 'name': 'Close', 'type': 'FLOAT', 'mode':'NULLABLE', 'description': '' },\n",
        " { 'name': 'Open', 'type': 'FLOAT', 'mode':'NULLABLE', 'description': '' }]"
       ]
      }
     ],
     "prompt_number": 39
    },
    {
     "cell_type": "heading",
     "level": 1,
     "metadata": {},
     "source": [
      "Creating the BigQuery Table with the schema"
     ]
    },
    {
     "cell_type": "markdown",
     "metadata": {},
     "source": [
      "Now we can create table with the schema. For the purpose of this example, if the table exists we'll recreate it (with the truncate=True parameter):"
     ]
    },
    {
     "cell_type": "code",
     "collapsed": false,
     "input": [
      "table = bq.table('samples.stock').create(schema, truncate=True)"
     ],
     "language": "python",
     "metadata": {},
     "outputs": [],
     "prompt_number": 40
    },
    {
     "cell_type": "heading",
     "level": 1,
     "metadata": {},
     "source": [
      "Loading the dataframe into BigQuery"
     ]
    },
    {
     "cell_type": "markdown",
     "metadata": {},
     "source": [
      "Finally, we can populate the table from the dataframe:"
     ]
    },
    {
     "cell_type": "code",
     "collapsed": false,
     "input": [
      "table.insertAll(f)"
     ],
     "language": "python",
     "metadata": {},
     "outputs": [
      {
       "metadata": {},
       "output_type": "pyout",
       "prompt_number": 41,
       "text": [
        "<gcp.bigquery._table.Table at 0x10c012990>"
       ]
      }
     ],
     "prompt_number": 41
    },
    {
     "cell_type": "markdown",
     "metadata": {},
     "source": [
      "To confirm the insert, we look at a sample:"
     ]
    },
    {
     "cell_type": "code",
     "collapsed": false,
     "input": [
      "table.sample()"
     ],
     "language": "python",
     "metadata": {},
     "outputs": [
      {
       "html": [
        "<div>Number of rows: 5</div><div>Query job ID  : job_74flrpdRxXqAlgkKOoNQmYw6LLs</div><table><tr><th>Volume</th><th>High</th><th>Low</th><th>Date</th><th>Close</th><th>Open</th></tr><tr><td>121783130</td><td>78.29</td><td>76.61</td><td>2012-12-12 00:00:00</td><td>77.0</td><td>78.25</td></tr><tr><td>77337001</td><td>47.5</td><td>46.88</td><td>2011-01-04 00:00:00</td><td>47.33</td><td>47.49</td></tr><tr><td>175163842</td><td>49.39</td><td>48.79</td><td>2011-04-20 00:00:00</td><td>48.92</td><td>49.07</td></tr><tr><td>262003357</td><td>35.25</td><td>33.88</td><td>2010-05-25 00:00:00</td><td>35.03</td><td>34.19</td></tr><tr><td>100900954</td><td>44.36</td><td>43.75</td><td>2010-11-15 00:00:00</td><td>43.86</td><td>44.07</td></tr></table>"
       ],
       "metadata": {},
       "output_type": "pyout",
       "prompt_number": 46,
       "text": [
        "[{u'Close': 77.0,\n",
        "  u'Date': datetime.datetime(2012, 12, 12, 0, 0),\n",
        "  u'High': 78.29,\n",
        "  u'Low': 76.61,\n",
        "  u'Open': 78.25,\n",
        "  u'Volume': 121783130},\n",
        " {u'Close': 47.33,\n",
        "  u'Date': datetime.datetime(2011, 1, 4, 0, 0),\n",
        "  u'High': 47.5,\n",
        "  u'Low': 46.88,\n",
        "  u'Open': 47.49,\n",
        "  u'Volume': 77337001},\n",
        " {u'Close': 48.92,\n",
        "  u'Date': datetime.datetime(2011, 4, 20, 0, 0),\n",
        "  u'High': 49.39,\n",
        "  u'Low': 48.79,\n",
        "  u'Open': 49.07,\n",
        "  u'Volume': 175163842},\n",
        " {u'Close': 35.03,\n",
        "  u'Date': datetime.datetime(2010, 5, 25, 0, 0),\n",
        "  u'High': 35.25,\n",
        "  u'Low': 33.88,\n",
        "  u'Open': 34.19,\n",
        "  u'Volume': 262003357},\n",
        " {u'Close': 43.86,\n",
        "  u'Date': datetime.datetime(2010, 11, 15, 0, 0),\n",
        "  u'High': 44.36,\n",
        "  u'Low': 43.75,\n",
        "  u'Open': 44.07,\n",
        "  u'Volume': 100900954}]"
       ]
      }
     ],
     "prompt_number": 46
    },
    {
     "cell_type": "code",
     "collapsed": false,
     "input": [],
     "language": "python",
     "metadata": {},
     "outputs": []
    }
   ],
   "metadata": {}
  }
 ]
}