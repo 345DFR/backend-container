{
 "metadata": {
  "name": "",
  "signature": "sha256:80669e48c6e8aec10a87a8854a273efeb9670b702c17e1e7af83baf9d51b6b15"
 },
 "nbformat": 3,
 "nbformat_minor": 0,
 "worksheets": [
  {
   "cells": [
    {
     "cell_type": "heading",
     "level": 1,
     "metadata": {},
     "source": [
      "BigQuery - Parameterized Queries"
     ]
    },
    {
     "cell_type": "markdown",
     "metadata": {},
     "source": [
      "This notebook shows SQL and BigQuery support that goes beyond exploratory queries. It shows how to parameterize queries and organize them into modules for use elsewhere in the notebook and potentially for deployment to BigQuery from within a notebook. Query deployment is work in progress and modular, parameterized queries is a step in that direction."
     ]
    },
    {
     "cell_type": "heading",
     "level": 1,
     "metadata": {},
     "source": [
      "Setup"
     ]
    },
    {
     "cell_type": "markdown",
     "metadata": {},
     "source": [
      "Import libraries and see the schema and data."
     ]
    },
    {
     "cell_type": "code",
     "collapsed": false,
     "input": [
      "import gcp\n",
      "import gcp.bigquery as bq"
     ],
     "language": "python",
     "metadata": {},
     "outputs": [],
     "prompt_number": 1
    },
    {
     "cell_type": "code",
     "collapsed": false,
     "input": [
      "%%sql\n",
      "SELECT * FROM [cloud-datalab:sampledata.requestlogs_20140615] LIMIT 5"
     ],
     "language": "python",
     "metadata": {},
     "outputs": [
      {
       "html": [
        "\n",
        "    <div class=\"bqtv\" id=\"bqtv_144020427116\"></div>\n",
        "    <div><br />job_YlMgSsqDNJUF-mHe1wE20hVdZSc<br />rows: 5</div>\n",
        "    <script>\n",
        "      require(['extensions/charting', 'element!bqtv_144020427116', 'style!/static/extensions/charting.css'],\n",
        "        function(charts, dom) {\n",
        "          charts.render(dom,\n",
        "            {\n",
        "              chartStyle:\"table\",\n",
        "              dataName:\"data-studio-team:_22cae82edc27e9be9a02c50fe9837efda6b0471d.anon1b8034a085f5c0a29a781b1f197759eaca5a45dd\",\n",
        "              fields:\"timestamp,latency,status,method,endpoint\",\n",
        "              totalRows:5,\n",
        "              rowsPerPage:25,\n",
        "            }, {}, {\"rows\": [{\"c\": [{\"v\": \"2014-06-15T07:00:00.003772\"}, {\"v\": 122}, {\"v\": 200}, {\"v\": \"GET\"}, {\"v\": \"Interact3\"}]}, {\"c\": [{\"v\": \"2014-06-15T07:00:00.428897\"}, {\"v\": 144}, {\"v\": 200}, {\"v\": \"GET\"}, {\"v\": \"Interact3\"}]}, {\"c\": [{\"v\": \"2014-06-15T07:00:00.536486\"}, {\"v\": 48}, {\"v\": 200}, {\"v\": \"GET\"}, {\"v\": \"Interact3\"}]}, {\"c\": [{\"v\": \"2014-06-15T07:00:00.652760\"}, {\"v\": 28}, {\"v\": 405}, {\"v\": \"GET\"}, {\"v\": \"Interact2\"}]}, {\"c\": [{\"v\": \"2014-06-15T07:00:00.670100\"}, {\"v\": 103}, {\"v\": 200}, {\"v\": \"GET\"}, {\"v\": \"Interact3\"}]}], \"cols\": [{\"type\": \"datetime\", \"id\": \"timestamp\", \"label\": \"timestamp\"}, {\"type\": \"number\", \"id\": \"latency\", \"label\": \"latency\"}, {\"type\": \"number\", \"id\": \"status\", \"label\": \"status\"}, {\"type\": \"string\", \"id\": \"method\", \"label\": \"method\"}, {\"type\": \"string\", \"id\": \"endpoint\", \"label\": \"endpoint\"}]});\n",
        "        }\n",
        "      );\n",
        "    </script>\n",
        "  "
       ],
       "metadata": {},
       "output_type": "pyout",
       "prompt_number": 2,
       "text": []
      }
     ],
     "prompt_number": 2
    },
    {
     "cell_type": "code",
     "collapsed": false,
     "input": [
      "%%sql\n",
      "SELECT endpoint, count(status) statcount\n",
      "FROM [cloud-datalab:sampledata.requestlogs_20140615]\n",
      "WHERE status = 401\n",
      "GROUP BY endpoint\n",
      "ORDER BY endpoint"
     ],
     "language": "python",
     "metadata": {},
     "outputs": [
      {
       "html": [
        "\n",
        "    <div class=\"bqtv\" id=\"bqtv_144020427117\"></div>\n",
        "    <div><br />job_tzMzlkUS-_K0jqR4G5f-21Am4-w<br />rows: 3</div>\n",
        "    <script>\n",
        "      require(['extensions/charting', 'element!bqtv_144020427117', 'style!/static/extensions/charting.css'],\n",
        "        function(charts, dom) {\n",
        "          charts.render(dom,\n",
        "            {\n",
        "              chartStyle:\"table\",\n",
        "              dataName:\"data-studio-team:_22cae82edc27e9be9a02c50fe9837efda6b0471d.anonda762118e14054f77da3d2a9c61a0f5e9c2d52be\",\n",
        "              fields:\"endpoint,statcount\",\n",
        "              totalRows:3,\n",
        "              rowsPerPage:25,\n",
        "            }, {}, {\"rows\": [{\"c\": [{\"v\": \"Create\"}, {\"v\": 49}]}, {\"c\": [{\"v\": \"Interact2\"}, {\"v\": 4}]}, {\"c\": [{\"v\": \"Other\"}, {\"v\": 20}]}], \"cols\": [{\"type\": \"string\", \"id\": \"endpoint\", \"label\": \"endpoint\"}, {\"type\": \"number\", \"id\": \"statcount\", \"label\": \"statcount\"}]});\n",
        "        }\n",
        "      );\n",
        "    </script>\n",
        "  "
       ],
       "metadata": {},
       "output_type": "pyout",
       "prompt_number": 3,
       "text": []
      }
     ],
     "prompt_number": 3
    },
    {
     "cell_type": "heading",
     "level": 1,
     "metadata": {},
     "source": [
      "Module and Parameters"
     ]
    },
    {
     "cell_type": "markdown",
     "metadata": {},
     "source": [
      "The following cell uses the name StatusQueries to group a set of related queries in a module. Outside of the cell the module name needs to be used to refer to one of the queries.\n",
      "\n",
      "The queries themselves are defined for later use with the DEFINE QUERY construct. These queries are not immediately executed. They contain named parameters like \"endpt\" that are given default values and referred to with '$' prefix inside the SQL statement. Notice that the queries are not strings and in order to replace parameters, you do not need to do awkward string processing."
     ]
    },
    {
     "cell_type": "code",
     "collapsed": false,
     "input": [
      "%%sql --name StatusQueries\n",
      "endpt = 'Admin'\n",
      "stat = 401\n",
      "\n",
      "DEFINE QUERY ErrorCountByEndpt\n",
      "SELECT status, count(status) statcount\n",
      "FROM [cloud-datalab:sampledata.requestlogs_20140615]\n",
      "WHERE endpoint = $endpt\n",
      "AND status > 399\n",
      "GROUP BY status\n",
      "ORDER BY status\n",
      "\n",
      "DEFINE QUERY CountForStatus\n",
      "SELECT endpoint, count(status) statcount\n",
      "FROM [cloud-datalab:sampledata.requestlogs_20140615]\n",
      "WHERE status = $stat\n",
      "GROUP BY endpoint\n",
      "ORDER BY endpoint"
     ],
     "language": "python",
     "metadata": {},
     "outputs": [],
     "prompt_number": 4
    },
    {
     "cell_type": "markdown",
     "metadata": {},
     "source": [
      "The queries above are just plain SQL queries. They are not bound to any particular SQL implementation. In order to use the SQL, we need to identify a SQL implementation as the executor. Let's use BigQuery as the executor since the data we are working with is in BigQuery.\n",
      "\n",
      "As a first step, let's see the expanded query that would get executed - first with default and then with a non-default value. Note that single line syntax is %bigquery while multi-line cells use %%bigquery following the IPython syntax."
     ]
    },
    {
     "cell_type": "code",
     "collapsed": false,
     "input": [
      "%bigquery pipeline --sql StatusQueries.ErrorCountByEndpt"
     ],
     "language": "python",
     "metadata": {},
     "outputs": [
      {
       "output_type": "stream",
       "stream": "stdout",
       "text": [
        "SELECT status, count(status) statcount\n",
        "FROM [cloud-datalab:sampledata.requestlogs_20140615]\n",
        "WHERE endpoint = \"Admin\"\n",
        "AND status > 399\n",
        "GROUP BY status\n",
        "ORDER BY status\n"
       ]
      },
      {
       "html": [
        "\n",
        "    <p>Dry run information: 10.5MB to process, results not cached</p>\n",
        "    "
       ],
       "metadata": {},
       "output_type": "pyout",
       "prompt_number": 5,
       "text": [
        "<gcp.bigquery._query_stats.QueryStats instance at 0x7f2ec18d8f80>"
       ]
      }
     ],
     "prompt_number": 5
    },
    {
     "cell_type": "code",
     "collapsed": false,
     "input": [
      "%%bigquery pipeline --sql StatusQueries.ErrorCountByEndpt \n",
      "endpt = 'Other'\n",
      "stat = 404"
     ],
     "language": "python",
     "metadata": {},
     "outputs": [
      {
       "output_type": "stream",
       "stream": "stdout",
       "text": [
        "SELECT status, count(status) statcount\n",
        "FROM [cloud-datalab:sampledata.requestlogs_20140615]\n",
        "WHERE endpoint = \"Other\"\n",
        "AND status > 399\n",
        "GROUP BY status\n",
        "ORDER BY status\n"
       ]
      },
      {
       "html": [
        "\n",
        "    <p>Dry run information: 10.5MB to process, results cached</p>\n",
        "    "
       ],
       "metadata": {},
       "output_type": "pyout",
       "prompt_number": 6,
       "text": [
        "<gcp.bigquery._query_stats.QueryStats instance at 0x7f2ec194fd88>"
       ]
      }
     ],
     "prompt_number": 6
    },
    {
     "cell_type": "markdown",
     "metadata": {},
     "source": [
      "The same can be accomplished with the more conventional APIs in Python code as well as shown below."
     ]
    },
    {
     "cell_type": "code",
     "collapsed": false,
     "input": [
      "bq.query(StatusQueries.ErrorCountByEndpt)"
     ],
     "language": "python",
     "metadata": {},
     "outputs": [
      {
       "html": [
        "<pre>SELECT status, count(status) statcount\n",
        "FROM [cloud-datalab:sampledata.requestlogs_20140615]\n",
        "WHERE endpoint = \"Admin\"\n",
        "AND status &gt; 399\n",
        "GROUP BY status\n",
        "ORDER BY status</pre>"
       ],
       "metadata": {},
       "output_type": "pyout",
       "prompt_number": 7,
       "text": [
        "SELECT status, count(status) statcount\n",
        "FROM [cloud-datalab:sampledata.requestlogs_20140615]\n",
        "WHERE endpoint = \"Admin\"\n",
        "AND status > 399\n",
        "GROUP BY status\n",
        "ORDER BY status"
       ]
      }
     ],
     "prompt_number": 7
    },
    {
     "cell_type": "code",
     "collapsed": false,
     "input": [
      "bq.query(StatusQueries.ErrorCountByEndpt, args={'endpt':'Other'})"
     ],
     "language": "python",
     "metadata": {},
     "outputs": [
      {
       "html": [
        "<pre>SELECT status, count(status) statcount\n",
        "FROM [cloud-datalab:sampledata.requestlogs_20140615]\n",
        "WHERE endpoint = \"Other\"\n",
        "AND status &gt; 399\n",
        "GROUP BY status\n",
        "ORDER BY status</pre>"
       ],
       "metadata": {},
       "output_type": "pyout",
       "prompt_number": 8,
       "text": [
        "SELECT status, count(status) statcount\n",
        "FROM [cloud-datalab:sampledata.requestlogs_20140615]\n",
        "WHERE endpoint = \"Other\"\n",
        "AND status > 399\n",
        "GROUP BY status\n",
        "ORDER BY status"
       ]
      }
     ],
     "prompt_number": 8
    },
    {
     "cell_type": "markdown",
     "metadata": {},
     "source": [
      "Let's execute the query and put the results into a dataframe."
     ]
    },
    {
     "cell_type": "code",
     "collapsed": false,
     "input": [
      "df = bq.query(StatusQueries.ErrorCountByEndpt, args={'endpt':'Other'}).to_dataframe()\n",
      "df[:10]"
     ],
     "language": "python",
     "metadata": {},
     "outputs": [
      {
       "html": [
        "<div style=\"max-width:1500px;overflow:auto;\">\n",
        "<table border=\"1\" class=\"dataframe\">\n",
        "  <thead>\n",
        "    <tr style=\"text-align: right;\">\n",
        "      <th></th>\n",
        "      <th>status</th>\n",
        "      <th>statcount</th>\n",
        "    </tr>\n",
        "  </thead>\n",
        "  <tbody>\n",
        "    <tr>\n",
        "      <th>0</th>\n",
        "      <td>400</td>\n",
        "      <td>1427</td>\n",
        "    </tr>\n",
        "    <tr>\n",
        "      <th>1</th>\n",
        "      <td>401</td>\n",
        "      <td>20</td>\n",
        "    </tr>\n",
        "    <tr>\n",
        "      <th>2</th>\n",
        "      <td>404</td>\n",
        "      <td>11860</td>\n",
        "    </tr>\n",
        "    <tr>\n",
        "      <th>3</th>\n",
        "      <td>405</td>\n",
        "      <td>27</td>\n",
        "    </tr>\n",
        "    <tr>\n",
        "      <th>4</th>\n",
        "      <td>500</td>\n",
        "      <td>325</td>\n",
        "    </tr>\n",
        "    <tr>\n",
        "      <th>5</th>\n",
        "      <td>503</td>\n",
        "      <td>36</td>\n",
        "    </tr>\n",
        "  </tbody>\n",
        "</table>\n",
        "</div>"
       ],
       "metadata": {},
       "output_type": "pyout",
       "prompt_number": 9,
       "text": [
        "   status  statcount\n",
        "0     400       1427\n",
        "1     401         20\n",
        "2     404      11860\n",
        "3     405         27\n",
        "4     500        325\n",
        "5     503         36"
       ]
      }
     ],
     "prompt_number": 9
    },
    {
     "cell_type": "heading",
     "level": 1,
     "metadata": {},
     "source": [
      "Exploratory Query in Module"
     ]
    },
    {
     "cell_type": "markdown",
     "metadata": {},
     "source": [
      "Sometimes it is convenient to just try out the queries defined in a module right there in the same cell that defines the module. You can add a query at the end without a name. When the cell is executed, the last, unnamed query will be run in addition to the module definition being added to the notebook state.\n",
      "Here we will reuse the same queries with a different module name and add one more query at the end without a name."
     ]
    },
    {
     "cell_type": "code",
     "collapsed": false,
     "input": [
      "%%sql --name StatusQueries2\n",
      "endpt = 'Admin'\n",
      "stat = 401\n",
      "\n",
      "DEFINE QUERY ErrorCountByEndpt\n",
      "SELECT status, count(status) statcount\n",
      "FROM [cloud-datalab:sampledata.requestlogs_20140615]\n",
      "WHERE endpoint = $endpt\n",
      "AND status > 399\n",
      "GROUP BY status\n",
      "ORDER BY status\n",
      "\n",
      "SELECT *\n",
      "FROM $ErrorCountByEndpt\n",
      "WHERE status = 500"
     ],
     "language": "python",
     "metadata": {},
     "outputs": [],
     "prompt_number": 10
    },
    {
     "cell_type": "markdown",
     "metadata": {},
     "source": [
      "The last query without \"DEFINE QUERY\" and name becomes the default query of the module and can be executed as follows in another cell."
     ]
    },
    {
     "cell_type": "code",
     "collapsed": false,
     "input": [
      "%bigquery execute --sql StatusQueries2"
     ],
     "language": "python",
     "metadata": {},
     "outputs": [
      {
       "html": [
        "\n",
        "    <div class=\"bqtv\" id=\"bqtv_144020427118\"></div>\n",
        "    <div><br />job_a0Gm1dGc9n96idWvQRg1n69BXsQ<br />rows: 1</div>\n",
        "    <script>\n",
        "      require(['extensions/charting', 'element!bqtv_144020427118', 'style!/static/extensions/charting.css'],\n",
        "        function(charts, dom) {\n",
        "          charts.render(dom,\n",
        "            {\n",
        "              chartStyle:\"table\",\n",
        "              dataName:\"data-studio-team:_22cae82edc27e9be9a02c50fe9837efda6b0471d.anon55d728ad4e4a1fac937dd9f6315bfed0ffc58fa0\",\n",
        "              fields:\"status,statcount\",\n",
        "              totalRows:1,\n",
        "              rowsPerPage:25,\n",
        "            }, {}, {\"rows\": [{\"c\": [{\"v\": 500}, {\"v\": 24}]}], \"cols\": [{\"type\": \"number\", \"id\": \"status\", \"label\": \"status\"}, {\"type\": \"number\", \"id\": \"statcount\", \"label\": \"statcount\"}]});\n",
        "        }\n",
        "      );\n",
        "    </script>\n",
        "  "
       ],
       "metadata": {},
       "output_type": "pyout",
       "prompt_number": 11,
       "text": []
      }
     ],
     "prompt_number": 11
    }
   ],
   "metadata": {}
  }
 ]
}