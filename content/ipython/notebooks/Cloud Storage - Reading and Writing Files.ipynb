{
 "metadata": {
  "name": "",
  "signature": "sha256:b3d8692c6f85746aa59eb4658f8e4ecdbc12def2b3daf713e03b44e2fa915dd1"
 },
 "nbformat": 3,
 "nbformat_minor": 0,
 "worksheets": [
  {
   "cells": [
    {
     "cell_type": "markdown",
     "metadata": {},
     "source": [
      "# Cloud Storage - Reading and Writing Files\n",
      "\n",
      "You can easily read and write files (eg. csv or json files) from Google Cloud Storage, to work with data stored as files in storage, and like with BigQuery, use the resulting data with python data analysis libraries.\n",
      "\n",
      "----"
     ]
    },
    {
     "cell_type": "code",
     "collapsed": false,
     "input": [],
     "language": "python",
     "metadata": {},
     "outputs": []
    }
   ],
   "metadata": {}
  }
 ]
}