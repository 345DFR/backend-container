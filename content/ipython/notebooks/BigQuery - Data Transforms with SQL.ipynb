{
 "metadata": {
  "name": "",
  "signature": "sha256:874f032452f221d798be99992260f2ad311d1c746d8e789d611c4b2dd7f665a5"
 },
 "nbformat": 3,
 "nbformat_minor": 0,
 "worksheets": [
  {
   "cells": [
    {
     "cell_type": "markdown",
     "metadata": {},
     "source": [
      "# BigQuery - Data Transforms with SQL\n",
      "\n",
      "This notebook demonstrates how you can run a SQL query within BigQuery and save the results into another table. This allows you to perform ETL-like tasks completely within BigQuery to prepare or clean data or to get it ready for further analysis and use.\n",
      "\n",
      "This notebook uses a sample dataset of request logs data from a web server.\n",
      "\n",
      "Related Links:\n",
      "\n",
      "* [BigQuery](https://cloud.google.com/bigquery/)\n",
      "* BigQuery [SQL reference](https://cloud.google.com/bigquery/query-reference)\n",
      "\n",
      "----\n",
      "\n",
      "NOTE:\n",
      "\n",
      "* If you're new to notebooks, or want to check out additional samples, check out the full [list](..) of notebooks."
     ]
    },
    {
     "cell_type": "code",
     "collapsed": false,
     "input": [
      "import gcp\n",
      "import gcp.bigquery as bq"
     ],
     "language": "python",
     "metadata": {},
     "outputs": [],
     "prompt_number": 1
    },
    {
     "cell_type": "heading",
     "level": 1,
     "metadata": {},
     "source": [
      "Extract"
     ]
    },
    {
     "cell_type": "markdown",
     "metadata": {},
     "source": [
      "The source of data is logs with the following schema. Separate \"extract\" step of ETL is not required since the data is already in BigQuery."
     ]
    },
    {
     "cell_type": "code",
     "collapsed": false,
     "input": [
      "logs_table = bq.table('cloud-datalab:sampledata.requestlogs_20140616')\n",
      "logs_table.schema"
     ],
     "language": "python",
     "metadata": {},
     "outputs": [
      {
       "html": [
        "\n",
        "    <div class=\"bqsv\" id=\"bqsv144020420060\"></div>\n",
        "    <script>\n",
        "      require(['extensions/bigquery', 'element!bqsv144020420060', 'style!/static/extensions/bigquery.css'],\n",
        "          function(bq, dom) {\n",
        "              bq.renderSchema(dom, [{\"type\": \"TIMESTAMP\", \"name\": \"timestamp\"}, {\"type\": \"INTEGER\", \"name\": \"latency\"}, {\"type\": \"INTEGER\", \"name\": \"status\"}, {\"type\": \"STRING\", \"name\": \"method\"}, {\"type\": \"STRING\", \"name\": \"endpoint\"}]);\n",
        "          }\n",
        "      );\n",
        "    </script>\n",
        "    "
       ],
       "metadata": {},
       "output_type": "pyout",
       "prompt_number": 2,
       "text": [
        "[{ 'name': 'timestamp', 'type': 'TIMESTAMP', 'mode':'None', 'description': 'None' },\n",
        " { 'name': 'latency', 'type': 'INTEGER', 'mode':'None', 'description': 'None' },\n",
        " { 'name': 'status', 'type': 'INTEGER', 'mode':'None', 'description': 'None' },\n",
        " { 'name': 'method', 'type': 'STRING', 'mode':'None', 'description': 'None' },\n",
        " { 'name': 'endpoint', 'type': 'STRING', 'mode':'None', 'description': 'None' }]"
       ]
      }
     ],
     "prompt_number": 2
    },
    {
     "cell_type": "heading",
     "level": 1,
     "metadata": {},
     "source": [
      "Transform"
     ]
    },
    {
     "cell_type": "markdown",
     "metadata": {},
     "source": [
      "This data needs to be shaped for the purpose of tracking errors and associated endpoints over time. In this simple example, we will use a query that filters out successful requests and projects out columns relevant for error tracking. For more complex transformations, see query composition and UDF sample notebooks."
     ]
    },
    {
     "cell_type": "code",
     "collapsed": false,
     "input": [
      "%%sql --name log_transform\n",
      "SELECT endpoint, method, status, timestamp\n",
      "FROM $logs_table\n",
      "WHERE status >= 400"
     ],
     "language": "python",
     "metadata": {},
     "outputs": [],
     "prompt_number": 3
    },
    {
     "cell_type": "markdown",
     "metadata": {},
     "source": [
      "Let's test the query results before proceeding with loading of data"
     ]
    },
    {
     "cell_type": "code",
     "collapsed": false,
     "input": [
      "query = bq.query(log_transform, {'logs_table': logs_table})\n",
      "query.sample()"
     ],
     "language": "python",
     "metadata": {},
     "outputs": [
      {
       "html": [
        "\n",
        "    <div class=\"bqtv\" id=\"bqtv_144020420061\"></div>\n",
        "    <div><br />job_xnaW-84WKRu4NAp2vtkshUpFj3g<br />rows: 5</div>\n",
        "    <script>\n",
        "      require(['extensions/charting', 'element!bqtv_144020420061', 'style!/static/extensions/charting.css'],\n",
        "        function(charts, dom) {\n",
        "          charts.render(dom,\n",
        "            {\n",
        "              chartStyle:\"table\",\n",
        "              dataName:\"data-studio-team:_22cae82edc27e9be9a02c50fe9837efda6b0471d.anon3ecb2aeaf9bf9cbd560e3300296791136cf24862\",\n",
        "              fields:\"endpoint,method,status,timestamp\",\n",
        "              totalRows:5,\n",
        "              rowsPerPage:25,\n",
        "            }, {}, {\"rows\": [{\"c\": [{\"v\": \"Interact3\"}, {\"v\": \"GET\"}, {\"v\": 500}, {\"v\": \"2014-06-16T19:12:42.300105\"}]}, {\"c\": [{\"v\": \"Interact3\"}, {\"v\": \"GET\"}, {\"v\": 500}, {\"v\": \"2014-06-16T19:12:43.743248\"}]}, {\"c\": [{\"v\": \"Interact3\"}, {\"v\": \"GET\"}, {\"v\": 500}, {\"v\": \"2014-06-16T19:12:44.076436\"}]}, {\"c\": [{\"v\": \"Interact3\"}, {\"v\": \"GET\"}, {\"v\": 500}, {\"v\": \"2014-06-16T19:12:44.192970\"}]}, {\"c\": [{\"v\": \"Interact3\"}, {\"v\": \"GET\"}, {\"v\": 500}, {\"v\": \"2014-06-16T19:12:44.250040\"}]}], \"cols\": [{\"type\": \"string\", \"id\": \"endpoint\", \"label\": \"endpoint\"}, {\"type\": \"string\", \"id\": \"method\", \"label\": \"method\"}, {\"type\": \"number\", \"id\": \"status\", \"label\": \"status\"}, {\"type\": \"datetime\", \"id\": \"timestamp\", \"label\": \"timestamp\"}]});\n",
        "        }\n",
        "      );\n",
        "    </script>\n",
        "  "
       ],
       "metadata": {},
       "output_type": "pyout",
       "prompt_number": 4,
       "text": []
      }
     ],
     "prompt_number": 4
    },
    {
     "cell_type": "heading",
     "level": 1,
     "metadata": {},
     "source": [
      "Load"
     ]
    },
    {
     "cell_type": "markdown",
     "metadata": {},
     "source": [
      "Let us create a dataset in the current project. This is an idempotent operation and returns the dataset if it already exists."
     ]
    },
    {
     "cell_type": "code",
     "collapsed": false,
     "input": [
      "target_ds = bq.dataset('output').create()"
     ],
     "language": "python",
     "metadata": {},
     "outputs": [],
     "prompt_number": 5
    },
    {
     "cell_type": "markdown",
     "metadata": {},
     "source": [
      "A new dataset is created in the current project for the output. You can cross-check that using BigQuery console. Next step is to execute the log_transform query and directly load the results into a BigQuery table in the newly created dataset. For idempotence, we specify that the table should be overwritten if it exists. We use the execute_async method which returns a job that we then wait on."
     ]
    },
    {
     "cell_type": "code",
     "collapsed": false,
     "input": [
      "job = query.execute_async('output.transformedlogs_20140616', table_mode='overwrite')\n",
      "job.wait()"
     ],
     "language": "python",
     "metadata": {},
     "outputs": [
      {
       "metadata": {},
       "output_type": "pyout",
       "prompt_number": 6,
       "text": [
        "Job job_eeJJAdNaFhwWV84KvHhd4Qlbe9A completed"
       ]
      }
     ],
     "prompt_number": 6
    },
    {
     "cell_type": "markdown",
     "metadata": {},
     "source": [
      "Job completion time will depend on how much data is being processed. The following check is important to run to see if there were any errors when running the job:"
     ]
    },
    {
     "cell_type": "code",
     "collapsed": false,
     "input": [
      "job.errors"
     ],
     "language": "python",
     "metadata": {},
     "outputs": [],
     "prompt_number": 7
    },
    {
     "cell_type": "code",
     "collapsed": false,
     "input": [
      "%%sql\n",
      "SELECT *\n",
      "FROM [output.transformedlogs_20140616]\n",
      "LIMIT 5"
     ],
     "language": "python",
     "metadata": {},
     "outputs": [
      {
       "html": [
        "\n",
        "    <div class=\"bqtv\" id=\"bqtv_144020420062\"></div>\n",
        "    <div><br />job_CoBk6twB3BSnETQYzgygEd2NE-U<br />rows: 5</div>\n",
        "    <script>\n",
        "      require(['extensions/charting', 'element!bqtv_144020420062', 'style!/static/extensions/charting.css'],\n",
        "        function(charts, dom) {\n",
        "          charts.render(dom,\n",
        "            {\n",
        "              chartStyle:\"table\",\n",
        "              dataName:\"data-studio-team:_22cae82edc27e9be9a02c50fe9837efda6b0471d.anona4ca276fb0b8882216ef256a5a9d6109bfebb403\",\n",
        "              fields:\"endpoint,method,status,timestamp\",\n",
        "              totalRows:5,\n",
        "              rowsPerPage:25,\n",
        "            }, {}, {\"rows\": [{\"c\": [{\"v\": \"Interact3\"}, {\"v\": \"GET\"}, {\"v\": 500}, {\"v\": \"2014-06-16T23:20:31.672194\"}]}, {\"c\": [{\"v\": \"Interact3\"}, {\"v\": \"GET\"}, {\"v\": 500}, {\"v\": \"2014-06-16T23:20:31.729685\"}]}, {\"c\": [{\"v\": \"Interact3\"}, {\"v\": \"GET\"}, {\"v\": 403}, {\"v\": \"2014-06-16T23:20:31.844348\"}]}, {\"c\": [{\"v\": \"Interact3\"}, {\"v\": \"GET\"}, {\"v\": 500}, {\"v\": \"2014-06-16T23:20:31.961416\"}]}, {\"c\": [{\"v\": \"Interact3\"}, {\"v\": \"GET\"}, {\"v\": 500}, {\"v\": \"2014-06-16T23:20:32.645598\"}]}], \"cols\": [{\"type\": \"string\", \"id\": \"endpoint\", \"label\": \"endpoint\"}, {\"type\": \"string\", \"id\": \"method\", \"label\": \"method\"}, {\"type\": \"number\", \"id\": \"status\", \"label\": \"status\"}, {\"type\": \"datetime\", \"id\": \"timestamp\", \"label\": \"timestamp\"}]});\n",
        "        }\n",
        "      );\n",
        "    </script>\n",
        "  "
       ],
       "metadata": {},
       "output_type": "pyout",
       "prompt_number": 8,
       "text": []
      }
     ],
     "prompt_number": 8
    },
    {
     "cell_type": "code",
     "collapsed": false,
     "input": [],
     "language": "python",
     "metadata": {},
     "outputs": [],
     "prompt_number": 8
    }
   ],
   "metadata": {}
  }
 ]
}