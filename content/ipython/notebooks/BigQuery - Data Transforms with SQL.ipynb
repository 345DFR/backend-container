{
 "metadata": {
  "name": "",
  "signature": "sha256:6fedf1afe8e8e05a3f58ee06c418751e817af86b3c33ae44bca8c8343a5d7fff"
 },
 "nbformat": 3,
 "nbformat_minor": 0,
 "worksheets": [
  {
   "cells": [
    {
     "cell_type": "markdown",
     "metadata": {},
     "source": [
      "# BigQuery - Data Transforms with SQL\n",
      "\n",
      "This notebook demonstrates how you can run a SQL query within BigQuery and save the results into another table. This allows you to perform ETL-like tasks completely within BigQuery to prepare or clean data or to get it ready for further analysis and use.\n",
      "\n",
      "This notebook uses a sample dataset of request logs data from a web server.\n",
      "\n",
      "Related Links:\n",
      "\n",
      "* [BigQuery](https://cloud.google.com/bigquery/)\n",
      "* BigQuery [SQL reference](https://cloud.google.com/bigquery/query-reference)\n",
      "\n",
      "----\n",
      "\n",
      "NOTE:\n",
      "\n",
      "* If you're new to notebooks, or want to check out additional samples, check out the full [list](..) of notebooks."
     ]
    },
    {
     "cell_type": "code",
     "collapsed": false,
     "input": [
      "import gcp\n",
      "import gcp.bigquery as bq"
     ],
     "language": "python",
     "metadata": {},
     "outputs": [],
     "prompt_number": 15
    },
    {
     "cell_type": "heading",
     "level": 1,
     "metadata": {},
     "source": [
      "Extract"
     ]
    },
    {
     "cell_type": "markdown",
     "metadata": {},
     "source": [
      "The source of data is logs with the following schema. Separate \"extract\" step of ETL is not required since the data is already in BigQuery."
     ]
    },
    {
     "cell_type": "code",
     "collapsed": false,
     "input": [
      "logs_table = bq.table('cloud-datalab:sampledata.requestlogs_20140616')\n",
      "logs_table.schema"
     ],
     "language": "python",
     "metadata": {},
     "outputs": [
      {
       "html": [
        "\n",
        "    <div class=\"bqsv\" id=\"bqsv1430785303\"></div>\n",
        "    <script>\n",
        "      require(['style!/static/extensions/bigquery.css', 'extensions/bigquery', 'element!bqsv1430785303'],\n",
        "          function(_, bq, dom) {\n",
        "              bq.renderSchema(dom, [{\"type\": \"TIMESTAMP\", \"name\": \"timestamp\"}, {\"type\": \"INTEGER\", \"name\": \"latency\"}, {\"type\": \"INTEGER\", \"name\": \"status\"}, {\"type\": \"STRING\", \"name\": \"method\"}, {\"type\": \"STRING\", \"name\": \"endpoint\"}]);\n",
        "          }\n",
        "      );\n",
        "    </script>\n",
        "    "
       ],
       "metadata": {},
       "output_type": "pyout",
       "prompt_number": 16,
       "text": [
        "[{ 'name': 'timestamp', 'type': 'TIMESTAMP', 'mode':'None', 'description': 'None' },\n",
        " { 'name': 'latency', 'type': 'INTEGER', 'mode':'None', 'description': 'None' },\n",
        " { 'name': 'status', 'type': 'INTEGER', 'mode':'None', 'description': 'None' },\n",
        " { 'name': 'method', 'type': 'STRING', 'mode':'None', 'description': 'None' },\n",
        " { 'name': 'endpoint', 'type': 'STRING', 'mode':'None', 'description': 'None' }]"
       ]
      }
     ],
     "prompt_number": 16
    },
    {
     "cell_type": "heading",
     "level": 1,
     "metadata": {},
     "source": [
      "Transform"
     ]
    },
    {
     "cell_type": "markdown",
     "metadata": {},
     "source": [
      "This data needs to be shaped for the purpose of tracking errors and associated endpoints over time. In this simple example, we will use a query that filters out successful requests and projects out columns relevant for error tracking. For more complex transformations, see query composition and UDF sample notebooks."
     ]
    },
    {
     "cell_type": "code",
     "collapsed": false,
     "input": [
      "%%bigquery sql --name log_transform\n",
      "SELECT endpoint, method, status, timestamp\n",
      "FROM $logs_table\n",
      "WHERE status >= 400"
     ],
     "language": "python",
     "metadata": {},
     "outputs": [],
     "prompt_number": 17
    },
    {
     "cell_type": "markdown",
     "metadata": {},
     "source": [
      "Let's test the query results before proceeding with loading of data"
     ]
    },
    {
     "cell_type": "code",
     "collapsed": false,
     "input": [
      "log_transform.sample()"
     ],
     "language": "python",
     "metadata": {},
     "outputs": [
      {
       "html": [
        "\n",
        "    <div class=\"bqtv\" id=\"bqtv_1430788302\"></div>\n",
        "    <div><br />job_pDLrpXeKjXy_J4Ql2AJ3m4DUHAM<br />rows: 5</div>\n",
        "    <script>\n",
        "      require(['extensions/charting', 'element!bqtv_1430788302'],\n",
        "        function(charts, dom) {\n",
        "          charts.render(dom,\n",
        "            {\n",
        "              chartStyle:\"paged_table\",\n",
        "              dataName:\"data-studio-team:_fd291dd0cac8b06ba0b4f6d67bc5f1fdf63db05e.anon984675177ccd1913ffba2947766f3ea9e0a57420\",\n",
        "              fields:\"endpoint,method,status,timestamp\",\n",
        "              totalRows:5,\n",
        "              rowsPerPage:25,\n",
        "            }, {}, {\"rows\": [{\"c\": [{\"v\": \"Interact3\"}, {\"v\": \"GET\"}, {\"v\": 500}, {\"v\": \"2014-06-16T23:20:31.672194\"}]}, {\"c\": [{\"v\": \"Interact3\"}, {\"v\": \"GET\"}, {\"v\": 500}, {\"v\": \"2014-06-16T23:20:31.729685\"}]}, {\"c\": [{\"v\": \"Interact3\"}, {\"v\": \"GET\"}, {\"v\": 403}, {\"v\": \"2014-06-16T23:20:31.844348\"}]}, {\"c\": [{\"v\": \"Interact3\"}, {\"v\": \"GET\"}, {\"v\": 500}, {\"v\": \"2014-06-16T23:20:31.961416\"}]}, {\"c\": [{\"v\": \"Interact3\"}, {\"v\": \"GET\"}, {\"v\": 500}, {\"v\": \"2014-06-16T23:20:32.645598\"}]}], \"cols\": [{\"type\": \"string\", \"id\": \"endpoint\", \"label\": \"endpoint\"}, {\"type\": \"string\", \"id\": \"method\", \"label\": \"method\"}, {\"type\": \"number\", \"id\": \"status\", \"label\": \"status\"}, {\"type\": \"datetime\", \"id\": \"timestamp\", \"label\": \"timestamp\"}]});\n",
        "        }\n",
        "      );\n",
        "    </script>\n",
        "  "
       ],
       "metadata": {},
       "output_type": "pyout",
       "prompt_number": 24,
       "text": []
      }
     ],
     "prompt_number": 24
    },
    {
     "cell_type": "heading",
     "level": 1,
     "metadata": {},
     "source": [
      "Load"
     ]
    },
    {
     "cell_type": "markdown",
     "metadata": {},
     "source": [
      "Let us create a dataset in the current project. This is an idempotent operation and returns the dataset if it already exists."
     ]
    },
    {
     "cell_type": "code",
     "collapsed": false,
     "input": [
      "target_ds = bq.dataset('output').create()"
     ],
     "language": "python",
     "metadata": {},
     "outputs": [],
     "prompt_number": 19
    },
    {
     "cell_type": "markdown",
     "metadata": {},
     "source": [
      "A new dataset is created in the current project for the output. You can cross-check that using BigQuery console. Next step is to execute the log_transform query and directly load the results into a BigQuery table in the newly created dataset. For idempotence, append is set to False while overwrite is set to True. Execute operation is async and returns a job that can be checked for completion and errors."
     ]
    },
    {
     "cell_type": "code",
     "collapsed": false,
     "input": [
      "job = log_transform.execute('output.transformedlogs_20140616', False, True)"
     ],
     "language": "python",
     "metadata": {},
     "outputs": [],
     "prompt_number": 20
    },
    {
     "cell_type": "markdown",
     "metadata": {},
     "source": [
      "Job completion time will depend on how much data is being processed. The following check is important to run before expecting results."
     ]
    },
    {
     "cell_type": "code",
     "collapsed": false,
     "input": [
      "job.wait()"
     ],
     "language": "python",
     "metadata": {},
     "outputs": [
      {
       "metadata": {},
       "output_type": "pyout",
       "prompt_number": 25,
       "text": [
        "True"
       ]
      }
     ],
     "prompt_number": 25
    },
    {
     "cell_type": "code",
     "collapsed": false,
     "input": [
      "%%bigquery sql\n",
      "SELECT *\n",
      "FROM [output.transformedlogs_20140616]\n",
      "LIMIT 5"
     ],
     "language": "python",
     "metadata": {},
     "outputs": [
      {
       "html": [
        "\n",
        "    <div class=\"bqtv\" id=\"bqtv_1430785305\"></div>\n",
        "    <div><br />job_abadEfHuHmWFXlHAn2oKkEJuhfs<br />rows: 5</div>\n",
        "    <script>\n",
        "      require(['extensions/charting', 'element!bqtv_1430785305'],\n",
        "        function(charts, dom) {\n",
        "          charts.render(dom,\n",
        "            {\n",
        "              chartStyle:\"paged_table\",\n",
        "              dataName:\"data-studio-team:_fd291dd0cac8b06ba0b4f6d67bc5f1fdf63db05e.anon77a17fa2b3667e191cb14649fded061b249cb30c\",\n",
        "              fields:\"endpoint,method,status,timestamp\",\n",
        "              totalRows:5,\n",
        "              rowsPerPage:25,\n",
        "            }, {}, {\"rows\": [{\"c\": [{\"v\": \"Interact3\"}, {\"v\": \"GET\"}, {\"v\": 500}, {\"v\": \"2014-06-16T23:20:31.672194\"}]}, {\"c\": [{\"v\": \"Interact3\"}, {\"v\": \"GET\"}, {\"v\": 500}, {\"v\": \"2014-06-16T23:20:31.729685\"}]}, {\"c\": [{\"v\": \"Interact3\"}, {\"v\": \"GET\"}, {\"v\": 403}, {\"v\": \"2014-06-16T23:20:31.844348\"}]}, {\"c\": [{\"v\": \"Interact3\"}, {\"v\": \"GET\"}, {\"v\": 500}, {\"v\": \"2014-06-16T23:20:31.961416\"}]}, {\"c\": [{\"v\": \"Interact3\"}, {\"v\": \"GET\"}, {\"v\": 500}, {\"v\": \"2014-06-16T23:20:32.645598\"}]}], \"cols\": [{\"type\": \"string\", \"id\": \"endpoint\", \"label\": \"endpoint\"}, {\"type\": \"string\", \"id\": \"method\", \"label\": \"method\"}, {\"type\": \"number\", \"id\": \"status\", \"label\": \"status\"}, {\"type\": \"datetime\", \"id\": \"timestamp\", \"label\": \"timestamp\"}]});\n",
        "        }\n",
        "      );\n",
        "    </script>\n",
        "  "
       ],
       "metadata": {},
       "output_type": "pyout",
       "prompt_number": 22,
       "text": []
      }
     ],
     "prompt_number": 22
    },
    {
     "cell_type": "code",
     "collapsed": false,
     "input": [],
     "language": "python",
     "metadata": {},
     "outputs": [],
     "prompt_number": 22
    }
   ],
   "metadata": {}
  }
 ]
}