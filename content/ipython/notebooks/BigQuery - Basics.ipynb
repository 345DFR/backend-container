{
 "metadata": {
  "name": "",
  "signature": "sha256:e438bf7e73f4adb0c577e1abf0e1c2f457a5fc488befb56685254c7f307c47f0"
 },
 "nbformat": 3,
 "nbformat_minor": 0,
 "worksheets": [
  {
   "cells": [
    {
     "cell_type": "markdown",
     "metadata": {},
     "source": [
      "# BigQuery - Basics\n",
      "\n",
      "This notebook demonstrates how you can quickly get started using BigQuery, exploring tables, schema and data, as well as how you can integrate BigQuery results with the world of python data analysis and visualization - all within a notebook.\n",
      "\n",
      "----"
     ]
    },
    {
     "cell_type": "code",
     "collapsed": false,
     "input": [],
     "language": "python",
     "metadata": {},
     "outputs": []
    }
   ],
   "metadata": {}
  }
 ]
}