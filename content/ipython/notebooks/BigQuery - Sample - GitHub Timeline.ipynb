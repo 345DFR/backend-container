{
 "metadata": {
  "name": "",
  "signature": "sha256:2fdcab15758c3519b8d7b88c4b4f25be7a35cd9bb7b6be0b85168a65a5f4c8cb"
 },
 "nbformat": 3,
 "nbformat_minor": 0,
 "worksheets": [
  {
   "cells": [
    {
     "cell_type": "markdown",
     "metadata": {},
     "source": [
      "# BigQuery - Sample - GitHub Timeline\n",
      "\n",
      "This notebook demonstrates working with GitHub activity made possible via the publicly accessible GitHub Timeline BigQuery dataset.\n",
      "\n",
      "----"
     ]
    },
    {
     "cell_type": "code",
     "collapsed": false,
     "input": [],
     "language": "python",
     "metadata": {},
     "outputs": []
    }
   ],
   "metadata": {}
  }
 ]
}