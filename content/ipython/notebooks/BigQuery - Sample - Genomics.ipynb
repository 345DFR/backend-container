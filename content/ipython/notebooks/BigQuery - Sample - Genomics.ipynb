{
 "metadata": {
  "name": "",
  "signature": "sha256:d8ed7cff9c4964fedf3c41f606c032dd124786c578215287abc9e8843f2a89ad"
 },
 "nbformat": 3,
 "nbformat_minor": 0,
 "worksheets": [
  {
   "cells": [
    {
     "cell_type": "markdown",
     "metadata": {},
     "source": [
      "# BigQuery - Sample - Genomics\n",
      "\n",
      "This notebook demonstrates working with sample gene data stored as publicly accessible BigQuery datasets.\n",
      "\n",
      "----"
     ]
    },
    {
     "cell_type": "code",
     "collapsed": false,
     "input": [],
     "language": "python",
     "metadata": {},
     "outputs": []
    }
   ],
   "metadata": {}
  }
 ]
}